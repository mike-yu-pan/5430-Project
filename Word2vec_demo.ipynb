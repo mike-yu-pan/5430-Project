{
 "cells": [
  {
   "cell_type": "code",
   "execution_count": 1,
   "id": "adff3969",
   "metadata": {},
   "outputs": [
    {
     "data": {
      "text/plain": [
       "\" !pip install -U pyspark\\nfrom pyspark.sql import SparkSession\\nimport os\\nimport sys\\nos.environ['PYSPARK_PYTHON'] = sys.executable\\nos.environ['PYSPARK_DRIVER_PYTHON'] = sys.executable \""
      ]
     },
     "execution_count": 1,
     "metadata": {},
     "output_type": "execute_result"
    }
   ],
   "source": [
    "\"\"\" !pip install -U pyspark\n",
    "from pyspark.sql import SparkSession\n",
    "import os\n",
    "import sys\n",
    "os.environ['PYSPARK_PYTHON'] = sys.executable\n",
    "os.environ['PYSPARK_DRIVER_PYTHON'] = sys.executable \"\"\""
   ]
  },
  {
   "cell_type": "markdown",
   "id": "d0e71aa4",
   "metadata": {},
   "source": [
    "# StreamQuest Movie Plot Searching System\n",
    "This application is created for movie studios to check the latest trends in the movie industry......"
   ]
  },
  {
   "cell_type": "markdown",
   "id": "258f893e",
   "metadata": {},
   "source": [
    "## Section 1. Word2vec Movie Recommender Model Training\n",
    "The first part of this notebook is dedicated to data cleaning and trainning the word2vec model to create the following three tools for the studio writers and executives: \n",
    "1. Basic movie recommender: The user input one movie; and the system recommends 10 other movies with similar plotlines. \n",
    "2. Advance movie recommender: The user input two movies; and the system recommends 10 other movies with plotlines that are similar to the combination of these two movies. \n",
    "3. Duplicate plot checker: The user input his/her script for a new movie idea, and the system checks if his/her idea has already been produced in a previous movie. \n"
   ]
  },
  {
   "cell_type": "markdown",
   "id": "11267477",
   "metadata": {},
   "source": [
    "### 1.1 Data cleaning\n",
    "There are three data sources used in this section: \n",
    "1. IMDB: used for matching movie name and ID\n",
    "2. Details: contains plot summaries, synopsis and movie ID, both summaries and synopsis will be used for trainning\n",
    "3. Wiki_Plot: contains plots and movie name, used for trainning\n",
    "\n",
    "Note that there might be multiple entries for a same movie because multiple authors might have written summaries for it. "
   ]
  },
  {
   "cell_type": "code",
   "execution_count": 2,
   "id": "11a81153",
   "metadata": {},
   "outputs": [],
   "source": [
    "path_to_imdb_dataset = '/Users/yupan/Library/CloudStorage/OneDrive-Personal/Academic/5430/data/title.basics.tsv.gz'\n",
    "path_to_plots_dataset = '/Users/yupan/Library/CloudStorage/OneDrive-Personal/Academic/5430/data/wiki_movie_plots_deduped.csv'\n",
    "path_to_details_dataset = '/Users/yupan/Library/CloudStorage/OneDrive-Personal/Academic/5430/data/IMDB_movie_details.json'"
   ]
  },
  {
   "cell_type": "code",
   "execution_count": 3,
   "id": "ccd85faf",
   "metadata": {},
   "outputs": [
    {
     "name": "stderr",
     "output_type": "stream",
     "text": [
      "23/08/10 08:52:33 WARN Utils: Your hostname, Yus-MacBook-Air-2.local resolves to a loopback address: 127.0.0.1; using 192.168.181.65 instead (on interface en0)\n",
      "23/08/10 08:52:33 WARN Utils: Set SPARK_LOCAL_IP if you need to bind to another address\n",
      "Setting default log level to \"WARN\".\n",
      "To adjust logging level use sc.setLogLevel(newLevel). For SparkR, use setLogLevel(newLevel).\n",
      "23/08/10 08:52:34 WARN NativeCodeLoader: Unable to load native-hadoop library for your platform... using builtin-java classes where applicable\n"
     ]
    },
    {
     "name": "stdout",
     "output_type": "stream",
     "text": [
      "Using Apache Spark Version 3.4.1\n"
     ]
    }
   ],
   "source": [
    "from pyspark.sql import SparkSession\n",
    "import pyspark.sql.functions as F\n",
    "\n",
    "spark = SparkSession.builder.getOrCreate()\n",
    "print(\"Using Apache Spark Version\", spark.version)"
   ]
  },
  {
   "cell_type": "code",
   "execution_count": 4,
   "id": "055e8fb2",
   "metadata": {},
   "outputs": [
    {
     "name": "stderr",
     "output_type": "stream",
     "text": [
      "                                                                                \r"
     ]
    },
    {
     "name": "stdout",
     "output_type": "stream",
     "text": [
      "there is a total of  637758  movies in the imdb dataset\n",
      "there is a total of  2911  plot descriptions in the details dataset\n"
     ]
    },
    {
     "name": "stderr",
     "output_type": "stream",
     "text": [
      "                                                                                \r"
     ]
    },
    {
     "name": "stdout",
     "output_type": "stream",
     "text": [
      "The joined dataset has  2857  entries\n"
     ]
    },
    {
     "name": "stderr",
     "output_type": "stream",
     "text": [
      "[Stage 20:>                                                         (0 + 1) / 1]\r"
     ]
    },
    {
     "name": "stdout",
     "output_type": "stream",
     "text": [
      "+---------+--------------+--------------------+------------+\n",
      "|       id|         Title|                Plot|      Source|\n",
      "+---------+--------------+--------------------+------------+\n",
      "|tt2294449|22 Jump Street|Following their s...|imdb_details|\n",
      "|tt2294449|22 Jump Street|After making thei...|imdb_details|\n",
      "|tt0120623|  A Bug's Life|On a small island...|imdb_details|\n",
      "+---------+--------------+--------------------+------------+\n",
      "only showing top 3 rows\n",
      "\n"
     ]
    },
    {
     "name": "stderr",
     "output_type": "stream",
     "text": [
      "                                                                                \r"
     ]
    }
   ],
   "source": [
    "# clean & combine the IMDB dataset with details dataset \n",
    "# reading the IMDB dataset\n",
    "imdb = spark.read.options(header = True, inferSchema = True, delimiter = \"\\t\")\\\n",
    "  .csv(path_to_imdb_dataset)\n",
    "# filter the imdb dataset so that only movies are included\n",
    "imdb = imdb.filter(\"titleType = 'movie'\")\\\n",
    "  .select('tconst', 'primaryTitle', 'startYear')\\\n",
    "    .withColumnRenamed('startYear', 'Year')\\\n",
    "      .withColumnRenamed('primaryTitle', 'Title')\\\n",
    "        .dropDuplicates(['Title', 'Year'])\n",
    "print('there is a total of ', imdb.count(), ' movies in the imdb dataset')\n",
    "\n",
    "\n",
    "# reading the details dataset, preserving only three important variables\n",
    "details_summary = spark.read.json(path_to_details_dataset)\n",
    "details_summary = details_summary\\\n",
    "  .select('movie_id','plot_summary')\\\n",
    "    .withColumnRenamed('plot_summary','Plot')\n",
    "\n",
    "# reading the details dataset, preserving only three important variables\n",
    "details_synopsis = spark.read.json(path_to_details_dataset)\n",
    "details_synopsis = details_synopsis.select('movie_id','plot_synopsis')\\\n",
    "  .filter(\"plot_synopsis != ''\")\\\n",
    "    .withColumnRenamed('plot_synopsis', 'Plot')\n",
    "\n",
    "details = details_summary.union(details_synopsis)\n",
    "print('there is a total of ', details.count(), ' plot descriptions in the details dataset')\n",
    "\n",
    "\n",
    "from pyspark.sql.functions import lit\n",
    "# join the imdb with details by matching the unique identifier(e.g. tt0000000)\n",
    "imdb_join_details = imdb.join(details, imdb.tconst == details.movie_id, 'inner')\\\n",
    "  .withColumnRenamed('tconst', 'id')\\\n",
    "    .select('id', 'Title', 'Plot')\\\n",
    "      .withColumn(\"Source\", lit(\"imdb_details\"))\n",
    "\n",
    "print(\"The joined dataset has \", imdb_join_details.count(), \" entries\")\n",
    "# inspect the joined dataset\n",
    "imdb_join_details.show(3)"
   ]
  },
  {
   "cell_type": "code",
   "execution_count": 5,
   "id": "a785ac8e",
   "metadata": {},
   "outputs": [
    {
     "name": "stderr",
     "output_type": "stream",
     "text": [
      "                                                                                \r"
     ]
    },
    {
     "name": "stdout",
     "output_type": "stream",
     "text": [
      "there is a total of  33243  plot descriptions in the wiki_plot dataset\n"
     ]
    },
    {
     "name": "stderr",
     "output_type": "stream",
     "text": [
      "                                                                                \r"
     ]
    },
    {
     "name": "stdout",
     "output_type": "stream",
     "text": [
      "The joined dataset has  25361  entries\n"
     ]
    },
    {
     "name": "stderr",
     "output_type": "stream",
     "text": [
      "[Stage 41:>                                                         (0 + 8) / 8]\r"
     ]
    },
    {
     "name": "stdout",
     "output_type": "stream",
     "text": [
      "+---------+-----+--------------------+---------+\n",
      "|       id|Title|                Plot|   Source|\n",
      "+---------+-----+--------------------+---------+\n",
      "|tt0790799|$9.99|The film mainly f...|wiki_plot|\n",
      "+---------+-----+--------------------+---------+\n",
      "only showing top 1 row\n",
      "\n"
     ]
    },
    {
     "name": "stderr",
     "output_type": "stream",
     "text": [
      "                                                                                \r"
     ]
    }
   ],
   "source": [
    "# clean and combine wiki plot dataset with imdb dataset\n",
    "from pyspark.sql.functions import length\n",
    "# reading the plot dataset, preserving only three important variables\n",
    "wiki_plot = spark.read.options(header = True, inferSchema = True, quote = '\"', escape = '\"', multiLine = True).csv(path_to_plots_dataset)\n",
    "wiki_plot = wiki_plot.select('Title', 'Release Year','Plot')\\\n",
    "  .withColumnRenamed('Release Year', 'Year')\\\n",
    "    .filter(length(wiki_plot['Plot']) >= 200) # filter out the very short plot descriptions\n",
    "print('there is a total of ', wiki_plot.count(), ' plot descriptions in the wiki_plot dataset')\n",
    "\n",
    "\n",
    "# join the imdb with the plot dataset by matching movie titles and release year\n",
    "imdb_join_plot = imdb.join(wiki_plot, [\"Title\", \"Year\"], 'inner')\\\n",
    "  .withColumnRenamed('tconst', 'id')\\\n",
    "    .select('id', 'Title', 'Plot')\\\n",
    "      .withColumn(\"Source\", lit(\"wiki_plot\"))\n",
    "\n",
    "print(\"The joined dataset has \", imdb_join_plot.count(), \" entries\")\n",
    "# inspect the joined dataset\n",
    "imdb_join_plot.show(1)"
   ]
  },
  {
   "cell_type": "code",
   "execution_count": 6,
   "id": "7ad0ae58",
   "metadata": {},
   "outputs": [
    {
     "name": "stderr",
     "output_type": "stream",
     "text": [
      "                                                                                \r"
     ]
    },
    {
     "name": "stdout",
     "output_type": "stream",
     "text": [
      "after merging & cleaning, there is a total of  28218  movie plot entries left in the merged dataset\n"
     ]
    },
    {
     "name": "stderr",
     "output_type": "stream",
     "text": [
      "[Stage 64:>                                                         (0 + 8) / 8]\r"
     ]
    },
    {
     "name": "stdout",
     "output_type": "stream",
     "text": [
      "+---------+-----+--------------------+---------+\n",
      "|       id|Title|                Plot|   Source|\n",
      "+---------+-----+--------------------+---------+\n",
      "|tt0790799|$9.99|The film mainly f...|wiki_plot|\n",
      "+---------+-----+--------------------+---------+\n",
      "only showing top 1 row\n",
      "\n"
     ]
    },
    {
     "name": "stderr",
     "output_type": "stream",
     "text": [
      "                                                                                \r"
     ]
    }
   ],
   "source": [
    "# combine the above two dataset to get the dataset that we will train the model on\n",
    "df = imdb_join_plot.union(imdb_join_details)\n",
    "\n",
    "print('after merging & cleaning, there is a total of ', df.count(), ' movie plot entries left in the merged dataset')\n",
    "# inspect the combined new dataset\n",
    "df.show(1)"
   ]
  },
  {
   "cell_type": "markdown",
   "id": "4cf51036",
   "metadata": {},
   "source": [
    "### 1.2 Trainning Word2vec Model \n",
    "This Word2Vec model is trained using the cleaned data above, the model is fed with around 28,000 entries of texts that describe movie plots. The resulting model will be useful in finding similarities in movie plotlines. "
   ]
  },
  {
   "cell_type": "code",
   "execution_count": 7,
   "id": "5809ac58",
   "metadata": {},
   "outputs": [
    {
     "name": "stderr",
     "output_type": "stream",
     "text": [
      "[Stage 75:>                                                         (0 + 8) / 8]\r"
     ]
    },
    {
     "name": "stdout",
     "output_type": "stream",
     "text": [
      "+---------+-----+--------------------+---------+--------------------+--------------------+--------------------+\n",
      "|       id|Title|                Plot|   Source|           inputText|              tokens|   tokens_sw_removed|\n",
      "+---------+-----+--------------------+---------+--------------------+--------------------+--------------------+\n",
      "|tt0790799|$9.99|The film mainly f...|wiki_plot|The film mainly f...|[the, film, mainl...|[film, mainly, fo...|\n",
      "+---------+-----+--------------------+---------+--------------------+--------------------+--------------------+\n",
      "only showing top 1 row\n",
      "\n"
     ]
    },
    {
     "name": "stderr",
     "output_type": "stream",
     "text": [
      "                                                                                \r"
     ]
    }
   ],
   "source": [
    "# tokenize and remove stop words in this cell\n",
    "from pyspark.ml.feature import RegexTokenizer, StopWordsRemover, Word2Vec\n",
    "\n",
    "# create a new field by copying Plot\n",
    "df = df.withColumn('inputText', F.col('Plot')) \n",
    "\n",
    "# regular expression tokenizer to tokenize inputText into individual tokens (words)\n",
    "regextok = RegexTokenizer(gaps = False, pattern = '\\w+', inputCol = 'inputText', outputCol = 'tokens')\n",
    "\n",
    "# StopWordsRemover to remove stopwords in the list of tokens\n",
    "stopwrmv = StopWordsRemover(inputCol = 'tokens', outputCol = 'tokens_sw_removed')\n",
    "df = regextok.transform(df)\n",
    "df = stopwrmv.transform(df)\n",
    "df.show(1)"
   ]
  },
  {
   "cell_type": "code",
   "execution_count": 8,
   "id": "3e7e668c",
   "metadata": {},
   "outputs": [
    {
     "name": "stderr",
     "output_type": "stream",
     "text": [
      "23/08/10 08:55:40 WARN InstanceBuilder: Failed to load implementation from:dev.ludovic.netlib.blas.JNIBLAS\n",
      "                                                                                \r"
     ]
    }
   ],
   "source": [
    "# train word2vec model, the parameters here can be changed to optimize the model\n",
    "word2vec = Word2Vec(vectorSize = 100, minCount = 5, inputCol = 'tokens_sw_removed', outputCol = 'wordvectors')\n",
    "model = word2vec.fit(df)\n",
    "\n",
    "# using transform to add wordvectors column to dataframe\n",
    "df = model.transform(df)\n",
    "chunks = df.select('id', 'Title','wordvectors', 'Plot', 'Source').limit(30000).collect()"
   ]
  },
  {
   "cell_type": "code",
   "execution_count": 9,
   "id": "5a433ce1",
   "metadata": {},
   "outputs": [],
   "source": [
    "# define function to calculate cosine similarity for later\n",
    "import numpy as np\n",
    "def cossim(v1, v2): \n",
    "  '''\n",
    "      cossim(v1, v2) calculates the cosine similarity between v1 and v1.\n",
    "      If v1 or v2 is a zero vector, it will return 0\n",
    "  '''\n",
    "  if np.dot(v1, v1) == 0 or np.dot(v2, v2) == 0:\n",
    "      return 0.0\n",
    "  return float(np.dot(v1, v2) / np.sqrt(np.dot(v1, v1)) / (np.sqrt(np.dot(v2, v2))))"
   ]
  },
  {
   "cell_type": "markdown",
   "id": "9b98e1a0",
   "metadata": {},
   "source": [
    "### 1.3 Create Basic, Advanced Recommender and Duplicate Plot Checker\n",
    "These three tools use the same model at their core. Therefore, to optimize performance, the implementation will create only a single session when running. "
   ]
  },
  {
   "cell_type": "code",
   "execution_count": 10,
   "id": "fd10102f",
   "metadata": {},
   "outputs": [],
   "source": [
    "# writing a function to obtain the plot string from the plot dataset\n",
    "def acquire_plot(base_movie: str): \n",
    "  # input: a movie name (precise) or a movie id \n",
    "  # output: the movie's plot\n",
    "\n",
    "  if base_movie.startswith(\"tt\"):   # search by movie name\n",
    "    base_movie_row = df.filter(df.id == base_movie).collect()\n",
    "  else:                             # search by movie id\n",
    "    base_movie_row = df.filter(df.Title == base_movie).collect()\n",
    "\n",
    "  if base_movie_row: \n",
    "    movie_plot = base_movie_row[0]['Plot']\n",
    "    return movie_plot\n",
    "  else: \n",
    "    print(\"Sorry, \", base_movie, \" is not found in the database. Please type in exact movie names\")"
   ]
  },
  {
   "cell_type": "code",
   "execution_count": 11,
   "id": "4973a9af",
   "metadata": {},
   "outputs": [],
   "source": [
    "def query_preprocessing(plot: str): \n",
    "  plot_df = spark.createDataFrame([(1, plot)]).toDF('index','inputText')\n",
    "  plot_tok = regextok.transform(plot_df)\n",
    "  plot_swr = stopwrmv.transform(plot_tok)\n",
    "  plot_vec = model.transform(plot_swr)\n",
    "  plot_vec = plot_vec.select('wordvectors').collect()[0][0]\n",
    "  return plot_vec"
   ]
  },
  {
   "cell_type": "markdown",
   "id": "dcb45e02",
   "metadata": {},
   "source": [
    "### 1.3.1 Basic recommender\n",
    "The Basic Recommender only takes in one movie as the only parameter: "
   ]
  },
  {
   "cell_type": "code",
   "execution_count": 12,
   "id": "717173d1",
   "metadata": {},
   "outputs": [
    {
     "name": "stderr",
     "output_type": "stream",
     "text": [
      "                                                                                \r"
     ]
    }
   ],
   "source": [
    "input_user_1 = '2012'    # User input The exact movie name or movie id(e.g. 'tt1023003')\n",
    "basic_movie_plot = acquire_plot(input_user_1)\n",
    "basic_vec = query_preprocessing(basic_movie_plot)"
   ]
  },
  {
   "cell_type": "markdown",
   "id": "4b538bcc",
   "metadata": {},
   "source": [
    "### 1.3.2 Advanced Recommender\n",
    "The Advanced Recommender takes in one extra movie as the second parameter, then our word2vec model will be able to recommend a third movie that has similar plot as the combination of the first two. : "
   ]
  },
  {
   "cell_type": "code",
   "execution_count": 13,
   "id": "39f4126b",
   "metadata": {},
   "outputs": [],
   "source": [
    "input_user_2 = '' #'tt0468569'    # User input The exact movie name or movie id(e.g. 'tt1023003')\n",
    "if input_user_2: \n",
    "  second_movie_plot = acquire_plot(input_user_2)\n",
    "  second_vec = query_preprocessing(second_movie_plot)\n",
    "  combined_vec = basic_vec + second_vec"
   ]
  },
  {
   "cell_type": "markdown",
   "id": "678c02b5",
   "metadata": {},
   "source": [
    "### 1.3.3 Duplicate Plot Checker\n",
    "The duplicate Plot checker is similar to the basic recommender where it finds an existing movie with similar plot as the user's input plot description. "
   ]
  },
  {
   "cell_type": "code",
   "execution_count": 14,
   "id": "2ed4012a",
   "metadata": {},
   "outputs": [],
   "source": [
    "input_user_3 = 'Once upon a time in a crime ridden Gotham City, a member of the rich Wayne family decided to put on a mask and protect the people of Gotham'\n",
    "check_vec = query_preprocessing(input_user_3)"
   ]
  },
  {
   "cell_type": "markdown",
   "id": "5c13ed06",
   "metadata": {},
   "source": [
    "### 1.4 implementation of the above three tools\n",
    "The parameters of the three tools have been created. To optimize performance, the implementation will create only one single session when running. \n",
    "\n",
    "__Note for Meenu__ : the order of the IF clauses in this following cell is important, the user can only run one of the three tools at once. "
   ]
  },
  {
   "cell_type": "code",
   "execution_count": 15,
   "id": "1c628e1f",
   "metadata": {},
   "outputs": [
    {
     "name": "stdout",
     "output_type": "stream",
     "text": [
      "Running Duplicate Plot Checker\n"
     ]
    },
    {
     "name": "stderr",
     "output_type": "stream",
     "text": [
      "23/08/10 08:58:23 WARN TaskSetManager: Stage 132 contains a task of very large size (7098 KiB). The maximum recommended task size is 1000 KiB.\n",
      "[Stage 132:>                                                        (0 + 8) / 8]\r"
     ]
    },
    {
     "name": "stdout",
     "output_type": "stream",
     "text": [
      "+---------+------------------+--------------------------------+---------+----------------------------------------------------------------------------------------------------------------------------------------------------------------------------------------------------------------------------------------------------------------------------------------------------------------------------------------------------------------------------------------------------------------------------------------------------------------------------------------------------------------------------------------------------------------------------------------------------------------------------------------------------------------------------------------------------------------------------------------------------------------------------------------------------------------------------------------------------------------------------------------------------------------------------------------------------------------------------------------------------------------------------------------------------------------------------------------------------------------------------------------------------------------------------------------------------------------------------------------------------------------------------------------------------------------------------------------------------------------------------------------------------------------------------------------------------------------------------------------------------------------------------------------------------------------------------------------------------------------------------------------------------------------------------------------------------------------------------------------------------------------------------------------------------------------------------------------------------------------------------------------------------------------------------------------------------------------------------------------------------------------------------------------------------------------------------------------------------------------------------------------------------------------------------------------------------------------------------------------------------------------------------------------------------------------------------------------------------------------------------------------------------------------------------------------------------------------------------------------------------------------------------------------------------------------------------------------------------------------------------------------------------------------------------------------------------------------------------------------------------------------------------------------------------------------------------------------------------------------------------------------------------------------------------------------------------------------------------------------------------------------------------------------------------------------------------------------------------------------------------------------------------------------------------------------------------------------------------------------------------------------------------------------------------------------------------------------------------------------------------------------------------------------------------------------------------------------------------------------------------------------------------------------------------------------------------------------------------------------------------------------------------------------------------------------------------------------------------------------------------------------------------------------------------------------------------------------------------------------------------------------------------------------------------------------------------------------------------------------------------------------------------------------------------------------------------------------------------------------------------------------------------------------------------------------------------------------------------------------------------------------------------------------------------------------------------------------------------------------------------------------------------------------------------------------------------------------------------------------------------------------------------------------------------------------------+\n",
      "|movie_id |similarity        |Title                           |Source   |Plot                                                                                                                                                                                                                                                                                                                                                                                                                                                                                                                                                                                                                                                                                                                                                                                                                                                                                                                                                                                                                                                                                                                                                                                                                                                                                                                                                                                                                                                                                                                                                                                                                                                                                                                                                                                                                                                                                                                                                                                                                                                                                                                                                                                                                                                                                                                                                                                                                                                                                                                                                                                                                                                                                                                                                                                                                                                                                                                                                                                                                                                                                                                                                                                                                                                                                                                                                                                                                                                                                                                                                                                                                                                                                                                                                                                                                                                                                                                                                                                                                                                                                                                                                                                                                                                                                                                                                                                                                                                                                                                                                                  |\n",
      "+---------+------------------+--------------------------------+---------+----------------------------------------------------------------------------------------------------------------------------------------------------------------------------------------------------------------------------------------------------------------------------------------------------------------------------------------------------------------------------------------------------------------------------------------------------------------------------------------------------------------------------------------------------------------------------------------------------------------------------------------------------------------------------------------------------------------------------------------------------------------------------------------------------------------------------------------------------------------------------------------------------------------------------------------------------------------------------------------------------------------------------------------------------------------------------------------------------------------------------------------------------------------------------------------------------------------------------------------------------------------------------------------------------------------------------------------------------------------------------------------------------------------------------------------------------------------------------------------------------------------------------------------------------------------------------------------------------------------------------------------------------------------------------------------------------------------------------------------------------------------------------------------------------------------------------------------------------------------------------------------------------------------------------------------------------------------------------------------------------------------------------------------------------------------------------------------------------------------------------------------------------------------------------------------------------------------------------------------------------------------------------------------------------------------------------------------------------------------------------------------------------------------------------------------------------------------------------------------------------------------------------------------------------------------------------------------------------------------------------------------------------------------------------------------------------------------------------------------------------------------------------------------------------------------------------------------------------------------------------------------------------------------------------------------------------------------------------------------------------------------------------------------------------------------------------------------------------------------------------------------------------------------------------------------------------------------------------------------------------------------------------------------------------------------------------------------------------------------------------------------------------------------------------------------------------------------------------------------------------------------------------------------------------------------------------------------------------------------------------------------------------------------------------------------------------------------------------------------------------------------------------------------------------------------------------------------------------------------------------------------------------------------------------------------------------------------------------------------------------------------------------------------------------------------------------------------------------------------------------------------------------------------------------------------------------------------------------------------------------------------------------------------------------------------------------------------------------------------------------------------------------------------------------------------------------------------------------------------------------------------------------------------------------------------------+\n",
      "|tt3095464|0.7843827742912912|Agnee                           |wiki_plot|Tanisha is a young daughter of a man working for the brutal underworld mafia Gulzar and Haydar. When Tanisha's father decides he wants to leave the crime world to make a better life for his daughter, Gulzar and Haydar kills him, and family in order to eliminate a potential threat. Gulzar kills everyone in the family, and when he is about to kill Tanisha, she stabs him and vows to him she will kill them one day before escaping. She grows up to be a stone-cold assassin. She receives training from her uncle and ultimately engages in vigilante murders that she hopes will lead her to her ultimate target, the powerful underworld crime syndicate responsible for her parents' death.                                                                                                                                                                                                                                                                                                                                                                                                                                                                                                                                                                                                                                                                                                                                                                                                                                                                                                                                                                                                                                                                                                                                                                                                                                                                                                                                                                                                                                                                                                                                                                                                                                                                                                                                                                                                                                                                                                                                                                                                                                                                                                                                                                                                                                                                                                                                                                                                                                                                                                                                                                                                                                                                                                                                                                                                                                                                                                                                                                                                                                                                                                                                                                                                                                                                                                                                                                                                                                                                                                                                                                                                                                                                                                                                                                                                                                                            |\n",
      "|tt0098141|0.7764904408035056|The Punisher                    |wiki_plot|Frank Castle is the city's most wanted, and most mysterious vigilante, known as \"The Punisher\". He has killed 125 criminals in the past five years. An ex-police officer, Castle's family was murdered in a mob hit, in which Castle was also thought to have perished. This, combined with Castle's furtive methods of attack, has made the Punisher's identity a mystery to the general public.\\nLiving in the sewers and waging a one-man war against organized crime, his only friend is an old alcoholic named Shake, a former stage actor who speaks in rhyme for reasons unexplained. Now legally declared dead, Castle strikes back from beyond the grave, killing mobsters wherever he can find them. Due to his war against them, the Mafia families have weakened, forcing one of the family leaders, Gianni Franco, to come out of retirement.\\nFranco has a plan to unify the families. This, however, has attracted the attention of the Yakuza, Asia's most powerful crime syndicate. Led by Lady Tanaka, the Yakuza decide to take over the Mafia families and all of their interests. In order to sway the mobsters to their cause, they kidnap their children and hold them for ransom.\\nShake pleads with the Punisher to save the children, who are likely to be sold into the Arab slave trade regardless of whether the Mafia give into the demands. The Punisher attacks Yakuza businesses, warning that for every day the children are held in captivity, he will inflict heavy costs on them in property damage. The Yakuza later capture the Punisher and Shake and attempt to torture them into submission, but the Punisher breaks free and decides the only course of action is a direct rescue.\\nHe is able to save most of the children with a .45 Thompson M1928 submachine gun against the Yakuza guards and commandeers a bus to get the kidnapped children to safety. However prior to this Tommy Franco, the son of Gianni Franco, had been taken away to Yakuza headquarters. When driving the busload of kids, the Punisher runs into a police roadblock and is arrested. While in custody Castle is reunited with one of his old partners, who warns his multiple killings will likely get him executed, however at a later point Castle is broken out of jail by Franco's men. Franco admits he brought this on himself as the hit on Castle's family was an error, and persuades the Punisher to help him save his son. Castle ironically agrees to work with his old enemy for the sake of stopping the Japanese criminal underworld from taking root in America.\\nFranco and the Punisher raid the Yakuza headquarters, fight and kill all the Yakuza, including Lady Tanaka and her daughter. Upon being reunited with his son, Franco betrays the Punisher, but Castle defends himself and kills Franco. Franco's son then threatens the Punisher for killing his father, but cannot bring himself to hurt him. Castle warns Franco's son to \"stay a good boy, and grow up to be a good man\", not following his father's misdeeds. He also warns he will return should the boy commit any crimes, then disappears. The police arrive, only to find no trace of the Punisher. Meanwhile, at his lair, Castle lets the audience know that he will be waiting in the shadows, serving his own brand of justice.                                                                                                                                                                                                                                                                                                                                                                                                                                                                                                                                                                                                                                                                                                                                                                                                                                                                                                                                                                                                                                                                                                                                                                                                             |\n",
      "|tt1430612|0.7581828553803195|Brick Mansions                  |wiki_plot|In 2018, in a dystopian, futuristic Detroit, abandoned brick mansions left from better times house only the most dangerous criminals. Unable to control the crime, city officials built a colossal containment wall that is 40 FT tall and has been constructed around this area known as the projects, or the \"no go zone\" to protect the rest of the city. Police monitor all movement in and out of Brick Mansions in which schools and hospitals in this dangerous area are shut down. For undercover cop Damien Collier (Paul Walker), every day is a battle against corruption after the death of his father. For French-Caribbean ex-convict Lino (David Belle), every day is a fight to live an honest life. Lino starred in District B13 in which he continues his role of a muscular man that is a master of building hoping, fighting, and acrobatics which brings excitement and action to the movie. Damien maintains a charming, intelligent, and consistent character throughout the film. When drug kingpin Tremaine Alexander (RZA) kidnaps Lino's girlfriend and holds her captive as Lino stole a massive amount of heroin and emptied it down a bathtub, Damien reluctantly accepts Lino's help and together they struggle to save Lino's girlfriend and stop a sinister plot that involves a stolen bomb set to destroy the entire city. Initially Lino was deceived by trusted police officials as he was under the assumption that Tremaine was wanted for being a highly dangerous criminal. Lino was not aware that Tremaine had been making payments to the police station as police officials were corrupt. Formerly trusted police officials allow Tremaine to leave with Lino's girlfriend and lock Lino up in a prison cell. Lino kills a police official in attempt to escape and save his girlfriend. Lino is put in the back of a police van where he meets Damien, an under cover cop playing the role of another prisoner. Damien uncuffs his handcuffs, throws the police out of the car, and then helps Lino to escape. At first, Damien and Lino fight both verbally and physically, but they quickly learn how to work together for the greater good. Moreover, there is also some girl fighting action between Lino's Spanish waitress girlfriend and Tremaine's assistant that portrays herself to be bisexual. To overcome Tremaine is not an easy task as he is an incredibly powerful leader with an army of heavily armed individuals ready to protect him at any cost. Eventually, with the help of Lino and Tremaine, Damien realizes at the end of the film that his father was killed by his fellow officers that he trusted and that the mayor of Detroit was behind the plot. Damien, Lino and Tremaine confront the mayor and manage to prove his true intentions and have him publicly humiliated on the news after compromising plotting an attack on Brick Mansions precedence and then he is arrested. Brick Mansions is welcomed back into the city, with Damien and Lino continuing their friendship. Tremaine runs for mayor of Detroit 2018 while promoting the idea of equality and freedom.                                                                                                                                                                                                                                                                                                                                                                                                                                                                                                                                                                                                                                                                                                                                                                                                                                                                                                                                                                                                                                                                                                                                                                                                                                                                                                                                                                                                             |\n",
      "|tt0035031|0.7572042312576871|Man with Two Lives              |wiki_plot|The story is of a man who is brought back from the dead and whose body is hijacked by the soul of an executed gangster, consequently making the deceased man a high proze criminal.\\nAt the beginning of the story the happy couple Phillip Bennett and Louise Hammond are engaged to be married. A major bump on their planned road to the future emerges when sadly Phillip is killed in a traffic accident as they are driving back from their very engagement party.\\nThe dubious Dr. Clarke, who apparently is known for being able to revive deceased animals, is called on for the purpose of bringing Phillip back to life. By midnight on that very same night as Phillips demise, the infamous criminal Panino, is to receive his capital punishment for his crimes: execution through electrocution.\\nJust minutes before midnight Dr. Clarke performs his resuscitaion operation and it is a successful one, but when Panino dies moments later his ominous soul enters and claims Phillip's body. The soul change goes unnoticed however, and Phillip's body is brought home to his hopeful wife to be. At first it appears Phillip suffers from severe amnesia, and he is uncapable of recognizing any of the persons previously known to him, which is of course an unpleasant surprise.\\nPhillip instantly starts roaming Panino's old hoods, and it doesn't take long before he once again is supreme commander of his old gang, running the business as usual, but in the shape of Phillip. The people around Phillip, including his father Hobart Bennet is worried by the development and this new personality of Phillip's. They become even more worried when they start noticing that he is more and more absent from his home. Soon a crime wave hits the city and there is an outbreak of gang wars, throwing the city into chaos as gang member are killed on every side. Accompanied by Dr. Clarke, Phillip's father Hobart visit the gang's headquarters and meets with the gangsters, to tell them who Panino/Phillip really is. They inquires the gang members about Phillip's relation to the gang and its business, and the gang members find out that Phillip, a respectable citizen, is the son of Hobart Bennet. Phillip/Panino finds out about this and feels threatened by the fact that some of the gang members know about his \"secret identity\". He murders all of the potentially dangerous gang members, but fails to do off with one person, a brother to one of the murdered gang members, who knows his secret.\\nThis remaining man becomes the key to catching Panino/Phillip and stop him from going through with his planned robbery. He tips the police of Panino/Phillip's plans and a trap is laid out to catch the felon, but he escapes and decides to take revenge on the detective in charge of hunting him down. He ends up killing the detective, but is in turn killed himself by Dr. Clarke.[1]                                                                                                                                                                                                                                                                                                                                                                                                                                                                                                                                                                                                                                                                                                                                                                                                                                                                                                                                                                                                                                                                                                                                                                                                                                                                                                                                                                                                                                                                                                                                                                                                            |\n",
      "|tt0372784|0.75693183117026  |Batman Begins                   |wiki_plot|As a child, Bruce Wayne falls down into a dry well and is attacked by a swarm of bats, subsequently developing a phobia of the creatures. While watching an opera with his parents, Thomas and Martha, Bruce becomes frightened by performers masquerading as bats and asks to leave. Outside, mugger Joe Chill murders Bruce's parents in front of him. Orphaned, Bruce is raised by the family butler, Alfred Pennyworth.\\nFourteen years later, Chill is freed in exchange for testifying against Gotham City mafia boss Carmine Falcone. Bruce intends to murder Chill, but one of Falcone's assassins does so first. Bruce's childhood friend, Assistant District Attorney Rachel Dawes, berates him for attempting to undermine the justice system, saying that his father would be ashamed. Bruce confronts Falcone, who tells him that real power comes from being feared. Bruce decides to travel the world and learn how to confront injustice. While serving a prison sentence for theft in Bhutan, he meets Henri Ducard, who trains him as a member of the League of Shadows, led by Ra's al Ghul. After completing his training and purging his fears, Bruce learns that the League intends to destroy Gotham, believing it to be corrupt, decadent, hypocritical and beyond saving. Bruce rejects the League's cause and burns down their temple during his escape. Ra's is killed by falling debris, while Bruce saves the unconscious Ducard.\\nBruce returns to Gotham intent on fighting crime. Inspired by his childhood fear, he takes up the vigilante identity of \"Batman\" and sets up a base in the caves beneath Wayne Manor. He takes an interest in his family's company, Wayne Enterprises, now run by the unscrupulous William Earle. Company archivist Lucius Fox allows Bruce access to prototype defense technologies, including a protective bodysuit and a heavily armored car, the Tumbler. Bruce poses as a shallow playboy to allay suspicion.\\nBatman intercepts a drug shipment, provides Rachel with evidence against Falcone, and enlists Sergeant James Gordon, one of the few honest cops left in Gotham, to arrest him. In the prison, Falcone meets Dr. Jonathan Crane, a corrupt psychiatrist whom he has helped smuggle drugs into Gotham, and threatens to reveal his complicity if he does not declare him mentally unfit for trial. Crane puts on a scarecrow mask and sprays Falcone with a fear-inducing hallucinogen that drives him insane (which causes Falcone to constantly mouth the word \"Scarecrow\"), and has him transferred to Arkham Asylum. While investigating \"the Scarecrow\", Batman is exposed to the hallucinogen and left incapacitated. He is saved by Alfred and given an antidote developed by Fox. When Rachel accuses Crane of corruption, Crane reveals that he has been pouring his fear-inducing drug into Gotham's water supply. He drugs Rachel with it, but Batman saves her and subdues Crane, who claims to work for Ra's al Ghul. Batman evades the police to get Rachel to safety, administers the antidote, and gives her a vial of it for Gordon and another for mass production. Ducard reappears at Bruce's birthday party and reveals himself to be the true Ra's al Ghul. Having stolen a powerful microwave emitter from Wayne Enterprises, he plans to vaporize Gotham's water supply, rendering Crane's drug airborne and causing mass hysteria that will destroy the city. He sets Wayne Manor aflame and leaves Bruce to die, but Alfred rescues him.\\nRa's loads the microwave emitter onto Gotham's monorail system, intending to release the drug as the train travels toward the city's central water source. Batman rescues Rachel from a drugged mob and indirectly reveals his identity to her. He pursues Ra's onto the monorail and fights him just as Gordon uses the Tumbler's cannons to destroy a section of the track. Batman refuses to kill Ra's, but also chooses not to save him, gliding from the train and leaving Ra's aboard as it crashes and explodes, killing him.\\nBruce gains Rachel's respect but loses her love, as she decides she cannot be with him while he is Batman. Bruce buys a controlling stake in the now publicly traded Wayne Enterprises, fires Earle, and replaces him with Fox. Gordon is promoted to Lieutenant of the Gotham City Police Department, shows Batman the Bat-Signal, and mentions a criminal who leaves Joker playing cards at crime scenes. Batman promises to investigate, and disappears into the night.|\n",
      "|tt0061101|0.7538272507752576|Tokyo Drifter                   |wiki_plot|Tetsuya \"Phoenix Tetsu\" Hondo is a member of a recently deactivated Yakuza gang. His boss, to whom he holds absolute loyalty, Kurata, has given up the life of crime for himself and his syndicate.[1] Otsuka, a rival gang boss, attempts to recruit Tetsu into his organization, but is turned down. After failing, Otsuka sends an assassin to neutralize Tetsu, fearing he will interfere with a real estate scam. Looking to profit from the scheme himself and fearing that his group is threatened by his presence, Kurata asks Tetsu to leave and live the life of a drifter.[1]\\nOtsuka and Kurata join forces, and assign the successful hitman, \"Viper\" Tatsuzo, to kill Tetsu. Tetsu evades Viper and his hit squad a number of times and arrives at the establishment of Umetani, an ally of boss Kurata. Tetsu returns to Tokyo, confronting his boss who betrayed him. He kills everyone in the room besides his boss and former girlfriend. At the end of the movie, Kurata kills himself, and Tetsu rejects his former girlfriend Chiharu's plea to allow her to accompany him on his travels. He exits down a pure white hallway, explaining that he has a new allegiance to the wanderer lifestyle, and cannot abandon it for the company of another.[1]                                                                                                                                                                                                                                                                                                                                                                                                                                                                                                                                                                                                                                                                                                                                                                                                                                                                                                                                                                                                                                                                                                                                                                                                                                                                                                                                                                                                                                                                                                                                                                                                                                                                                                                                                                                                                                                                                                                                                                                                                                                                                                                                                                                                                                                                                                                                                                                                                                                                                                                                                                                                                                                                                                                                                                                                                                                                                                                                                                                                                                                                                                                                                                                                                                                                                           |\n",
      "|tt0033582|0.7526045157685127|The Face Behind the Mask        |wiki_plot|The film is the story of a hopeful new immigrant, Janos Szabo (Peter Lorre), who, on his first day in New York City, is trapped in a hotel fire that leaves his face hideously scarred. Refused employment due to his appearance although he possesses tremendous skill as a watchmaker, the only way he can survive is by turning to theft, using his skilled hands to disable alarms. Eventually he becomes the leader of a gang of thieves, and raises enough money to commission and wear a realistic latex mask of his own face.\\nJanos then falls in love with Helen (Evelyn Keyes) a blind woman who sees only the good in him, and attempts to leave his life of crime behind him. Unfortunately, his gang come to believe that he has betrayed them to the police, and attempt to kill him by car bomb, an attempt on his life that he survives but which kills Helen. In retaliation, Janos disguises himself as the pilot of the private plane the gang is flying out of the city with, which he lands in the Arizona desert and lets out the fuel, suicidally stranding both the gang and himself without food or water, dooming them all to a slow death. At the film's end, Janos's body and that of his enemies are discovered by the police.                                                                                                                                                                                                                                                                                                                                                                                                                                                                                                                                                                                                                                                                                                                                                                                                                                                                                                                                                                                                                                                                                                                                                                                                                                                                                                                                                                                                                                                                                                                                                                                                                                                                                                                                                                                                                                                                                                                                                                                                                                                                                                                                                                                                                                                                                                                                                                                                                                                                                                                                                                                                                                                                                                                                                                                                                                                                                                                                                                                                                                                                                                                                                                                                                                                                                                          |\n",
      "|tt0312510|0.7508685908740776|The Burial Society              |wiki_plot|The Burial Society tells the story of Sheldon Kasner, whose existence has recently turned to one of quiet anxiety. His workload is mounting as his reimbursement for it continues to diminish, and Sheldon justifiably falls into a deep depression. Despite being a highly unlikely candidate for organized crime, he is drawn into a complicit money-laundering scam that doesn't run as planned. With a two-million-dollar debt on his hands, Sheldon devises a complicated plan: staging his own death with the help of the Chevrah Kadisha, or the \"Burial Society,\" a mysterious group of devout Jewish men who have dedicated themselves to preparing dead bodies for their final resting place. Unbeknownst to Sheldon, the Burial Society sees the incompetent businessman as the only hope for the continued existence of their tradition. As they initiate him into their peculiar, ritualistic world, Sheldon believes his life is leisurely getting back on track; however, the men of the Burial Society may have something else in mind for him.[3]                                                                                                                                                                                                                                                                                                                                                                                                                                                                                                                                                                                                                                                                                                                                                                                                                                                                                                                                                                                                                                                                                                                                                                                                                                                                                                                                                                                                                                                                                                                                                                                                                                                                                                                                                                                                                                                                                                                                                                                                                                                                                                                                                                                                                                                                                                                                                                                                                                                                                                                                                                                                                                                                                                                                                                                                                                                                                                                                                                                                                                                                                                                                                                                                                                                                                                                                                                                                                                                                                                    |\n",
      "|tt0062301|0.7507688362937978|The St. Valentine's Day Massacre|wiki_plot|An organized crime war breaks out between two rival gangs in Chicago during the Roaring Twenties. The leader of the Southside Mob is the notorious Al Capone, who resents his nemesis George \"Bugs\" Moran's activity in the city. Moran, too, wants control of the town's bootlegging and gambling operations. His lieutenants Peter and Frank Gusenberg use threats and intimidation to make tavern owners do business with them in exchange for \"protection.\" Peter Gusenberg also argues and fights with his moll, particularly over her extravagant spending of his money.\\nMoran gives the order to have a crony of Capone's eliminated as the Chicago body count escalates. Inclusive are flashbacks to a lunchtime attack on Capone at the Hawthorne restaurant outside of Chicago by Hymie Weiss and Moran in September 1926 and the murders of Dean O'Banion in November 1924 and Weiss in October 1926 by Capone's gang.\\nIn a bid to get rid of Moran once and for all, Capone goes to his winter home in Miami, Florida to establish an alibi while his henchmen, some dressed as cops, ambush and execute seven members of Moran's gang, including Peter Gusenberg, in a northside garage on February 14, 1929. Also at the garage - and caught in the attack - were Johnny May (Bruce Dern), a mechanic, and Reinhardt Schwimmer, an optician who enjoyed being around gangsters. Of the victims, only Frank Gusenberg, Peter's brother survives and is taken to a hospital. Despite knowing that he will soon die, Frank refuses to tell the police anything. Ironically, Moran himself, the apparent focus of the attack, was not in the garage, left for a diner, and escaped certain death.\\nEach character is given a verbal voiceover biography as they are introduced, and in some video releases, the biographies of Rheinhard Schwimmer and Adam Heyer, two of the massacre victims, are removed from the soundtrack, possibly due to protest from surviving family members.\\nIn the aftermath, Al Capone is shown dispatching two of those responsible for carrying out the attack as he learns of their plans to kill him. Moran dies in prison, dropping a verbal clue to the crime: \"Only Capone kills like that.\" No one is ever charged for the murders of St. Valentine's Day of 1929, as they either disappear going into hiding or are violently killed.                                                                                                                                                                                                                                                                                                                                                                                                                                                                                                                                                                                                                                                                                                                                                                                                                                                                                                                                                                                                                                                                                                                                                                                                                                                                                                                                                                                                                                                                                                                                                                                                                                                                                                                                                                                                                                                                                                                                                                                                                                                                                                                                                                              |\n",
      "|tt0031102|0.7504548109368762|Blackmail                       |wiki_plot|John Ingram is a very successful oil-field firefighter and a family man. All is going so well, he's even bought his own oil well in hope of striking it rich. His greatest fears are realized, however, when a man, William Ramey, from his secret past sees Ingram in a newsreel and shows up looking for a job.\\nRamey attempts to blackmail Ingram, who had run from a chain gang years ago and started a new life under an assumed name. After a shady deal is made, Ingram is tricked and Ramey turns him into authorities, who return him to a chain gang. Ramey subsequently becomes a very rich man.\\nWhen Ingram finds out about the success of the man who betrayed him, he plans a daring escape in an attempt to return home and get revenge.                                                                                                                                                                                                                                                                                                                                                                                                                                                                                                                                                                                                                                                                                                                                                                                                                                                                                                                                                                                                                                                                                                                                                                                                                                                                                                                                                                                                                                                                                                                                                                                                                                                                                                                                                                                                                                                                                                                                                                                                                                                                                                                                                                                                                                                                                                                                                                                                                                                                                                                                                                                                                                                                                                                                                                                                                                                                                                                                                                                                                                                                                                                                                                                                                                                                                                                                                                                                                                                                                                                                                                                                                                                                                                                                                                                                             |\n",
      "+---------+------------------+--------------------------------+---------+----------------------------------------------------------------------------------------------------------------------------------------------------------------------------------------------------------------------------------------------------------------------------------------------------------------------------------------------------------------------------------------------------------------------------------------------------------------------------------------------------------------------------------------------------------------------------------------------------------------------------------------------------------------------------------------------------------------------------------------------------------------------------------------------------------------------------------------------------------------------------------------------------------------------------------------------------------------------------------------------------------------------------------------------------------------------------------------------------------------------------------------------------------------------------------------------------------------------------------------------------------------------------------------------------------------------------------------------------------------------------------------------------------------------------------------------------------------------------------------------------------------------------------------------------------------------------------------------------------------------------------------------------------------------------------------------------------------------------------------------------------------------------------------------------------------------------------------------------------------------------------------------------------------------------------------------------------------------------------------------------------------------------------------------------------------------------------------------------------------------------------------------------------------------------------------------------------------------------------------------------------------------------------------------------------------------------------------------------------------------------------------------------------------------------------------------------------------------------------------------------------------------------------------------------------------------------------------------------------------------------------------------------------------------------------------------------------------------------------------------------------------------------------------------------------------------------------------------------------------------------------------------------------------------------------------------------------------------------------------------------------------------------------------------------------------------------------------------------------------------------------------------------------------------------------------------------------------------------------------------------------------------------------------------------------------------------------------------------------------------------------------------------------------------------------------------------------------------------------------------------------------------------------------------------------------------------------------------------------------------------------------------------------------------------------------------------------------------------------------------------------------------------------------------------------------------------------------------------------------------------------------------------------------------------------------------------------------------------------------------------------------------------------------------------------------------------------------------------------------------------------------------------------------------------------------------------------------------------------------------------------------------------------------------------------------------------------------------------------------------------------------------------------------------------------------------------------------------------------------------------------------------------------------------------------------------+\n",
      "only showing top 10 rows\n",
      "\n"
     ]
    },
    {
     "name": "stderr",
     "output_type": "stream",
     "text": [
      "                                                                                \r"
     ]
    }
   ],
   "source": [
    "if input_user_3: \n",
    "  \n",
    "  print(\"Running Duplicate Plot Checker\")\n",
    "  data = [(i[0], float(cossim(check_vec, i[2])), i[1], i[4], i[3]) for i in chunks]\n",
    "  sim_df = spark.createDataFrame(data).toDF('movie_id', 'similarity', 'Title', 'Source', 'Plot')\n",
    "  sim_df = (sim_df.dropDuplicates(['movie_id'])\n",
    "            .orderBy('similarity', ascending=False)\n",
    "            .limit(30))\n",
    "  sim_df.show(10, truncate=False)\n",
    "\n",
    "elif not input_user_2:  # if input_user_2 is empty, then run the basic recommender\n",
    "  \n",
    "  print(\"Only one movie is input, running Basic Recommender\")\n",
    "  data = [(i[0], float(cossim(basic_vec, i[2])), i[1], i[4], i[3]) for i in chunks]\n",
    "  sim_df = spark.createDataFrame(data).toDF('movie_id', 'similarity', 'Title', 'Source', 'Plot')\n",
    "  sim_df = (sim_df.filter((sim_df.Title != input_user_1) & (sim_df.movie_id != input_user_1))\n",
    "            .dropDuplicates(['movie_id'])\n",
    "            .orderBy('similarity', ascending=False)\n",
    "            .limit(30))\n",
    "  sim_df.show(10, truncate=False)\n",
    "  \n",
    "elif input_user_2: \n",
    "  \n",
    "  print(\"Only two movies are input, running Advanced Recommender\")\n",
    "  data = [(i[0], float(cossim(combined_vec, i[2])), i[1], i[4], i[3]) for i in chunks]\n",
    "  sim_df = spark.createDataFrame(data).toDF('movie_id', 'similarity', 'Title', 'Source', 'Plot')\n",
    "  sim_df = (sim_df.filter((sim_df.Title != input_user_1) & (sim_df.movie_id != input_user_1)\n",
    "                          & (sim_df.Title != input_user_2) & (sim_df.movie_id != input_user_2))\n",
    "            .dropDuplicates(['movie_id'])\n",
    "            .orderBy('similarity', ascending=False)\n",
    "            .limit(30))\n",
    "  sim_df.show(10, truncate=False)"
   ]
  },
  {
   "cell_type": "code",
   "execution_count": null,
   "id": "ebcb6087",
   "metadata": {},
   "outputs": [],
   "source": []
  }
 ],
 "metadata": {
  "kernelspec": {
   "display_name": "Python 3 (ipykernel)",
   "language": "python",
   "name": "python3"
  },
  "language_info": {
   "codemirror_mode": {
    "name": "ipython",
    "version": 3
   },
   "file_extension": ".py",
   "mimetype": "text/x-python",
   "name": "python",
   "nbconvert_exporter": "python",
   "pygments_lexer": "ipython3",
   "version": "3.11.2"
  }
 },
 "nbformat": 4,
 "nbformat_minor": 5
}
