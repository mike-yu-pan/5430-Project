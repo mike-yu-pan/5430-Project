{
 "cells": [
  {
   "cell_type": "code",
   "execution_count": null,
   "id": "4970fb4c",
   "metadata": {},
   "outputs": [],
   "source": [
    "# Initate Spark and configure "
   ]
  },
  {
   "cell_type": "code",
   "execution_count": null,
   "id": "adff3969",
   "metadata": {},
   "outputs": [],
   "source": [
    "!pip install -U pyspark\n",
    "from pyspark.sql import SparkSession"
   ]
  },
  {
   "cell_type": "code",
   "execution_count": null,
   "id": "ecced945",
   "metadata": {},
   "outputs": [],
   "source": [
    "import os\n",
    "import sys\n",
    "os.environ['PYSPARK_PYTHON'] = sys.executable\n",
    "os.environ['PYSPARK_DRIVER_PYTHON'] = sys.executable"
   ]
  },
  {
   "cell_type": "code",
   "execution_count": null,
   "id": "ccd85faf",
   "metadata": {},
   "outputs": [],
   "source": [
    "from pyspark.sql import SparkSession\n",
    "from pyspark import SparkContext, SparkConf\n",
    "from pyspark.sql import SQLContext\n",
    "\n",
    "spark = SparkSession.builder.getOrCreate()\n",
    "sc = spark.sparkContext\n",
    "\n",
    "print(\"Using Apache Spark Version\", spark.version)"
   ]
  },
  {
   "cell_type": "code",
   "execution_count": null,
   "id": "3708ae24",
   "metadata": {},
   "outputs": [],
   "source": [
    "## Search Engine Template -> uses spark df to query based on user input\n",
    "### need to different html -> one is the home page (user input) then the second one is the output screen\n",
    "#### there is a way to only use one html for simplicity "
   ]
  },
  {
   "cell_type": "code",
   "execution_count": null,
   "id": "545b492c",
   "metadata": {},
   "outputs": [],
   "source": [
    "from flask import Flask, request, jsonify, redirect, url_for, render_template\n",
    "import numpy as np\n",
    "\n",
    "app = Flask(\"JSON_OUTPUT\")\n",
    "\n",
    "@app.route('/')\n",
    "def form():\n",
    "    return render_template('moreedits.html')\n",
    "        \n",
    "@app.route('/submit', methods=['GET','POST'])\n",
    "def submit():\n",
    "    if request.method == 'POST':\n",
    "        types_user = request.form['q']\n",
    "        price_level_user = request.form['price_level']\n",
    "        neighborhood_user = request.form['neighborhoods']\n",
    "        rating_user = request.form['rating']\n",
    "        \n",
    "        def cossim(v1, v2):\n",
    "            dot_product = np.sum(v1 * v2)\n",
    "            mag_v1 = np.sqrt(np.sum(np.power(v1, 2)))\n",
    "            mag_v2 = np.sqrt(np.sum(np.power(v2, 2)))\n",
    "            return dot_product / (mag_v1 * mag_v2 + 0.1)\n",
    "\n",
    "        query_txt = types_user\n",
    "        query_df = sc.parallelize([(1,query_txt)]).toDF(['index','Types'])\n",
    "        query_tok = regexTokFilter.transform(query_df)\n",
    "        query_vec = model_type.transform(query_tok)\n",
    "        query_vec = query_vec.select('wordvectors_type').collect()[0][0]\n",
    "        \n",
    "        sim_rdd = sc.parallelize((i[0],i[1], i[2],i[3],i[4],i[5],i[6],float(cossim(query_vec, i[7])), i[8]) for i in sparkDF_wv_final)\n",
    "        sim_df = spark.createDataFrame(sim_rdd).\\\n",
    "            withColumnRenamed('_1', 'Name').\\\n",
    "            withColumnRenamed('_2', 'Address').\\\n",
    "            withColumnRenamed('_3', 'Latitude').\\\n",
    "            withColumnRenamed('_4', 'Longitude').\\\n",
    "            withColumnRenamed('_5', 'Types').\\\n",
    "            withColumnRenamed('_6', 'Price_level').\\\n",
    "            withColumnRenamed('_7', 'Rating').\\\n",
    "            withColumnRenamed('_8', 'Similarity').\\\n",
    "            withColumnRenamed('_9', 'Neighborhood').\\\n",
    "            orderBy(\"Similarity\", ascending=False)\n",
    "\n",
    "    \n",
    "    pandas_df = sim_df.toPandas()\n",
    "    df_filtered = pandas_df[pandas_df['Price_level'] == int(price_level_user)]\n",
    "    df_filtered1 = df_filtered[df_filtered['Rating'] == int(rating_user)]\n",
    "    df_filtered2 = df_filtered1[df_filtered1['Neighborhood'] == neighborhood_user]\n",
    "    html_table = df_filtered2.head(10).to_html(classes='table')\n",
    "    return render_template('onlytable.html', table=html_table)\n",
    "\n",
    "@app.route('/output')\n",
    "def output():\n",
    "    # render the output HTML page\n",
    "    return render_template('onlytable.html',table=processed_data)\n",
    "\n",
    "app.run(host='localhost', port=7030)"
   ]
  },
  {
   "cell_type": "code",
   "execution_count": null,
   "id": "ebcb6087",
   "metadata": {},
   "outputs": [],
   "source": []
  }
 ],
 "metadata": {
  "kernelspec": {
   "display_name": "Python 3 (ipykernel)",
   "language": "python",
   "name": "python3"
  },
  "language_info": {
   "codemirror_mode": {
    "name": "ipython",
    "version": 3
   },
   "file_extension": ".py",
   "mimetype": "text/x-python",
   "name": "python",
   "nbconvert_exporter": "python",
   "pygments_lexer": "ipython3",
   "version": "3.9.13"
  }
 },
 "nbformat": 4,
 "nbformat_minor": 5
}
