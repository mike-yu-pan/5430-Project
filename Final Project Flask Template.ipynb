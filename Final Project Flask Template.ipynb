{
 "cells": [
  {
   "cell_type": "code",
   "execution_count": 1,
   "id": "adff3969",
   "metadata": {},
   "outputs": [
    {
     "data": {
      "text/plain": [
       "\" !pip install -U pyspark\\nfrom pyspark.sql import SparkSession\\nimport os\\nimport sys\\nos.environ['PYSPARK_PYTHON'] = sys.executable\\nos.environ['PYSPARK_DRIVER_PYTHON'] = sys.executable \""
      ]
     },
     "execution_count": 1,
     "metadata": {},
     "output_type": "execute_result"
    }
   ],
   "source": [
    "\"\"\" !pip install -U pyspark\n",
    "from pyspark.sql import SparkSession\n",
    "import os\n",
    "import sys\n",
    "os.environ['PYSPARK_PYTHON'] = sys.executable\n",
    "os.environ['PYSPARK_DRIVER_PYTHON'] = sys.executable \"\"\""
   ]
  },
  {
   "cell_type": "markdown",
   "id": "d0e71aa4",
   "metadata": {},
   "source": [
    "# StreamQuest Movie Plot Searching System\n",
    "This application is created for movie studios to check the latest trends in the movie industry......"
   ]
  },
  {
   "cell_type": "markdown",
   "id": "258f893e",
   "metadata": {},
   "source": [
    "## Section 1. Word2vec Movie Recommender Model Training\n",
    "The first part of this notebook is dedicated to data cleaning and trainning the word2vec model to create the following three tools for the studio writers and executives: \n",
    "1. Basic movie recommender: The user input one movie; and the system recommends 10 other movies with similar plotlines. \n",
    "2. Advance movie recommender: The user input two movies; and the system recommends 10 other movies with plotlines that are similar to the combination of these two movies. \n",
    "3. Duplicate plot checker: The user input his/her script for a new movie idea, and the system checks if his/her idea has already been produced in a previous movie. \n",
    "\n",
    "### 1.1 Data cleaning\n",
    "There are three data sources used in this section: \n",
    "1. IMDB: used for matching movie title & ID\n",
    "2. Details: contains plots&movie ID, used for trainning\n",
    "3. Wiki_Plot: contains plots& movie name, used for trainning"
   ]
  },
  {
   "cell_type": "code",
   "execution_count": 2,
   "id": "11a81153",
   "metadata": {},
   "outputs": [],
   "source": [
    "path_to_imdb_dataset = '/Users/yupan/Library/CloudStorage/OneDrive-Personal/Academic/5430/data/title.basics.tsv.gz'\n",
    "path_to_reviews_dataset = '/Users/yupan/Library/CloudStorage/OneDrive-Personal/Academic/5430/data/IMDB_reviews.json'\n",
    "path_to_plots_dataset = '/Users/yupan/Library/CloudStorage/OneDrive-Personal/Academic/5430/data/wiki_movie_plots_deduped.csv'\n",
    "path_to_details_dataset = '/Users/yupan/Library/CloudStorage/OneDrive-Personal/Academic/5430/data/IMDB_movie_details.json'"
   ]
  },
  {
   "cell_type": "code",
   "execution_count": 3,
   "id": "ccd85faf",
   "metadata": {},
   "outputs": [
    {
     "name": "stderr",
     "output_type": "stream",
     "text": [
      "Setting default log level to \"WARN\".\n",
      "To adjust logging level use sc.setLogLevel(newLevel). For SparkR, use setLogLevel(newLevel).\n",
      "23/08/09 14:44:27 WARN NativeCodeLoader: Unable to load native-hadoop library for your platform... using builtin-java classes where applicable\n"
     ]
    },
    {
     "name": "stdout",
     "output_type": "stream",
     "text": [
      "Using Apache Spark Version 3.4.1\n"
     ]
    }
   ],
   "source": [
    "from pyspark.sql import SparkSession\n",
    "import pyspark.sql.functions as F\n",
    "\n",
    "spark = SparkSession.builder.getOrCreate()\n",
    "print(\"Using Apache Spark Version\", spark.version)"
   ]
  },
  {
   "cell_type": "code",
   "execution_count": 4,
   "id": "055e8fb2",
   "metadata": {},
   "outputs": [
    {
     "name": "stderr",
     "output_type": "stream",
     "text": [
      "                                                                                \r"
     ]
    },
    {
     "name": "stdout",
     "output_type": "stream",
     "text": [
      "there is a total of  637758  movies in the imdb dataset\n",
      "there is a total of  2911  plot descriptions in the details dataset\n"
     ]
    },
    {
     "name": "stderr",
     "output_type": "stream",
     "text": [
      "                                                                                \r"
     ]
    },
    {
     "name": "stdout",
     "output_type": "stream",
     "text": [
      "The joined dataset has  2857  entries\n"
     ]
    },
    {
     "name": "stderr",
     "output_type": "stream",
     "text": [
      "[Stage 20:>                                                         (0 + 1) / 1]\r"
     ]
    },
    {
     "name": "stdout",
     "output_type": "stream",
     "text": [
      "+---------+--------------+--------------------+------------+\n",
      "|       id|         Title|                Plot|      Source|\n",
      "+---------+--------------+--------------------+------------+\n",
      "|tt2294449|22 Jump Street|Following their s...|imdb_details|\n",
      "|tt2294449|22 Jump Street|After making thei...|imdb_details|\n",
      "|tt0120623|  A Bug's Life|On a small island...|imdb_details|\n",
      "+---------+--------------+--------------------+------------+\n",
      "only showing top 3 rows\n",
      "\n"
     ]
    },
    {
     "name": "stderr",
     "output_type": "stream",
     "text": [
      "                                                                                \r"
     ]
    }
   ],
   "source": [
    "# clean & combine the IMDB dataset with details dataset \n",
    "# reading the IMDB dataset\n",
    "imdb = spark.read.options(header = True, inferSchema = True, delimiter = \"\\t\")\\\n",
    "  .csv(path_to_imdb_dataset)\n",
    "# filter the imdb dataset so that only movies are included\n",
    "imdb = imdb.filter(\"titleType = 'movie'\")\\\n",
    "  .select('tconst', 'primaryTitle', 'startYear')\\\n",
    "    .withColumnRenamed('startYear', 'Year')\\\n",
    "      .withColumnRenamed('primaryTitle', 'Title')\\\n",
    "        .dropDuplicates(['Title', 'Year'])\n",
    "print('there is a total of ', imdb.count(), ' movies in the imdb dataset')\n",
    "\n",
    "\n",
    "# reading the details dataset, preserving only three important variables\n",
    "details_summary = spark.read.json(path_to_details_dataset)\n",
    "details_summary = details_summary\\\n",
    "  .select('movie_id','plot_summary')\\\n",
    "    .withColumnRenamed('plot_summary','Plot')\n",
    "\n",
    "# reading the details dataset, preserving only three important variables\n",
    "details_synopsis = spark.read.json(path_to_details_dataset)\n",
    "details_synopsis = details_synopsis.select('movie_id','plot_synopsis')\\\n",
    "  .filter(\"plot_synopsis != ''\")\\\n",
    "    .withColumnRenamed('plot_synopsis', 'Plot')\n",
    "\n",
    "details = details_summary.union(details_synopsis)\n",
    "print('there is a total of ', details.count(), ' plot descriptions in the details dataset')\n",
    "\n",
    "\n",
    "from pyspark.sql.functions import lit\n",
    "# join the imdb with details by matching the unique identifier(e.g. tt0000000)\n",
    "imdb_join_details = imdb.join(details, imdb.tconst == details.movie_id, 'inner')\\\n",
    "  .withColumnRenamed('tconst', 'id')\\\n",
    "    .select('id', 'Title', 'Plot')\\\n",
    "      .withColumn(\"Source\", lit(\"imdb_details\"))\n",
    "\n",
    "print(\"The joined dataset has \", imdb_join_details.count(), \" entries\")\n",
    "# inspect the joined dataset\n",
    "imdb_join_details.show(3)"
   ]
  },
  {
   "cell_type": "code",
   "execution_count": 5,
   "id": "a785ac8e",
   "metadata": {},
   "outputs": [
    {
     "name": "stderr",
     "output_type": "stream",
     "text": [
      "                                                                                \r"
     ]
    },
    {
     "name": "stdout",
     "output_type": "stream",
     "text": [
      "The joined dataset has  25361  entries\n"
     ]
    },
    {
     "name": "stderr",
     "output_type": "stream",
     "text": [
      "[Stage 38:>                                                         (0 + 8) / 8]\r"
     ]
    },
    {
     "name": "stdout",
     "output_type": "stream",
     "text": [
      "+---------+-----+--------------------+---------+\n",
      "|       id|Title|                Plot|   Source|\n",
      "+---------+-----+--------------------+---------+\n",
      "|tt0790799|$9.99|The film mainly f...|wiki_plot|\n",
      "+---------+-----+--------------------+---------+\n",
      "only showing top 1 row\n",
      "\n"
     ]
    },
    {
     "name": "stderr",
     "output_type": "stream",
     "text": [
      "                                                                                \r"
     ]
    }
   ],
   "source": [
    "# clean and combine wiki plot dataset with imdb dataset\n",
    "from pyspark.sql.functions import length\n",
    "# reading the plot dataset, preserving only three important variables\n",
    "wiki_plot = spark.read.options(header = True, inferSchema = True, quote = '\"', escape = '\"', multiLine = True).csv(path_to_plots_dataset)\n",
    "wiki_plot = wiki_plot.select('Title', 'Release Year','Plot')\\\n",
    "  .withColumnRenamed('Release Year', 'Year')\\\n",
    "    .filter(length(wiki_plot['Plot']) >= 200) # filter out the very short plot descriptions\n",
    "\n",
    "\n",
    "# join the imdb with the plot dataset by matching movie titles and release year\n",
    "imdb_join_plot = imdb.join(wiki_plot, [\"Title\", \"Year\"], 'inner')\\\n",
    "  .withColumnRenamed('tconst', 'id')\\\n",
    "    .select('id', 'Title', 'Plot')\\\n",
    "      .withColumn(\"Source\", lit(\"wiki_plot\"))\n",
    "\n",
    "print(\"The joined dataset has \", imdb_join_plot.count(), \" entries\")\n",
    "# inspect the joined dataset\n",
    "imdb_join_plot.show(1)"
   ]
  },
  {
   "cell_type": "code",
   "execution_count": 6,
   "id": "7ad0ae58",
   "metadata": {},
   "outputs": [
    {
     "name": "stderr",
     "output_type": "stream",
     "text": [
      "                                                                                \r"
     ]
    },
    {
     "name": "stdout",
     "output_type": "stream",
     "text": [
      "after merging & cleaning, there is a total of  28218  movie plot entries left in the merged dataset\n"
     ]
    },
    {
     "name": "stderr",
     "output_type": "stream",
     "text": [
      "[Stage 61:===========================================>              (6 + 2) / 8]\r"
     ]
    },
    {
     "name": "stdout",
     "output_type": "stream",
     "text": [
      "+---------+-----+--------------------+---------+\n",
      "|       id|Title|                Plot|   Source|\n",
      "+---------+-----+--------------------+---------+\n",
      "|tt0790799|$9.99|The film mainly f...|wiki_plot|\n",
      "+---------+-----+--------------------+---------+\n",
      "only showing top 1 row\n",
      "\n"
     ]
    },
    {
     "name": "stderr",
     "output_type": "stream",
     "text": [
      "                                                                                \r"
     ]
    }
   ],
   "source": [
    "# combine the above two dataset to get the dataset that we will train the model on\n",
    "df = imdb_join_plot.union(imdb_join_details)\n",
    "\n",
    "print('after merging & cleaning, there is a total of ', df.count(), ' movie plot entries left in the merged dataset')\n",
    "# inspect the combined new dataset\n",
    "df.show(1)"
   ]
  },
  {
   "cell_type": "markdown",
   "id": "4cf51036",
   "metadata": {},
   "source": [
    "### 1.2 Trainning Word2vec Model \n",
    "This Word2Vec model is trained using the cleaned data above, the model is fed with around 28,000 entries of texts that describe movie plots. The resulting model will be useful in finding similarities in movie plotlines. "
   ]
  },
  {
   "cell_type": "code",
   "execution_count": 7,
   "id": "5809ac58",
   "metadata": {},
   "outputs": [
    {
     "name": "stderr",
     "output_type": "stream",
     "text": [
      "[Stage 72:>                                                         (0 + 8) / 8]\r"
     ]
    },
    {
     "name": "stdout",
     "output_type": "stream",
     "text": [
      "+---------+-----+--------------------+---------+--------------------+--------------------+--------------------+\n",
      "|       id|Title|                Plot|   Source|           inputText|              tokens|   tokens_sw_removed|\n",
      "+---------+-----+--------------------+---------+--------------------+--------------------+--------------------+\n",
      "|tt0790799|$9.99|The film mainly f...|wiki_plot|The film mainly f...|[the, film, mainl...|[film, mainly, fo...|\n",
      "+---------+-----+--------------------+---------+--------------------+--------------------+--------------------+\n",
      "only showing top 1 row\n",
      "\n"
     ]
    },
    {
     "name": "stderr",
     "output_type": "stream",
     "text": [
      "                                                                                \r"
     ]
    }
   ],
   "source": [
    "# tokenize and remove stop words in this cell\n",
    "from pyspark.ml.feature import RegexTokenizer, StopWordsRemover, Word2Vec\n",
    "\n",
    "# create a new field by copying Plot\n",
    "df = df.withColumn('inputText', F.col('Plot')) \n",
    "\n",
    "# regular expression tokenizer to tokenize inputText into individual tokens (words)\n",
    "regextok = RegexTokenizer(gaps = False, pattern = '\\w+', inputCol = 'inputText', outputCol = 'tokens')\n",
    "\n",
    "# StopWordsRemover to remove stopwords in the list of tokens\n",
    "stopwrmv = StopWordsRemover(inputCol = 'tokens', outputCol = 'tokens_sw_removed')\n",
    "df = regextok.transform(df)\n",
    "df = stopwrmv.transform(df)\n",
    "df.show(1)"
   ]
  },
  {
   "cell_type": "code",
   "execution_count": 8,
   "id": "3e7e668c",
   "metadata": {},
   "outputs": [
    {
     "name": "stderr",
     "output_type": "stream",
     "text": [
      "23/08/09 14:47:31 WARN InstanceBuilder: Failed to load implementation from:dev.ludovic.netlib.blas.JNIBLAS\n",
      "                                                                                \r"
     ]
    }
   ],
   "source": [
    "# train word2vec model, the parameters here can be changed to optimize the model\n",
    "word2vec = Word2Vec(vectorSize = 100, minCount = 5, inputCol = 'tokens_sw_removed', outputCol = 'wordvectors')\n",
    "model = word2vec.fit(df)\n",
    "\n",
    "# using transform to add wordvectors column to dataframe\n",
    "df = model.transform(df)\n",
    "chunks = df.select('id', 'Title','wordvectors', 'Plot', 'Source').limit(30000).collect()"
   ]
  },
  {
   "cell_type": "code",
   "execution_count": 9,
   "id": "5a433ce1",
   "metadata": {},
   "outputs": [],
   "source": [
    "# define function to calculate cosine similarity for later\n",
    "import numpy as np\n",
    "def cossim(v1, v2): \n",
    "  '''\n",
    "      cossim(v1, v2) calculates the cosine similarity between v1 and v1.\n",
    "      If v1 or v2 is a zero vector, it will return 0\n",
    "  '''\n",
    "  if np.dot(v1, v1) == 0 or np.dot(v2, v2) == 0:\n",
    "      return 0.0\n",
    "  return float(np.dot(v1, v2) / np.sqrt(np.dot(v1, v1)) / (np.sqrt(np.dot(v2, v2))))"
   ]
  },
  {
   "cell_type": "markdown",
   "id": "9b98e1a0",
   "metadata": {},
   "source": [
    "### 1.3 Create Basic, Advanced Recommender and Duplicate Plot Checker\n",
    "These three tools use the same model at their core. Therefore, to optimize performance, the implementation will create only a single session when running. "
   ]
  },
  {
   "cell_type": "code",
   "execution_count": 10,
   "id": "fd10102f",
   "metadata": {},
   "outputs": [],
   "source": [
    "# writing a function to obtain the plot string from the plot dataset\n",
    "def acquire_plot(base_movie: str): \n",
    "  # input: a movie name (precise) or a movie id \n",
    "  # output: the movie's plot\n",
    "\n",
    "  if base_movie.startswith(\"tt\"):   # search by movie name\n",
    "    base_movie_row = df.filter(df.id == base_movie).collect()\n",
    "  else:                             # search by movie id\n",
    "    base_movie_row = df.filter(df.Title == base_movie).collect()\n",
    "\n",
    "  if base_movie_row: \n",
    "    movie_plot = base_movie_row[0]['Plot']\n",
    "    return movie_plot\n",
    "  else: \n",
    "    print(\"Sorry, \", base_movie, \" is not found in the database. Please type in exact movie names\")"
   ]
  },
  {
   "cell_type": "code",
   "execution_count": 11,
   "id": "4973a9af",
   "metadata": {},
   "outputs": [],
   "source": [
    "def query_preprocessing(plot: str): \n",
    "  plot_df = spark.createDataFrame([(1, plot)]).toDF('index','inputText')\n",
    "  plot_tok = regextok.transform(plot_df)\n",
    "  plot_swr = stopwrmv.transform(plot_tok)\n",
    "  plot_vec = model.transform(plot_swr)\n",
    "  plot_vec = plot_vec.select('wordvectors').collect()[0][0]\n",
    "  return plot_vec"
   ]
  },
  {
   "cell_type": "markdown",
   "id": "dcb45e02",
   "metadata": {},
   "source": [
    "### 1.3.1 Basic recommender\n",
    "The Basic Recommender only takes in one movie as the only parameter: "
   ]
  },
  {
   "cell_type": "code",
   "execution_count": 12,
   "id": "717173d1",
   "metadata": {},
   "outputs": [
    {
     "name": "stderr",
     "output_type": "stream",
     "text": [
      "                                                                                \r"
     ]
    }
   ],
   "source": [
    "input_user_1 = '2012'    # User input The exact movie name or movie id(e.g. 'tt1023003')\n",
    "basic_movie_plot = acquire_plot(input_user_1)\n",
    "basic_vec = query_preprocessing(basic_movie_plot)"
   ]
  },
  {
   "cell_type": "markdown",
   "id": "4b538bcc",
   "metadata": {},
   "source": [
    "### 1.3.2 Advanced Recommender\n",
    "The Advanced Recommender takes in one extra movie as the second parameter, then our word2vec model will be able to recommend a third movie that has similar plot as the combination of the first two. : "
   ]
  },
  {
   "cell_type": "code",
   "execution_count": 13,
   "id": "39f4126b",
   "metadata": {},
   "outputs": [],
   "source": [
    "input_user_2 = '' #'tt0468569'    # User input The exact movie name or movie id(e.g. 'tt1023003')\n",
    "if input_user_2: \n",
    "  second_movie_plot = acquire_plot(input_user_2)\n",
    "  second_vec = query_preprocessing(second_movie_plot)\n",
    "  combined_vec = basic_vec + second_vec"
   ]
  },
  {
   "cell_type": "markdown",
   "id": "678c02b5",
   "metadata": {},
   "source": [
    "### 1.3.3 Duplicate Plot Checker\n",
    "The duplicate Plot checker is similar to the basic recommender where it finds an existing movie with similar plot as the user's input plot description. "
   ]
  },
  {
   "cell_type": "code",
   "execution_count": 14,
   "id": "2ed4012a",
   "metadata": {},
   "outputs": [],
   "source": [
    "input_user_3 = 'Once upon a time in a crime ridden Gotham City, a member of the rich Wayne family decided to put on a mask and protect the people of Gotham'\n",
    "check_vec = query_preprocessing(input_user_3)"
   ]
  },
  {
   "cell_type": "markdown",
   "id": "5c13ed06",
   "metadata": {},
   "source": [
    "### 1.4 implementation of the above three tools\n",
    "The parameters of the three tools have been created. To optimize performance, the implementation will create only one single session when running. \n",
    "\n",
    "__Note for Meenu__ : the order of the IF clauses in this following cell is important, the user can only run one of the three tools at once. "
   ]
  },
  {
   "cell_type": "code",
   "execution_count": 15,
   "id": "1c628e1f",
   "metadata": {},
   "outputs": [
    {
     "name": "stdout",
     "output_type": "stream",
     "text": [
      "Running Duplicate Plot Checker\n"
     ]
    },
    {
     "name": "stderr",
     "output_type": "stream",
     "text": [
      "23/08/09 14:50:04 WARN TaskSetManager: Stage 129 contains a task of very large size (7098 KiB). The maximum recommended task size is 1000 KiB.\n",
      "[Stage 131:>                                                        (0 + 8) / 9]\r"
     ]
    },
    {
     "name": "stdout",
     "output_type": "stream",
     "text": [
      "+---------+------------------+---------------------+------------+----------------------------------------------------------------------------------------------------------------------------------------------------------------------------------------------------------------------------------------------------------------------------------------------------------------------------------------------------------------------------------------------------------------------------------------------------------------------------------------------------------------------------------------------------------------------------------------------------------------------------------------------------------------------------------------------------------------------------------------------------------------------------------------------------------------------------------------------------------------------------------------------------------------------------------------------------------------------------------------------------------------------------------------------------------------------------------------------------------------------------------------------------------------------------------------------------------------------------------------------------------------------------------------------------------------------------------------------------------------------------------------------------------------------------------------------------------------------------------------------------------------------------------------------------------------------------------------------------------------------------------------------------------------------------------------------------------------------------------------------------------------------------------------------------------------------------------------------------------------------------------------------------------------------------------------------------------------------------------------------------------------------------------------------------------------------------------------------------------------------------------------------------------------------------------------------------------------------------------------------------------------------------------------------------------------------------------------------------------------------------------------------------------------------------------------------------------------------------------------------------------------------------------------------------------------------------------------------------------------------------------------------------------------------------------------------------------------------------------------------------------------------------------------------------------------------------------------------------------------------------------------------------------------------------------------------------------------------------------------------------------------------------------------------------------------------------------------------------------------------------------------------------------------------------------------------------------------------------------------------------------------------------------------------------------------------------------------------------------------------------------------------------------------------------------------------------------------------------------------------------------------------------------------------------------------------------------------------------------------------------------------------------------------------------------------------------------------------------------------------------------------------------------------------------------------------------------------------------------------------------------------------------------------------------------------------------------------------------------------------------------------------------------------------------------------------------------------------------------------------------------------------------------------------------------------------------------------------------------------------------------------------------------------------------------------------------------------------------------------------------------------------------------------------------------------------------------------------------------------------------------------------------------------------------------------------+\n",
      "|movie_id |similarity        |Title                |Source      |Plot                                                                                                                                                                                                                                                                                                                                                                                                                                                                                                                                                                                                                                                                                                                                                                                                                                                                                                                                                                                                                                                                                                                                                                                                                                                                                                                                                                                                                                                                                                                                                                                                                                                                                                                                                                                                                                                                                                                                                                                                                                                                                                                                                                                                                                                                                                                                                                                                                                                                                                                                                                                                                                                                                                                                                                                                                                                                                                                                                                                                                                                                                                                                                                                                                                                                                                                                                                                                                                                                                                                                                                                                                                                                                                                                                                                                                                                                                                                                                                                                                                                                                                                                                                                                                                                                                                                                                                                                                                                                                                                                                                  |\n",
      "+---------+------------------+---------------------+------------+----------------------------------------------------------------------------------------------------------------------------------------------------------------------------------------------------------------------------------------------------------------------------------------------------------------------------------------------------------------------------------------------------------------------------------------------------------------------------------------------------------------------------------------------------------------------------------------------------------------------------------------------------------------------------------------------------------------------------------------------------------------------------------------------------------------------------------------------------------------------------------------------------------------------------------------------------------------------------------------------------------------------------------------------------------------------------------------------------------------------------------------------------------------------------------------------------------------------------------------------------------------------------------------------------------------------------------------------------------------------------------------------------------------------------------------------------------------------------------------------------------------------------------------------------------------------------------------------------------------------------------------------------------------------------------------------------------------------------------------------------------------------------------------------------------------------------------------------------------------------------------------------------------------------------------------------------------------------------------------------------------------------------------------------------------------------------------------------------------------------------------------------------------------------------------------------------------------------------------------------------------------------------------------------------------------------------------------------------------------------------------------------------------------------------------------------------------------------------------------------------------------------------------------------------------------------------------------------------------------------------------------------------------------------------------------------------------------------------------------------------------------------------------------------------------------------------------------------------------------------------------------------------------------------------------------------------------------------------------------------------------------------------------------------------------------------------------------------------------------------------------------------------------------------------------------------------------------------------------------------------------------------------------------------------------------------------------------------------------------------------------------------------------------------------------------------------------------------------------------------------------------------------------------------------------------------------------------------------------------------------------------------------------------------------------------------------------------------------------------------------------------------------------------------------------------------------------------------------------------------------------------------------------------------------------------------------------------------------------------------------------------------------------------------------------------------------------------------------------------------------------------------------------------------------------------------------------------------------------------------------------------------------------------------------------------------------------------------------------------------------------------------------------------------------------------------------------------------------------------------------------------------------------------------------------------------+\n",
      "|tt3095464|0.7917236883620549|Agnee                |wiki_plot   |Tanisha is a young daughter of a man working for the brutal underworld mafia Gulzar and Haydar. When Tanisha's father decides he wants to leave the crime world to make a better life for his daughter, Gulzar and Haydar kills him, and family in order to eliminate a potential threat. Gulzar kills everyone in the family, and when he is about to kill Tanisha, she stabs him and vows to him she will kill them one day before escaping. She grows up to be a stone-cold assassin. She receives training from her uncle and ultimately engages in vigilante murders that she hopes will lead her to her ultimate target, the powerful underworld crime syndicate responsible for her parents' death.                                                                                                                                                                                                                                                                                                                                                                                                                                                                                                                                                                                                                                                                                                                                                                                                                                                                                                                                                                                                                                                                                                                                                                                                                                                                                                                                                                                                                                                                                                                                                                                                                                                                                                                                                                                                                                                                                                                                                                                                                                                                                                                                                                                                                                                                                                                                                                                                                                                                                                                                                                                                                                                                                                                                                                                                                                                                                                                                                                                                                                                                                                                                                                                                                                                                                                                                                                                                                                                                                                                                                                                                                                                                                                                                                                                                                                                            |\n",
      "|tt0098141|0.773035857775966 |The Punisher         |wiki_plot   |Frank Castle is the city's most wanted, and most mysterious vigilante, known as \"The Punisher\". He has killed 125 criminals in the past five years. An ex-police officer, Castle's family was murdered in a mob hit, in which Castle was also thought to have perished. This, combined with Castle's furtive methods of attack, has made the Punisher's identity a mystery to the general public.\\nLiving in the sewers and waging a one-man war against organized crime, his only friend is an old alcoholic named Shake, a former stage actor who speaks in rhyme for reasons unexplained. Now legally declared dead, Castle strikes back from beyond the grave, killing mobsters wherever he can find them. Due to his war against them, the Mafia families have weakened, forcing one of the family leaders, Gianni Franco, to come out of retirement.\\nFranco has a plan to unify the families. This, however, has attracted the attention of the Yakuza, Asia's most powerful crime syndicate. Led by Lady Tanaka, the Yakuza decide to take over the Mafia families and all of their interests. In order to sway the mobsters to their cause, they kidnap their children and hold them for ransom.\\nShake pleads with the Punisher to save the children, who are likely to be sold into the Arab slave trade regardless of whether the Mafia give into the demands. The Punisher attacks Yakuza businesses, warning that for every day the children are held in captivity, he will inflict heavy costs on them in property damage. The Yakuza later capture the Punisher and Shake and attempt to torture them into submission, but the Punisher breaks free and decides the only course of action is a direct rescue.\\nHe is able to save most of the children with a .45 Thompson M1928 submachine gun against the Yakuza guards and commandeers a bus to get the kidnapped children to safety. However prior to this Tommy Franco, the son of Gianni Franco, had been taken away to Yakuza headquarters. When driving the busload of kids, the Punisher runs into a police roadblock and is arrested. While in custody Castle is reunited with one of his old partners, who warns his multiple killings will likely get him executed, however at a later point Castle is broken out of jail by Franco's men. Franco admits he brought this on himself as the hit on Castle's family was an error, and persuades the Punisher to help him save his son. Castle ironically agrees to work with his old enemy for the sake of stopping the Japanese criminal underworld from taking root in America.\\nFranco and the Punisher raid the Yakuza headquarters, fight and kill all the Yakuza, including Lady Tanaka and her daughter. Upon being reunited with his son, Franco betrays the Punisher, but Castle defends himself and kills Franco. Franco's son then threatens the Punisher for killing his father, but cannot bring himself to hurt him. Castle warns Franco's son to \"stay a good boy, and grow up to be a good man\", not following his father's misdeeds. He also warns he will return should the boy commit any crimes, then disappears. The police arrive, only to find no trace of the Punisher. Meanwhile, at his lair, Castle lets the audience know that he will be waiting in the shadows, serving his own brand of justice.                                                                                                                                                                                                                                                                                                                                                                                                                                                                                                                                                                                                                                                                                                                                                                                                                                                                                                                                                                                                                                                                                                                                                                                                             |\n",
      "|tt1430612|0.7495370295774375|Brick Mansions       |wiki_plot   |In 2018, in a dystopian, futuristic Detroit, abandoned brick mansions left from better times house only the most dangerous criminals. Unable to control the crime, city officials built a colossal containment wall that is 40 FT tall and has been constructed around this area known as the projects, or the \"no go zone\" to protect the rest of the city. Police monitor all movement in and out of Brick Mansions in which schools and hospitals in this dangerous area are shut down. For undercover cop Damien Collier (Paul Walker), every day is a battle against corruption after the death of his father. For French-Caribbean ex-convict Lino (David Belle), every day is a fight to live an honest life. Lino starred in District B13 in which he continues his role of a muscular man that is a master of building hoping, fighting, and acrobatics which brings excitement and action to the movie. Damien maintains a charming, intelligent, and consistent character throughout the film. When drug kingpin Tremaine Alexander (RZA) kidnaps Lino's girlfriend and holds her captive as Lino stole a massive amount of heroin and emptied it down a bathtub, Damien reluctantly accepts Lino's help and together they struggle to save Lino's girlfriend and stop a sinister plot that involves a stolen bomb set to destroy the entire city. Initially Lino was deceived by trusted police officials as he was under the assumption that Tremaine was wanted for being a highly dangerous criminal. Lino was not aware that Tremaine had been making payments to the police station as police officials were corrupt. Formerly trusted police officials allow Tremaine to leave with Lino's girlfriend and lock Lino up in a prison cell. Lino kills a police official in attempt to escape and save his girlfriend. Lino is put in the back of a police van where he meets Damien, an under cover cop playing the role of another prisoner. Damien uncuffs his handcuffs, throws the police out of the car, and then helps Lino to escape. At first, Damien and Lino fight both verbally and physically, but they quickly learn how to work together for the greater good. Moreover, there is also some girl fighting action between Lino's Spanish waitress girlfriend and Tremaine's assistant that portrays herself to be bisexual. To overcome Tremaine is not an easy task as he is an incredibly powerful leader with an army of heavily armed individuals ready to protect him at any cost. Eventually, with the help of Lino and Tremaine, Damien realizes at the end of the film that his father was killed by his fellow officers that he trusted and that the mayor of Detroit was behind the plot. Damien, Lino and Tremaine confront the mayor and manage to prove his true intentions and have him publicly humiliated on the news after compromising plotting an attack on Brick Mansions precedence and then he is arrested. Brick Mansions is welcomed back into the city, with Damien and Lino continuing their friendship. Tremaine runs for mayor of Detroit 2018 while promoting the idea of equality and freedom.                                                                                                                                                                                                                                                                                                                                                                                                                                                                                                                                                                                                                                                                                                                                                                                                                                                                                                                                                                                                                                                                                                                                                                                                                                                                                                                                                                                                             |\n",
      "|tt0035031|0.7487479845861069|Man with Two Lives   |wiki_plot   |The story is of a man who is brought back from the dead and whose body is hijacked by the soul of an executed gangster, consequently making the deceased man a high proze criminal.\\nAt the beginning of the story the happy couple Phillip Bennett and Louise Hammond are engaged to be married. A major bump on their planned road to the future emerges when sadly Phillip is killed in a traffic accident as they are driving back from their very engagement party.\\nThe dubious Dr. Clarke, who apparently is known for being able to revive deceased animals, is called on for the purpose of bringing Phillip back to life. By midnight on that very same night as Phillips demise, the infamous criminal Panino, is to receive his capital punishment for his crimes: execution through electrocution.\\nJust minutes before midnight Dr. Clarke performs his resuscitaion operation and it is a successful one, but when Panino dies moments later his ominous soul enters and claims Phillip's body. The soul change goes unnoticed however, and Phillip's body is brought home to his hopeful wife to be. At first it appears Phillip suffers from severe amnesia, and he is uncapable of recognizing any of the persons previously known to him, which is of course an unpleasant surprise.\\nPhillip instantly starts roaming Panino's old hoods, and it doesn't take long before he once again is supreme commander of his old gang, running the business as usual, but in the shape of Phillip. The people around Phillip, including his father Hobart Bennet is worried by the development and this new personality of Phillip's. They become even more worried when they start noticing that he is more and more absent from his home. Soon a crime wave hits the city and there is an outbreak of gang wars, throwing the city into chaos as gang member are killed on every side. Accompanied by Dr. Clarke, Phillip's father Hobart visit the gang's headquarters and meets with the gangsters, to tell them who Panino/Phillip really is. They inquires the gang members about Phillip's relation to the gang and its business, and the gang members find out that Phillip, a respectable citizen, is the son of Hobart Bennet. Phillip/Panino finds out about this and feels threatened by the fact that some of the gang members know about his \"secret identity\". He murders all of the potentially dangerous gang members, but fails to do off with one person, a brother to one of the murdered gang members, who knows his secret.\\nThis remaining man becomes the key to catching Panino/Phillip and stop him from going through with his planned robbery. He tips the police of Panino/Phillip's plans and a trap is laid out to catch the felon, but he escapes and decides to take revenge on the detective in charge of hunting him down. He ends up killing the detective, but is in turn killed himself by Dr. Clarke.[1]                                                                                                                                                                                                                                                                                                                                                                                                                                                                                                                                                                                                                                                                                                                                                                                                                                                                                                                                                                                                                                                                                                                                                                                                                                                                                                                                                                                                                                                                                                                                                                                                            |\n",
      "|tt0062760|0.7481849726362221|The Brotherhood      |wiki_plot   |A young American man arrives in Palermo by plane. A taxi driver at the airport immediately gets word to Frank Ginetta (Kirk Douglas), who hides, armed with a gun, until he realizes that the visitor he's been warned about is actually his younger brother Vinnie (Alex Cord).\\nFrank happily welcomes his brother and takes him home, catching up on old times. But his wife, Ida (Irene Papas), reminds him that \"they're going to send someone,\" suggesting that perhaps Vinnie is the one.\\nIn a flashback, Frank recalls better times in New York City, beginning with Vinnie's homecoming from military service and subsequent marriage to Emma Bertolo (Susan Strasberg). The father of the bride, Dominick Bertolo (Luther Adler) is a Mafia don, as is the groom's brother, Frank. And among those paying their respects as guests at the wedding are mob leaders like Egan (Murray Hamilton), Rotherman (Val Avery) and Levin (Alan Hewitt), who are the equals of Frank and Dominick in the New York region's organized crime.\\nThese capos within the Organization meet as a board to coordinate their business. The majority becomes increasingly unhappy with Frank's position, as he seems opposed to every new idea. Frank also dispenses justice on his own in the old Sicilian fashion, without seeking approval from the others. They, not being of Sicilian origin, are trying to leave behind the old traditional methods, such as when two of Frank's hit men kill a stool pigeon in the marshes and leave him tied to a chair with a canary stuffed in his mouth, as a warning to others who might talk too much.\\nFrank still fondly remembers his father, who also was a mafioso who was assassinated in a hit. Vinnie is more of a businessman, and takes sides with the other board members in ventures they intend to pursue without his brother. Frank resents this, striking Vinnie for defying him and insisting to the board that Vinnie will have no part in what they have planned.\\nOlder members of the organization who are no longer involved in decision-making tell Frank that it was Dom Bertolo who made it possible for outsiders to spot and find members of their Mafia family, resulting in 41 murders, Frank's father included. Bertolo had taken up outside of the family 35 years earlier with Irish and Jewish outsiders who wanted to get in the Mafia, and by doing so secured his own power in the larger, expanded outfit against older members like Frank's father. Frank is conflicted because Bertolo is his brother's father in law, but the Sicilian code of honor decides what he must do. Pretending to reconcile with Dominick for past differences, he offers to submit to the new deal, while in reality he is taking him to a deserted warehouse to be executed. As he realizes what his fate is, a terrified Dominick collapses from heart failure.\\nFrank hides out in Sicily, but knows his days are numbered and that the Board plans to have him killed. Realizing that it is Vinnie who has been forced under threats by Egan to do the job of killing him, Frank bitterly accepts this fate in the hope that it will save his brother's life and that of his family back in America. Vinnie realizes at last that he has been played like a puppet all along against his well-meaning brother, who in order to protect him lays down his own life, handing Vinnie their father's shotgun with which to shoot him.                                                                                                                                                                                                                                                                                                                                                                                                                                                                                                                                                                                                                                                                                                                                                                                                                                                                                                                                                                                                                                                                           |\n",
      "|tt4116284|0.7443889837145563|The Lego Batman Movie|wiki_plot   |Within the Lego Universe, Batman continues to protect Gotham City and fight crime. During his latest mission to stop Joker from destroying the city, he hurts his arch-rival's feelings by telling him he is not as important in his life as he thinks he is, leading Joker to seek the ultimate revenge on him. The following day, Batman's alter ego, Bruce Wayne, attends the city's winter gala, which is celebrating both the retirement of Commissioner Gordon and the ascension of his daughter Barbara as the city's new police commissioner, only to be infuriated by Barbara's plans to restructure the police to function without the need of Batman. Without warning, Joker crashes the party with the city's other villains, all of whom surrender, with the exception of Harley Quinn, who disappears during the confusion.\\nSuspecting his arch-rival is up to something, Batman plots to steal Superman's Phantom Zone Projector, a device that can banish anyone to the Phantom Zone which houses some of the most dangerous villains in the Lego multiverse. Just as he plans his heist of the device, Alfred intervenes and advises him to take charge of Dick Grayson, whom Bruce unwittingly adopted as his ward during the gala. Reluctantly agreeing to do so, Batman fosters Dick as Robin, whereupon the pair successfully recover the Projector from the Fortress of Solitude, and break into Arkham Asylum to send Joker to the Phantom Zone. Suspecting that the Joker wanted to be sent there, Barbara locks up Batman and Robin for their reckless actions.\\nWhile the Projector is being seized as evidence, Harley steals it back as part of Joker's plan and frees him, allowing him to return to Gotham with all the villains he had recruited in the Phantom Zone, including King Kong, the Gremlins, the Wicked Witch of the West, a Tyrannosaurus and a Velociraptor, Lord Voldemort, Sauron, the Jaws shark, the Daleks, Lord Vampyre, Agent Smith and his clones, and the Kraken. Realizing that the city does need him, Barbara releases Batman and Robin and teams up with them and Alfred to stop the Joker. Although Batman finds himself able to trust and rely on his new team upon reaching Wayne Island, he chooses to send them away rather than losing them like his parents. Upon facing him alone, Joker believes that Batman is incapable of change and zaps him to the Phantom Zone before stealing the Batcave's stash of confiscated bombs. Arriving in the Phantom Zone, Batman witnesses the harm his selfishness has caused to everyone and slowly accepts his greatest fear. Making a deal with the Zone's gatekeeper Phyllis, a talking Lego brick, to be allowed back to Gotham in order to retrieve the Zone's escaped prisoners, Batman arrives in time to save his teammates, apologizing to them for his actions, and requesting their help to stop Joker.\\nRealizing that Joker plans to use the explosives he took to destroy the city's Energy Facility, thus causing the city to come apart and be destroyed, Batman turns Barbara into Batgirl, before he, his team, and Gotham City's other villains, who felt neglected by Joker, manage to successfully send the escaped villains back to the Phantom Zone. However, the group fail to stop Joker's bombs going off as the explosion begins to tear the city apart at the plates beneath it. Knowing this was his fault, Batman reluctantly convinces Joker that he is the true reason for being the hero he is before they, their friends and allies, and the city's inhabitants, chain-link themselves together and pull the plates back together, saving the city.\\nWith the city saved, Batman prepares to be taken back into the Phantom Zone to fulfill his bargain only to be rejected by Phyllis who chooses to let him remain after seeing how much he had changed in order to save everyone. Batman allows Joker and the rest of his rogues gallery to temporarily escape with the confidence that whenever they return, they will be no match for his new alliance with Robin, Batgirl, and Alfred.                                                                                                                                                                                                                                                                                                                                                                                                                               |\n",
      "|tt0372784|0.743730082690912 |Batman Begins        |wiki_plot   |As a child, Bruce Wayne falls down into a dry well and is attacked by a swarm of bats, subsequently developing a phobia of the creatures. While watching an opera with his parents, Thomas and Martha, Bruce becomes frightened by performers masquerading as bats and asks to leave. Outside, mugger Joe Chill murders Bruce's parents in front of him. Orphaned, Bruce is raised by the family butler, Alfred Pennyworth.\\nFourteen years later, Chill is freed in exchange for testifying against Gotham City mafia boss Carmine Falcone. Bruce intends to murder Chill, but one of Falcone's assassins does so first. Bruce's childhood friend, Assistant District Attorney Rachel Dawes, berates him for attempting to undermine the justice system, saying that his father would be ashamed. Bruce confronts Falcone, who tells him that real power comes from being feared. Bruce decides to travel the world and learn how to confront injustice. While serving a prison sentence for theft in Bhutan, he meets Henri Ducard, who trains him as a member of the League of Shadows, led by Ra's al Ghul. After completing his training and purging his fears, Bruce learns that the League intends to destroy Gotham, believing it to be corrupt, decadent, hypocritical and beyond saving. Bruce rejects the League's cause and burns down their temple during his escape. Ra's is killed by falling debris, while Bruce saves the unconscious Ducard.\\nBruce returns to Gotham intent on fighting crime. Inspired by his childhood fear, he takes up the vigilante identity of \"Batman\" and sets up a base in the caves beneath Wayne Manor. He takes an interest in his family's company, Wayne Enterprises, now run by the unscrupulous William Earle. Company archivist Lucius Fox allows Bruce access to prototype defense technologies, including a protective bodysuit and a heavily armored car, the Tumbler. Bruce poses as a shallow playboy to allay suspicion.\\nBatman intercepts a drug shipment, provides Rachel with evidence against Falcone, and enlists Sergeant James Gordon, one of the few honest cops left in Gotham, to arrest him. In the prison, Falcone meets Dr. Jonathan Crane, a corrupt psychiatrist whom he has helped smuggle drugs into Gotham, and threatens to reveal his complicity if he does not declare him mentally unfit for trial. Crane puts on a scarecrow mask and sprays Falcone with a fear-inducing hallucinogen that drives him insane (which causes Falcone to constantly mouth the word \"Scarecrow\"), and has him transferred to Arkham Asylum. While investigating \"the Scarecrow\", Batman is exposed to the hallucinogen and left incapacitated. He is saved by Alfred and given an antidote developed by Fox. When Rachel accuses Crane of corruption, Crane reveals that he has been pouring his fear-inducing drug into Gotham's water supply. He drugs Rachel with it, but Batman saves her and subdues Crane, who claims to work for Ra's al Ghul. Batman evades the police to get Rachel to safety, administers the antidote, and gives her a vial of it for Gordon and another for mass production. Ducard reappears at Bruce's birthday party and reveals himself to be the true Ra's al Ghul. Having stolen a powerful microwave emitter from Wayne Enterprises, he plans to vaporize Gotham's water supply, rendering Crane's drug airborne and causing mass hysteria that will destroy the city. He sets Wayne Manor aflame and leaves Bruce to die, but Alfred rescues him.\\nRa's loads the microwave emitter onto Gotham's monorail system, intending to release the drug as the train travels toward the city's central water source. Batman rescues Rachel from a drugged mob and indirectly reveals his identity to her. He pursues Ra's onto the monorail and fights him just as Gordon uses the Tumbler's cannons to destroy a section of the track. Batman refuses to kill Ra's, but also chooses not to save him, gliding from the train and leaving Ra's aboard as it crashes and explodes, killing him.\\nBruce gains Rachel's respect but loses her love, as she decides she cannot be with him while he is Batman. Bruce buys a controlling stake in the now publicly traded Wayne Enterprises, fires Earle, and replaces him with Fox. Gordon is promoted to Lieutenant of the Gotham City Police Department, shows Batman the Bat-Signal, and mentions a criminal who leaves Joker playing cards at crime scenes. Batman promises to investigate, and disappears into the night.|\n",
      "|tt0031102|0.7408981384013343|Blackmail            |wiki_plot   |John Ingram is a very successful oil-field firefighter and a family man. All is going so well, he's even bought his own oil well in hope of striking it rich. His greatest fears are realized, however, when a man, William Ramey, from his secret past sees Ingram in a newsreel and shows up looking for a job.\\nRamey attempts to blackmail Ingram, who had run from a chain gang years ago and started a new life under an assumed name. After a shady deal is made, Ingram is tricked and Ramey turns him into authorities, who return him to a chain gang. Ramey subsequently becomes a very rich man.\\nWhen Ingram finds out about the success of the man who betrayed him, he plans a daring escape in an attempt to return home and get revenge.                                                                                                                                                                                                                                                                                                                                                                                                                                                                                                                                                                                                                                                                                                                                                                                                                                                                                                                                                                                                                                                                                                                                                                                                                                                                                                                                                                                                                                                                                                                                                                                                                                                                                                                                                                                                                                                                                                                                                                                                                                                                                                                                                                                                                                                                                                                                                                                                                                                                                                                                                                                                                                                                                                                                                                                                                                                                                                                                                                                                                                                                                                                                                                                                                                                                                                                                                                                                                                                                                                                                                                                                                                                                                                                                                                                                             |\n",
      "|tt0134033|0.7386507529883098|Plunkett & Macleane  |wiki_plot   |1748 England is infested with highwaymen — men such as Will Plunkett, a London-based criminal working with his partner Rob. When Rob is killed by Thief Taker General Chance after a botched heist outside debtors prison, Plunkett must find a way to retrieve a large ruby that his partner had swallowed What he doesn't know is that the incident was witnessed by James Macleane, a socialite from the upper echelons of society, who had found himself in debtor's prison. Macleane sees this ruby as his ticket out of debt, and after narrowly escaping discovery by Chance, he decides to exhume Rob's body.\\nPlunkett is waiting at the cemetery and forces Macleane to give the ruby to him. When they are both found by Chance's men, Plunkett swallows the ruby himself. While in Newgate Prison, the two form a partnership that utilizes Plunkett's criminal know-how and Macleane's social status to bribe their way out of prison. This tentative partnership leads to an unlikely alliance, deemed \"The Gentlemen Highwaymen\", where they gladly relieve the gentry of their possessions.\\nWhen Macleane falls for the beautiful Lady Rebecca, the niece of the powerful Lord Gibson, their plans to escape to America go awry. The pair part ways after a disastrous attempt to rescue Lady Rebecca from forced exodus, which leads to the death of Lord Gibson, and the discovery that Macleane's has gambled away all of their funds.\\nMacleane is eventually captured and tried for Lord Gibson's murder, earning him a date with the gallows. Plunkett orchestrates a daring escape, aided by Lady Rebecca and the flamboyant Lord Rochester. After a tense chase through the city sewers that sees Plunkett exact revenge upon Thief taker Chance, the three escape to freedom.                                                                                                                                                                                                                                                                                                                                                                                                                                                                                                                                                                                                                                                                                                                                                                                                                                                                                                                                                                                                                                                                                                                                                                                                                                                                                                                                                                                                                                                                                                                                                                                                                                                                                                                                                                                                                                                                                                                                                                                                                                                                                                                                                                                                                                                                                                                                                                                                                                                                                                                                                                                                                                                                                                                                                               |\n",
      "|tt1490017|0.7356299863795505|The Lego Movie       |imdb_details|The wizard Vitruvius attempts to protect the \"Kragle\", a superweapon, from the evil Lord Business. He fails to do so, but warns Lord Business of a prophecy where a person called the \"Special\" will find the Piece of Resistance capable of stopping the Kragle.8 and a half years later, Emmet Joe Brickowski, an ordinary construction worker with no special qualities, comes across a woman, Wyldstyle, who is searching for something after hours at Emmet's construction site. When he investigates, Emmet falls into a hole and finds the Piece of Resistance. Compelled to touch it, Emmet experiences vivid visions and passes out. He awakens elsewhere, with the Piece of Resistance attached to his back, in the custody of Bad Cop, Lord Business' lieutenant (whose head sometimes turns around to reveal his other side, Good Cop). There, Emmet learns Business' plans to destroy the world with the Kragle. Wyldstyle rescues Emmet and takes him to Vitruvius, who explains that he and Wyldstyle are \"Master Builders\" capable of building anything they need, both with great speed and without instruction manuals. Years ago, Lord Business rose to power, his disapproval of such anarchic creativity resulting in him capturing many of them. As the \"Special\", Emmet is destined to defeat him, yet Wyldstyle and Vitruvius are disappointed to find Emmet displays no creativity.Lord Business plans to use the Kragle (a tube of Krazy Glue with some of the logo's letters rubbed out) to freeze the universe perfectly in place. Bad Cop tracks down Emmet and Wyldstyle, who are rescued by her boyfriend, Batman. He takes them to a meeting of the remaining Master Builders. Unimpressed with Emmet, they refuse to fight Lord Business. Bad Cop and his forces attack and capture all the Master Builders except for Emmet and a few others. Emmet believes the Master Builders' weakness is that their individual creativity prevents them from working together. He devises a team plan to infiltrate Lord Business' headquarters. As Emmet and his allies are captured and imprisoned, Vitruvius attempts to fight back but is killed; with his dying words he admits the prophecy was made up. Business throws the Piece of Resistance off the edge of the universe, sets his headquarters to self-destruct, and leaves with the Kragle while leaving Bad Cop behind. Vitruvius' ghost tells Emmet that even if the prophecy isn't real, Emmet can still save the world. Emmet, tied to the self-destruct mechanism's battery, sacrifices himself for his friends, flinging himself off the edge of the universe.Inspired, the Master Builders escape and rally with the help of Bad Cop. Soon, Lego people across the universe are building their own creative weapons. The Master Builders lead the charge against Business.Emmet finds himself in the real world, where the events of the story are being played out within the imagination of a boy, Finn. His father \"The Man Upstairs\" chastises his son for ruining his father's Lego set by mixing characters with the wrong playsets, and originating hodgepodge creations. Finn argues that Lego are for children, but his father prefers to Krazy Glue his perceived perfect creations together permanently, as this is how adults play with Lego. In the Lego world, Lord Business' forces gain the upper hand. Realizing the father will glue all the Lego in place, Emmet wills himself to move and falls off the table, gaining Finn's attention. Finn returns Emmet to the Lego set, where Emmet builds a massive robot to assist his friends before confronting Lord Business. In the real world, Finn's father looks at his son's creations again and finds himself impressed. Realizing his son based the evil Lord Business on him, the father has a change of heart and allows his son to play with his Lego however he sees fit. In the Lego world, Emmet convinces Lord Business that Business, too, is special, as is everyone. Moved by Emmet's speech, Business destroys the Kragle and unfreezes his victims.With the world saved, Emmet celebrates with his friends, and Wyldstyle, whose real name is Lucy, becomes his girlfriend. However, alien Duplo beings beam down, announcing their intentions to invade, due to the father allowing Finn's little sister to play with his Lego set as well. Then at the end they get captured by the Duplo toys                                                                                          |\n",
      "+---------+------------------+---------------------+------------+----------------------------------------------------------------------------------------------------------------------------------------------------------------------------------------------------------------------------------------------------------------------------------------------------------------------------------------------------------------------------------------------------------------------------------------------------------------------------------------------------------------------------------------------------------------------------------------------------------------------------------------------------------------------------------------------------------------------------------------------------------------------------------------------------------------------------------------------------------------------------------------------------------------------------------------------------------------------------------------------------------------------------------------------------------------------------------------------------------------------------------------------------------------------------------------------------------------------------------------------------------------------------------------------------------------------------------------------------------------------------------------------------------------------------------------------------------------------------------------------------------------------------------------------------------------------------------------------------------------------------------------------------------------------------------------------------------------------------------------------------------------------------------------------------------------------------------------------------------------------------------------------------------------------------------------------------------------------------------------------------------------------------------------------------------------------------------------------------------------------------------------------------------------------------------------------------------------------------------------------------------------------------------------------------------------------------------------------------------------------------------------------------------------------------------------------------------------------------------------------------------------------------------------------------------------------------------------------------------------------------------------------------------------------------------------------------------------------------------------------------------------------------------------------------------------------------------------------------------------------------------------------------------------------------------------------------------------------------------------------------------------------------------------------------------------------------------------------------------------------------------------------------------------------------------------------------------------------------------------------------------------------------------------------------------------------------------------------------------------------------------------------------------------------------------------------------------------------------------------------------------------------------------------------------------------------------------------------------------------------------------------------------------------------------------------------------------------------------------------------------------------------------------------------------------------------------------------------------------------------------------------------------------------------------------------------------------------------------------------------------------------------------------------------------------------------------------------------------------------------------------------------------------------------------------------------------------------------------------------------------------------------------------------------------------------------------------------------------------------------------------------------------------------------------------------------------------------------------------------------------------------------------------------------------------------------+\n",
      "only showing top 10 rows\n",
      "\n"
     ]
    },
    {
     "name": "stderr",
     "output_type": "stream",
     "text": [
      "                                                                                \r"
     ]
    }
   ],
   "source": [
    "if input_user_3: \n",
    "  \n",
    "  print(\"Running Duplicate Plot Checker\")\n",
    "  data = [(i[0], float(cossim(check_vec, i[2])), i[1], i[4], i[3]) for i in chunks]\n",
    "  sim_df = spark.createDataFrame(data).toDF('movie_id', 'similarity', 'Title', 'Source', 'Plot')\n",
    "  sim_df = (sim_df.dropDuplicates(['movie_id'])\n",
    "            .orderBy('similarity', ascending=False)\n",
    "            .limit(30))\n",
    "  sim_df.show(10, truncate=False)\n",
    "\n",
    "elif not input_user_2:  # if input_user_2 is empty, then run the basic recommender\n",
    "  \n",
    "  print(\"Only one movie is input, running Basic Recommender\")\n",
    "  data = [(i[0], float(cossim(basic_vec, i[2])), i[1], i[4], i[3]) for i in chunks]\n",
    "  sim_df = spark.createDataFrame(data).toDF('movie_id', 'similarity', 'Title', 'Source', 'Plot')\n",
    "  sim_df = (sim_df.filter((sim_df.Title != input_user_1) & (sim_df.movie_id != input_user_1))\n",
    "            .dropDuplicates(['movie_id'])\n",
    "            .orderBy('similarity', ascending=False)\n",
    "            .limit(30))\n",
    "  sim_df.show(10, truncate=False)\n",
    "  \n",
    "elif input_user_2: \n",
    "  \n",
    "  print(\"Only two movies are input, running Advanced Recommender\")\n",
    "  data = [(i[0], float(cossim(combined_vec, i[2])), i[1], i[4], i[3]) for i in chunks]\n",
    "  sim_df = spark.createDataFrame(data).toDF('movie_id', 'similarity', 'Title', 'Source', 'Plot')\n",
    "  sim_df = (sim_df.filter((sim_df.Title != input_user_1) & (sim_df.movie_id != input_user_1)\n",
    "                          & (sim_df.Title != input_user_2) & (sim_df.movie_id != input_user_2))\n",
    "            .dropDuplicates(['movie_id'])\n",
    "            .orderBy('similarity', ascending=False)\n",
    "            .limit(30))\n",
    "  sim_df.show(10, truncate=False)"
   ]
  },
  {
   "cell_type": "code",
   "execution_count": null,
   "id": "3708ae24",
   "metadata": {},
   "outputs": [],
   "source": [
    "## Search Engine Template -> uses spark df to query based on user input\n",
    "### need to different html -> one is the home page (user input) then the second one is the output screen\n",
    "#### there is a way to only use one html for simplicity "
   ]
  },
  {
   "cell_type": "code",
   "execution_count": null,
   "id": "545b492c",
   "metadata": {},
   "outputs": [],
   "source": [
    "from flask import Flask, request, jsonify, redirect, url_for, render_template\n",
    "import numpy as np\n",
    "\n",
    "app = Flask(\"JSON_OUTPUT\")\n",
    "\n",
    "@app.route('/')\n",
    "def form():\n",
    "    return render_template('moreedits.html')\n",
    "        \n",
    "@app.route('/submit', methods=['GET','POST'])\n",
    "def submit():\n",
    "    if request.method == 'POST':\n",
    "        types_user = request.form['q']\n",
    "        price_level_user = request.form['price_level']\n",
    "        neighborhood_user = request.form['neighborhoods']\n",
    "        rating_user = request.form['rating']\n",
    "        \n",
    "        def cossim(v1, v2):\n",
    "            dot_product = np.sum(v1 * v2)\n",
    "            mag_v1 = np.sqrt(np.sum(np.power(v1, 2)))\n",
    "            mag_v2 = np.sqrt(np.sum(np.power(v2, 2)))\n",
    "            return dot_product / (mag_v1 * mag_v2 + 0.1)\n",
    "\n",
    "        query_txt = types_user\n",
    "        query_df = sc.parallelize([(1,query_txt)]).toDF(['index','Types'])\n",
    "        query_tok = regexTokFilter.transform(query_df)\n",
    "        query_vec = model_type.transform(query_tok)\n",
    "        query_vec = query_vec.select('wordvectors_type').collect()[0][0]\n",
    "        \n",
    "        sim_rdd = sc.parallelize((i[0],i[1], i[2],i[3],i[4],i[5],i[6],float(cossim(query_vec, i[7])), i[8]) for i in sparkDF_wv_final)\n",
    "        sim_df = spark.createDataFrame(sim_rdd).\\\n",
    "            withColumnRenamed('_1', 'Name').\\\n",
    "            withColumnRenamed('_2', 'Address').\\\n",
    "            withColumnRenamed('_3', 'Latitude').\\\n",
    "            withColumnRenamed('_4', 'Longitude').\\\n",
    "            withColumnRenamed('_5', 'Types').\\\n",
    "            withColumnRenamed('_6', 'Price_level').\\\n",
    "            withColumnRenamed('_7', 'Rating').\\\n",
    "            withColumnRenamed('_8', 'Similarity').\\\n",
    "            withColumnRenamed('_9', 'Neighborhood').\\\n",
    "            orderBy(\"Similarity\", ascending=False)\n",
    "\n",
    "    \n",
    "    pandas_df = sim_df.toPandas()\n",
    "    df_filtered = pandas_df[pandas_df['Price_level'] == int(price_level_user)]\n",
    "    df_filtered1 = df_filtered[df_filtered['Rating'] == int(rating_user)]\n",
    "    df_filtered2 = df_filtered1[df_filtered1['Neighborhood'] == neighborhood_user]\n",
    "    html_table = df_filtered2.head(10).to_html(classes='table')\n",
    "    return render_template('onlytable.html', table=html_table)\n",
    "\n",
    "@app.route('/output')\n",
    "def output():\n",
    "    # render the output HTML page\n",
    "    return render_template('onlytable.html',table=processed_data)\n",
    "\n",
    "app.run(host='localhost', port=7030)"
   ]
  },
  {
   "cell_type": "code",
   "execution_count": null,
   "id": "ebcb6087",
   "metadata": {},
   "outputs": [],
   "source": []
  }
 ],
 "metadata": {
  "kernelspec": {
   "display_name": "Python 3 (ipykernel)",
   "language": "python",
   "name": "python3"
  },
  "language_info": {
   "codemirror_mode": {
    "name": "ipython",
    "version": 3
   },
   "file_extension": ".py",
   "mimetype": "text/x-python",
   "name": "python",
   "nbconvert_exporter": "python",
   "pygments_lexer": "ipython3",
   "version": "3.11.2"
  }
 },
 "nbformat": 4,
 "nbformat_minor": 5
}
