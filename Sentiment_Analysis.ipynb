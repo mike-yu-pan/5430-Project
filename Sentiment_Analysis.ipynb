{
 "cells": [
  {
   "cell_type": "markdown",
   "id": "5a480cf6",
   "metadata": {},
   "source": [
    "# Sentiment Analysis for IMDB reviews"
   ]
  },
  {
   "cell_type": "markdown",
   "id": "9e7e6348",
   "metadata": {},
   "source": [
    "**Objective:** Identify sentiment for IMDB reviews to determine whether it matches the target sentiment for the movie.\n",
    "\n",
    "**Note:** Using Kaggle IMDB Spoiler Dataset for movie reviews, need to input with Mike's cleaned data for plot + movie reviews"
   ]
  },
  {
   "cell_type": "markdown",
   "id": "a8bb9e31",
   "metadata": {},
   "source": [
    "### 1. Sentiment Analysis using NLTK Sentiment Intensity Analyzer (VADER)"
   ]
  },
  {
   "cell_type": "markdown",
   "id": "3cf89c68",
   "metadata": {},
   "source": [
    "#### Load Datasets"
   ]
  },
  {
   "cell_type": "code",
   "execution_count": 3,
   "id": "7f16a321",
   "metadata": {},
   "outputs": [],
   "source": [
    "import json"
   ]
  },
  {
   "cell_type": "markdown",
   "id": "2d5bf0ce",
   "metadata": {},
   "source": [
    "Movie review dataset"
   ]
  },
  {
   "cell_type": "code",
   "execution_count": 4,
   "id": "a333faa5",
   "metadata": {},
   "outputs": [],
   "source": [
    "with open(\"IMDB_reviews.json\", 'r') as f:\n",
    "    json_data = f.read()\n",
    "\n",
    "# Split the file contents into individual JSON objects\n",
    "json_objects = json_data.strip().split('\\n')\n",
    "\n",
    "# Load each JSON object and store them in a list\n",
    "loaded_data = []\n",
    "for obj in json_objects:\n",
    "    data = json.loads(obj)\n",
    "    loaded_data.append(data)"
   ]
  },
  {
   "cell_type": "markdown",
   "id": "7e225e23",
   "metadata": {},
   "source": [
    "Movie plot dataset"
   ]
  },
  {
   "cell_type": "code",
   "execution_count": 5,
   "id": "dab95283",
   "metadata": {},
   "outputs": [],
   "source": [
    "with open(\"IMDB_movie_details.json\", 'r') as f:\n",
    "    json_data = f.read()\n",
    "\n",
    "# Split the file contents into individual JSON objects\n",
    "json_objects = json_data.strip().split('\\n')\n",
    "\n",
    "# Load each JSON object and store them in a list\n",
    "loaded_plots = []\n",
    "for obj in json_objects:\n",
    "    data = json.loads(obj)\n",
    "    loaded_plots.append(data)"
   ]
  },
  {
   "cell_type": "markdown",
   "id": "07291d16",
   "metadata": {},
   "source": [
    "Merged dataset based on movie ID:"
   ]
  },
  {
   "cell_type": "code",
   "execution_count": 6,
   "id": "9491261a",
   "metadata": {},
   "outputs": [],
   "source": [
    "merged_list = [dict1 | dict2 for dict1 in loaded_data for dict2 in loaded_plots if dict1[\"movie_id\"] == dict2[\"movie_id\"]]"
   ]
  },
  {
   "cell_type": "markdown",
   "id": "99b77163",
   "metadata": {},
   "source": [
    "Keep only movies with plots:"
   ]
  },
  {
   "cell_type": "code",
   "execution_count": 42,
   "id": "76ecab8b",
   "metadata": {
    "scrolled": true
   },
   "outputs": [
    {
     "data": {
      "text/plain": [
       "538828"
      ]
     },
     "execution_count": 42,
     "metadata": {},
     "output_type": "execute_result"
    }
   ],
   "source": [
    "movies_list = [review for review in merged_list if 'plot_synopsis' in review and review['plot_synopsis']]\n",
    "\n",
    "len(movies_list)"
   ]
  },
  {
   "cell_type": "code",
   "execution_count": 33,
   "id": "85e96f29",
   "metadata": {},
   "outputs": [
    {
     "name": "stdout",
     "output_type": "stream",
     "text": [
      "All movies have a plot_synopsis.\n"
     ]
    }
   ],
   "source": [
    "empty_plot_synopsis_exists = any('plot_synopsis' in review and not review['plot_synopsis'] for review in movies_list)\n",
    "\n",
    "if empty_plot_synopsis_exists:\n",
    "    print(\"There is at least one movie with an empty plot_synopsis.\")\n",
    "else:\n",
    "    print(\"All movies have a plot_synopsis.\")"
   ]
  },
  {
   "cell_type": "markdown",
   "id": "f78a409c",
   "metadata": {},
   "source": [
    "#### Attach movie name based on movie ID from a titles.aka.tsv.gz dataset:"
   ]
  },
  {
   "cell_type": "markdown",
   "id": "f6516008",
   "metadata": {},
   "source": [
    "Load dataset:"
   ]
  },
  {
   "cell_type": "code",
   "execution_count": 7,
   "id": "be16e1da",
   "metadata": {},
   "outputs": [
    {
     "data": {
      "text/html": [
       "<div>\n",
       "<style scoped>\n",
       "    .dataframe tbody tr th:only-of-type {\n",
       "        vertical-align: middle;\n",
       "    }\n",
       "\n",
       "    .dataframe tbody tr th {\n",
       "        vertical-align: top;\n",
       "    }\n",
       "\n",
       "    .dataframe thead th {\n",
       "        text-align: right;\n",
       "    }\n",
       "</style>\n",
       "<table border=\"1\" class=\"dataframe\">\n",
       "  <thead>\n",
       "    <tr style=\"text-align: right;\">\n",
       "      <th></th>\n",
       "      <th>titleId</th>\n",
       "      <th>title</th>\n",
       "    </tr>\n",
       "  </thead>\n",
       "  <tbody>\n",
       "    <tr>\n",
       "      <th>0</th>\n",
       "      <td>tt0000001</td>\n",
       "      <td>Карменсіта</td>\n",
       "    </tr>\n",
       "    <tr>\n",
       "      <th>1</th>\n",
       "      <td>tt0000001</td>\n",
       "      <td>Carmencita</td>\n",
       "    </tr>\n",
       "    <tr>\n",
       "      <th>2</th>\n",
       "      <td>tt0000001</td>\n",
       "      <td>Carmencita - spanyol tánc</td>\n",
       "    </tr>\n",
       "    <tr>\n",
       "      <th>3</th>\n",
       "      <td>tt0000001</td>\n",
       "      <td>Καρμενσίτα</td>\n",
       "    </tr>\n",
       "    <tr>\n",
       "      <th>4</th>\n",
       "      <td>tt0000001</td>\n",
       "      <td>Карменсита</td>\n",
       "    </tr>\n",
       "  </tbody>\n",
       "</table>\n",
       "</div>"
      ],
      "text/plain": [
       "     titleId                      title\n",
       "0  tt0000001                 Карменсіта\n",
       "1  tt0000001                 Carmencita\n",
       "2  tt0000001  Carmencita - spanyol tánc\n",
       "3  tt0000001                 Καρμενσίτα\n",
       "4  tt0000001                 Карменсита"
      ]
     },
     "execution_count": 7,
     "metadata": {},
     "output_type": "execute_result"
    }
   ],
   "source": [
    "#import the required Library\n",
    "import pandas as pdd\n",
    "#Select all columns \n",
    "#dff = pdd.read_csv(\"title.akas.tsv.gz\",sep=\"\\t\")\n",
    "#Select specified columns \n",
    "dff = pdd.read_csv(\"title.akas.tsv.gz\",sep=\"\\t\", usecols = ['titleId','title'])\n",
    "#print the dataframe header and some rows\n",
    "dff.head()"
   ]
  },
  {
   "cell_type": "markdown",
   "id": "37563118",
   "metadata": {},
   "source": [
    "Remove duplicates:"
   ]
  },
  {
   "cell_type": "code",
   "execution_count": 117,
   "id": "1339a1de",
   "metadata": {},
   "outputs": [
    {
     "name": "stdout",
     "output_type": "stream",
     "text": [
      "titleId is unique: False\n",
      "title is unique: False\n"
     ]
    }
   ],
   "source": [
    "for col in dff.columns:\n",
    "    is_unique = not dff[col].duplicated().any()\n",
    "    print(f\"{col} is unique: {is_unique}\")"
   ]
  },
  {
   "cell_type": "markdown",
   "id": "f6648532",
   "metadata": {},
   "source": [
    "There will still be duplicated title ID if we only use drop_duplicate directly. The duplicate is due to titles in different language. Hence, I combined the titles under the same title id after dropping duplicates:"
   ]
  },
  {
   "cell_type": "code",
   "execution_count": 8,
   "id": "90502856",
   "metadata": {},
   "outputs": [],
   "source": [
    "dff_no_duplicates = dff.drop_duplicates()"
   ]
  },
  {
   "cell_type": "code",
   "execution_count": 281,
   "id": "e215c24f",
   "metadata": {},
   "outputs": [],
   "source": [
    "dff_no_duplicates['title'] = dff_no_duplicates['title'].astype(str)"
   ]
  },
  {
   "cell_type": "code",
   "execution_count": 16,
   "id": "75d0fbdb",
   "metadata": {},
   "outputs": [],
   "source": [
    "df_final = dff_no_duplicates.groupby('titleId')['title'].agg(', '.join).reset_index()"
   ]
  },
  {
   "cell_type": "markdown",
   "id": "4eb00fd4",
   "metadata": {},
   "source": [
    "Merge review and plots dataset with movie title, using title_id:"
   ]
  },
  {
   "cell_type": "code",
   "execution_count": 53,
   "id": "a836d570",
   "metadata": {},
   "outputs": [],
   "source": [
    "import pandas as pd"
   ]
  },
  {
   "cell_type": "code",
   "execution_count": 54,
   "id": "46351fc1",
   "metadata": {
    "scrolled": true
   },
   "outputs": [],
   "source": [
    "# Convert movies_list to a DataFrame\n",
    "movies_df = pd.DataFrame(movies_list)"
   ]
  },
  {
   "cell_type": "code",
   "execution_count": 55,
   "id": "a931ed18",
   "metadata": {},
   "outputs": [],
   "source": [
    "# Merge the DataFrames based on 'movie_id' and 'titleId' using inner join\n",
    "merged_df = df_final.merge(movies_df, left_on='titleId', right_on='movie_id', how='inner')"
   ]
  },
  {
   "cell_type": "code",
   "execution_count": 60,
   "id": "296f76d0",
   "metadata": {},
   "outputs": [
    {
     "data": {
      "text/plain": [
       "538727"
      ]
     },
     "execution_count": 60,
     "metadata": {},
     "output_type": "execute_result"
    }
   ],
   "source": [
    "len(merged_df)"
   ]
  },
  {
   "cell_type": "code",
   "execution_count": 62,
   "id": "9e51d122",
   "metadata": {},
   "outputs": [],
   "source": [
    "# Rename 'titleId' column to 'Id'\n",
    "merged_df.rename(columns={'titleId': 'id'}, inplace=True)"
   ]
  },
  {
   "cell_type": "code",
   "execution_count": 59,
   "id": "6192a0f3",
   "metadata": {},
   "outputs": [],
   "source": [
    "# Drop 'movie_id' column\n",
    "merged_df.drop(columns='movie_id', inplace=True)"
   ]
  },
  {
   "cell_type": "code",
   "execution_count": 64,
   "id": "8bf1e585",
   "metadata": {
    "scrolled": true
   },
   "outputs": [
    {
     "data": {
      "text/html": [
       "<div>\n",
       "<style scoped>\n",
       "    .dataframe tbody tr th:only-of-type {\n",
       "        vertical-align: middle;\n",
       "    }\n",
       "\n",
       "    .dataframe tbody tr th {\n",
       "        vertical-align: top;\n",
       "    }\n",
       "\n",
       "    .dataframe thead th {\n",
       "        text-align: right;\n",
       "    }\n",
       "</style>\n",
       "<table border=\"1\" class=\"dataframe\">\n",
       "  <thead>\n",
       "    <tr style=\"text-align: right;\">\n",
       "      <th></th>\n",
       "      <th>id</th>\n",
       "      <th>title</th>\n",
       "      <th>review_date</th>\n",
       "      <th>user_id</th>\n",
       "      <th>is_spoiler</th>\n",
       "      <th>review_text</th>\n",
       "      <th>rating</th>\n",
       "      <th>review_summary</th>\n",
       "      <th>plot_summary</th>\n",
       "      <th>duration</th>\n",
       "      <th>genre</th>\n",
       "      <th>release_date</th>\n",
       "      <th>plot_synopsis</th>\n",
       "    </tr>\n",
       "  </thead>\n",
       "  <tbody>\n",
       "    <tr>\n",
       "      <th>0</th>\n",
       "      <td>tt0015864</td>\n",
       "      <td>La quimera del oro, Kultakuume, La ruée vers l...</td>\n",
       "      <td>14 October 2005</td>\n",
       "      <td>ur0176092</td>\n",
       "      <td>True</td>\n",
       "      <td>If any single figure can fairly be said to sym...</td>\n",
       "      <td>8.2</td>\n",
       "      <td>The Little Fellow is simply superb!</td>\n",
       "      <td>A lone prospector ventures into Alaska looking...</td>\n",
       "      <td>1h 35min</td>\n",
       "      <td>[Adventure, Comedy, Drama]</td>\n",
       "      <td>1925</td>\n",
       "      <td>It is in the middle of the Gold Rush. A Lone P...</td>\n",
       "    </tr>\n",
       "    <tr>\n",
       "      <th>1</th>\n",
       "      <td>tt0015864</td>\n",
       "      <td>La quimera del oro, Kultakuume, La ruée vers l...</td>\n",
       "      <td>19 October 2005</td>\n",
       "      <td>ur3838473</td>\n",
       "      <td>True</td>\n",
       "      <td>In Charles Chaplin's 1925 film, \"The Gold Rush...</td>\n",
       "      <td>8.2</td>\n",
       "      <td>A masterpiece of early cinema....</td>\n",
       "      <td>A lone prospector ventures into Alaska looking...</td>\n",
       "      <td>1h 35min</td>\n",
       "      <td>[Adventure, Comedy, Drama]</td>\n",
       "      <td>1925</td>\n",
       "      <td>It is in the middle of the Gold Rush. A Lone P...</td>\n",
       "    </tr>\n",
       "  </tbody>\n",
       "</table>\n",
       "</div>"
      ],
      "text/plain": [
       "          id                                              title  \\\n",
       "0  tt0015864  La quimera del oro, Kultakuume, La ruée vers l...   \n",
       "1  tt0015864  La quimera del oro, Kultakuume, La ruée vers l...   \n",
       "\n",
       "       review_date    user_id  is_spoiler  \\\n",
       "0  14 October 2005  ur0176092        True   \n",
       "1  19 October 2005  ur3838473        True   \n",
       "\n",
       "                                         review_text rating  \\\n",
       "0  If any single figure can fairly be said to sym...    8.2   \n",
       "1  In Charles Chaplin's 1925 film, \"The Gold Rush...    8.2   \n",
       "\n",
       "                        review_summary  \\\n",
       "0  The Little Fellow is simply superb!   \n",
       "1    A masterpiece of early cinema....   \n",
       "\n",
       "                                        plot_summary  duration  \\\n",
       "0  A lone prospector ventures into Alaska looking...  1h 35min   \n",
       "1  A lone prospector ventures into Alaska looking...  1h 35min   \n",
       "\n",
       "                        genre release_date  \\\n",
       "0  [Adventure, Comedy, Drama]         1925   \n",
       "1  [Adventure, Comedy, Drama]         1925   \n",
       "\n",
       "                                       plot_synopsis  \n",
       "0  It is in the middle of the Gold Rush. A Lone P...  \n",
       "1  It is in the middle of the Gold Rush. A Lone P...  "
      ]
     },
     "execution_count": 64,
     "metadata": {},
     "output_type": "execute_result"
    }
   ],
   "source": [
    "merged_df.head(2)"
   ]
  },
  {
   "cell_type": "markdown",
   "id": "4b44d794",
   "metadata": {},
   "source": [
    "### Test sentences/reviews"
   ]
  },
  {
   "cell_type": "markdown",
   "id": "826d1f8a",
   "metadata": {},
   "source": [
    "Use nltk to split review text into sentences:"
   ]
  },
  {
   "cell_type": "code",
   "execution_count": 68,
   "id": "442da2df",
   "metadata": {},
   "outputs": [],
   "source": [
    "import nltk\n",
    "nltk.download('punkt')  "
   ]
  },
  {
   "cell_type": "code",
   "execution_count": 69,
   "id": "f8b36fc1",
   "metadata": {},
   "outputs": [],
   "source": [
    "def split_into_sentences(text):\n",
    "    # Use the punkt tokenizer to split the text into sentences\n",
    "    sentences = nltk.sent_tokenize(text)\n",
    "    return sentences"
   ]
  },
  {
   "cell_type": "markdown",
   "id": "8596d9cf",
   "metadata": {},
   "source": [
    "Store all reviews in a list and run sentiment and emotional analysis:\n",
    "* reviews for the same movie (identified by id) is combined \n",
    "* reviews are split into sentences"
   ]
  },
  {
   "cell_type": "code",
   "execution_count": 92,
   "id": "a511e7da",
   "metadata": {
    "tags": []
   },
   "outputs": [],
   "source": [
    "import math\n",
    "\n",
    "def normalize(score, alpha=15):\n",
    "    import math\n",
    "    \n",
    "    \"\"\"\n",
    "    Normalize the score to be between -1 and 1 using an alpha that\n",
    "    approximates the max expected value\n",
    "    \"\"\"\n",
    "    norm_score = score/math.sqrt((score*score) + alpha)\n",
    "    return norm_score"
   ]
  },
  {
   "cell_type": "code",
   "execution_count": 115,
   "id": "4519a286",
   "metadata": {},
   "outputs": [],
   "source": [
    "# !pip install nrclex"
   ]
  },
  {
   "cell_type": "code",
   "execution_count": 109,
   "id": "05777d94",
   "metadata": {},
   "outputs": [],
   "source": [
    "# Initialize the Emotion Classification\n",
    "from nrclex import NRCLex\n",
    "\n",
    "# Initialize the Sentiment Intensity Analyzer\n",
    "import nltk\n",
    "from nltk.sentiment.vader import SentimentIntensityAnalyzer \n",
    "sent_analyzer = SentimentIntensityAnalyzer()"
   ]
  },
  {
   "cell_type": "markdown",
   "id": "c732cd1e",
   "metadata": {},
   "source": [
    "only ran 1000 rows bc i ran out of memeory:"
   ]
  },
  {
   "cell_type": "code",
   "execution_count": 282,
   "id": "d3995bf8",
   "metadata": {},
   "outputs": [],
   "source": [
    "# Create a list to store movie entries\n",
    "reviews_plot_list = []\n",
    "\n",
    "# Iterate through the merged_df\n",
    "for index, row in merged_df[:1000].iterrows():\n",
    "    id = row['id']\n",
    "    title = row['title']\n",
    "    review_text = row['review_text']\n",
    "    plot_synopsis = row['plot_synopsis']\n",
    "    \n",
    "    # Split review_text into sentences\n",
    "    review_sentences = split_into_sentences(review_text)\n",
    "    \n",
    "    # Split plot_synopsis into sentences\n",
    "    plot_sentences = split_into_sentences(plot_synopsis)\n",
    "    \n",
    "    # Check if id or title exists in the reviews_plot_list\n",
    "    existing_movie = next((movie for movie in reviews_plot_list if movie['id'] == id or movie['title'] == title), None)\n",
    "    if existing_movie:\n",
    "        existing_movie['reviews'].extend(review_sentences)\n",
    "        existing_movie['plots'].extend(plot_sentences)\n",
    "    else:\n",
    "        reviews_plot_list.append({'id': id, 'title': title, 'reviews': review_sentences, 'plots': plot_sentences})"
   ]
  },
  {
   "cell_type": "code",
   "execution_count": 284,
   "id": "04e7c1d3",
   "metadata": {},
   "outputs": [],
   "source": [
    "# Create an empty dictionary to store all the updated movie data\n",
    "updated_movies = {}\n",
    "\n",
    "# Iterate through the movies in reviews_plot_list\n",
    "for movie in reviews_plot_list:\n",
    "    id = movie['id']\n",
    "    title = movie['title']\n",
    "    reviews = movie.get('reviews', [])\n",
    "    plots = movie.get('plots', [])\n",
    "\n",
    "    # Combine all reviews and plots into one string\n",
    "    all_reviews_text = ' '.join(reviews)\n",
    "    all_plots_text = ' '.join(plots)\n",
    "\n",
    "    # Calculate sentiment scores using sent_analyzer for reviews and normalize\n",
    "    if reviews:\n",
    "        review_sentiment_scores = [normalize(sent_analyzer.polarity_scores(sentence)['compound']) for sentence in reviews]\n",
    "        combined_review_sentiment = sum(review_sentiment_scores) / len(review_sentiment_scores)\n",
    "        # Perform emotion analysis using NRCLex for reviews\n",
    "        review_emotion_scores = NRCLex(all_reviews_text).affect_frequencies\n",
    "    else:\n",
    "        combined_review_sentiment = None\n",
    "        review_emotion_scores = None\n",
    "    \n",
    "    # Calculate sentiment scores using sent_analyzer for plots and normalize\n",
    "    if plots:\n",
    "        plot_sentiment_scores = [normalize(sent_analyzer.polarity_scores(sentence)['compound']) for sentence in plots]\n",
    "        combined_plot_sentiment = sum(plot_sentiment_scores) / len(plot_sentiment_scores)\n",
    "        # Perform emotion analysis using NRCLex for plots\n",
    "        plot_emotion_scores = NRCLex(all_plots_text).affect_frequencies\n",
    "    else:\n",
    "        combined_plot_sentiment = None\n",
    "        plot_emotion_scores = None\n",
    "\n",
    "    # Sort emotion scores in descending order of value for reviews and plots\n",
    "    sorted_review_emotion_scores = sorted(review_emotion_scores.items(), key=lambda x: x[1], reverse=True) if review_emotion_scores else None\n",
    "    sorted_plot_emotion_scores = sorted(plot_emotion_scores.items(), key=lambda x: x[1], reverse=True) if plot_emotion_scores else None\n",
    "\n",
    "    # Create a new dictionary with additional information\n",
    "    updated_movie_one = {\n",
    "        'id': id,\n",
    "        'title': title,\n",
    "        'reviews_emotion_scores': sorted_review_emotion_scores,\n",
    "        'reviews_sentiment': combined_review_sentiment,\n",
    "        'plots_emotion_scores': sorted_plot_emotion_scores,\n",
    "        'plots_sentiment': combined_plot_sentiment\n",
    "    }\n",
    "    \n",
    "    # Store the updated movie data in the all_updated_movies dictionary\n",
    "    updated_movies[id] = updated_movie_one"
   ]
  },
  {
   "cell_type": "markdown",
   "id": "66c86ec1",
   "metadata": {},
   "source": [
    "Query by movie title or id to find sentiment and emotion analysis for both the movie plot and review:"
   ]
  },
  {
   "cell_type": "code",
   "execution_count": 258,
   "id": "0d65a525",
   "metadata": {},
   "outputs": [],
   "source": [
    "def search_movie_by_id(sentiment_dict, search_id):\n",
    "    if search_id in sentiment_dict:\n",
    "        return sentiment_dict[search_id]\n",
    "    return None  # Movie with search_id not found\n",
    "\n",
    "def search_movie_by_title(updated_movie, search_title):\n",
    "    matching_movies = []\n",
    "    for movie_id, movie_data in updated_movie.items():\n",
    "        if search_title.lower() in movie_data['title'].lower():\n",
    "            matching_movies.append(movie_data)\n",
    "    return matching_movies"
   ]
  },
  {
   "cell_type": "code",
   "execution_count": 285,
   "id": "b6f98903",
   "metadata": {},
   "outputs": [
    {
     "name": "stdout",
     "output_type": "stream",
     "text": [
      "=====Reviews Emotion Scores:=====\n",
      "positive: 0.24654460599533298\n",
      "trust: 0.12977921378567583\n",
      "anticipation: 0.12161191886555377\n",
      "negative: 0.11824627535451444\n",
      "joy: 0.10294381619098905\n",
      "fear: 0.07220427212349668\n",
      "sadness: 0.06659486627176449\n",
      "surprise: 0.0537156704361874\n",
      "anger: 0.0525489140190271\n",
      "disgust: 0.03581044695745827\n",
      "anticip: 0.0\n",
      "Reviews Sentiment: 0.045468294686666855\n",
      "\n",
      "=====Plots Emotion Scores:=====\n",
      "positive: 0.2\n",
      "trust: 0.14482758620689656\n",
      "negative: 0.14482758620689656\n",
      "joy: 0.10344827586206896\n",
      "fear: 0.0896551724137931\n",
      "anticipation: 0.0896551724137931\n",
      "anger: 0.07586206896551724\n",
      "surprise: 0.06896551724137931\n",
      "sadness: 0.04827586206896552\n",
      "disgust: 0.034482758620689655\n",
      "anticip: 0.0\n",
      "Plots Sentiment: -0.03364110422266192\n"
     ]
    }
   ],
   "source": [
    "search_id = 'tt0017136'  # Replace with the desired movie ID\n",
    "\n",
    "movie_by_id = search_movie_by_id(updated_movies, search_id)\n",
    "\n",
    "if movie_by_id:\n",
    "#     print(f\"Movie ID: {movie_by_id['id']}\")\n",
    "#     print(f\"Movie Title: {movie_by_id['title']}\")\n",
    "    for key, value in movie_by_id.items():\n",
    "        if key == 'reviews_emotion_scores':\n",
    "            print(\"=====Reviews Emotion Scores:=====\")\n",
    "            for emotion, score in value:\n",
    "                print(f\"{emotion}: {score}\")\n",
    "        elif key == 'plots_emotion_scores':\n",
    "            print(\"\\n=====Plots Emotion Scores:=====\")\n",
    "            for emotion, score in value:\n",
    "                print(f\"{emotion}: {score}\")\n",
    "        elif key == 'reviews_sentiment':\n",
    "            print(f\"Reviews Sentiment: {value}\")\n",
    "        elif key == 'plots_sentiment':\n",
    "            print(f\"Plots Sentiment: {value}\")\n",
    "else:\n",
    "    print(\"Movie with ID not found\")"
   ]
  },
  {
   "cell_type": "code",
   "execution_count": 286,
   "id": "3763828e",
   "metadata": {},
   "outputs": [
    {
     "name": "stdout",
     "output_type": "stream",
     "text": [
      "=====Reviews Emotion Scores:=====\n",
      "positive: 0.2641305814110347\n",
      "trust: 0.12639956832591392\n",
      "joy: 0.12491568865506543\n",
      "anticipation: 0.10616484554161608\n",
      "negative: 0.10333198435181438\n",
      "fear: 0.07824092809928504\n",
      "sadness: 0.062457844327532715\n",
      "surprise: 0.054903547821394845\n",
      "anger: 0.04357210306218805\n",
      "disgust: 0.03588290840415486\n",
      "anticip: 0.0\n",
      "reviews_sentiment: 0.07843402981055392\n",
      "\n",
      "=====Plots Emotion Scores:=====\n",
      "positive: 0.23809523809523808\n",
      "negative: 0.1523809523809524\n",
      "trust: 0.14285714285714285\n",
      "joy: 0.10952380952380952\n",
      "fear: 0.09047619047619047\n",
      "anticipation: 0.08571428571428572\n",
      "anger: 0.08095238095238096\n",
      "sadness: 0.04285714285714286\n",
      "surprise: 0.03333333333333333\n",
      "disgust: 0.023809523809523808\n",
      "anticip: 0.0\n",
      "plots_sentiment: -0.02499485844377837\n",
      "\n",
      "\n"
     ]
    }
   ],
   "source": [
    "search_title = 'Gold rush'  # Replace with the desired movie title (partial or full)\n",
    "\n",
    "movies_by_title = search_movie_by_title(updated_movies, search_title)\n",
    "\n",
    "if movies_by_title:\n",
    "    for movie in movies_by_title:\n",
    "#         print(f\"Movie ID: {movie_by_id['id']}\")\n",
    "#         print(f\"Movie Title: {movie_by_id['title']}\")\n",
    "        for key, value in movie.items():\n",
    "            if key == 'reviews_emotion_scores':\n",
    "                print(\"=====Reviews Emotion Scores:=====\")\n",
    "                for emotion, score in value:\n",
    "                    print(f\"{emotion}: {score}\")\n",
    "            elif key == 'plots_emotion_scores':\n",
    "                print(\"\\n=====Plots Emotion Scores:=====\")\n",
    "                for emotion, score in value:\n",
    "                    print(f\"{emotion}: {score}\")\n",
    "            elif key != 'id' and key != 'title':\n",
    "                print(f\"{key}: {value}\")\n",
    "    print(\"\\n\")\n",
    "else:\n",
    "    print(\"Movie with title not found\")"
   ]
  }
 ],
 "metadata": {
  "kernelspec": {
   "display_name": "Python 3 (ipykernel)",
   "language": "python",
   "name": "python3"
  },
  "language_info": {
   "codemirror_mode": {
    "name": "ipython",
    "version": 3
   },
   "file_extension": ".py",
   "mimetype": "text/x-python",
   "name": "python",
   "nbconvert_exporter": "python",
   "pygments_lexer": "ipython3",
   "version": "3.9.13"
  }
 },
 "nbformat": 4,
 "nbformat_minor": 5
}
