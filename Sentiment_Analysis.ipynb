{
 "cells": [
  {
   "cell_type": "markdown",
   "id": "5a480cf6",
   "metadata": {},
   "source": [
    "# Sentiment Analysis for IMDB reviews"
   ]
  },
  {
   "cell_type": "markdown",
   "id": "9e7e6348",
   "metadata": {},
   "source": [
    "**Objective:** Identify sentiment for IMDB reviews to determine whether it matches the target sentiment for the movie.\n",
    "\n",
    "**Note:** Using Kaggle IMDB Spoiler Dataset for movie reviews, need to input with Mike's cleaned data for plot + movie reviews"
   ]
  },
  {
   "cell_type": "markdown",
   "id": "a8bb9e31",
   "metadata": {},
   "source": [
    "### 1. Sentiment Analysis using NLTK Sentiment Intensity Analyzer (VADER)"
   ]
  },
  {
   "cell_type": "markdown",
   "id": "6032327a",
   "metadata": {},
   "source": [
    "#### Import Libraries"
   ]
  },
  {
   "cell_type": "code",
   "execution_count": 1,
   "id": "f38dcf88",
   "metadata": {
    "tags": []
   },
   "outputs": [],
   "source": [
    "import nltk\n",
    "from nltk.sentiment.vader import SentimentIntensityAnalyzer "
   ]
  },
  {
   "cell_type": "code",
   "execution_count": 2,
   "id": "62679019",
   "metadata": {
    "tags": []
   },
   "outputs": [],
   "source": [
    "sent_analyzer = SentimentIntensityAnalyzer()"
   ]
  },
  {
   "cell_type": "markdown",
   "id": "3cf89c68",
   "metadata": {},
   "source": [
    "#### Load Datasets"
   ]
  },
  {
   "cell_type": "code",
   "execution_count": 3,
   "id": "7f16a321",
   "metadata": {},
   "outputs": [],
   "source": [
    "import json"
   ]
  },
  {
   "cell_type": "markdown",
   "id": "2d5bf0ce",
   "metadata": {},
   "source": [
    "Movie review dataset"
   ]
  },
  {
   "cell_type": "code",
   "execution_count": 4,
   "id": "a333faa5",
   "metadata": {},
   "outputs": [],
   "source": [
    "with open(\"IMDB_reviews.json\", 'r') as f:\n",
    "    json_data = f.read()\n",
    "\n",
    "# Split the file contents into individual JSON objects\n",
    "json_objects = json_data.strip().split('\\n')\n",
    "\n",
    "# Load each JSON object and store them in a list\n",
    "loaded_data = []\n",
    "for obj in json_objects:\n",
    "    data = json.loads(obj)\n",
    "    loaded_data.append(data)\n",
    "\n",
    "# # Now, you can access the loaded_data list to work with your JSON data\n",
    "# # For example, to access the first JSON feed:\n",
    "# first_feed = loaded_data[0]\n",
    "# print(first_feed)  # Replace this with your desired processing of the JSON data"
   ]
  },
  {
   "cell_type": "code",
   "execution_count": 67,
   "id": "390a87cd",
   "metadata": {},
   "outputs": [
    {
     "data": {
      "text/plain": [
       "{'review_date': '6 September 2000',\n",
       " 'movie_id': 'tt0111161',\n",
       " 'user_id': 'ur0842118',\n",
       " 'is_spoiler': True,\n",
       " 'review_text': 'The Shawshank Redemption is without a doubt one of the most brilliant movies I have ever seen. Similar to The Green Mile in many respects (and better than it in almost all of them), these two movies have shown us that Stephen King is a master not only of horror but also of prose that shakes the soul and moves the heart. The plot is average, but King did great things with it in his novella that are only furthered by the direction, and the acting is so top-rate it\\'s almost scary.Tim Robbins plays Andy Dufrane, wrongly imprisoned for 20 years for the murder of his wife. The story focuses on Andy\\'s relationship with \"Red\" Redding (Morgan Freeman, in probably his best role) and his attempts to escape from Shawshank. Bob Gunton is positively evil and frightening as Warden Norton, and there are great performances and cameos all around; the most prominent one being Gil Bellows (late as Billy of Ally McBeal) as Tommy, a fellow inmate of Andy\\'s who suffers under the iron will of Norton.If you haven\\'t seen this movie, GO AND RENT IT NOW. You will not be disappointed. It is positively the best movie of the \\'90\\'s, and one of my Top 3 of all time. This movie is a spectacle to move the mind, soul, and heart. 10/10',\n",
       " 'rating': '10',\n",
       " 'review_summary': \"Simply amazing. The best film of the 90's.\"}"
      ]
     },
     "execution_count": 67,
     "metadata": {},
     "output_type": "execute_result"
    }
   ],
   "source": [
    "loaded_data[1]"
   ]
  },
  {
   "cell_type": "markdown",
   "id": "7e225e23",
   "metadata": {},
   "source": [
    "Movie plot dataset"
   ]
  },
  {
   "cell_type": "code",
   "execution_count": 5,
   "id": "dab95283",
   "metadata": {},
   "outputs": [],
   "source": [
    "with open(\"IMDB_movie_details.json\", 'r') as f:\n",
    "    json_data = f.read()\n",
    "\n",
    "# Split the file contents into individual JSON objects\n",
    "json_objects = json_data.strip().split('\\n')\n",
    "\n",
    "# Load each JSON object and store them in a list\n",
    "loaded_plots = []\n",
    "for obj in json_objects:\n",
    "    data = json.loads(obj)\n",
    "    loaded_plots.append(data)"
   ]
  },
  {
   "cell_type": "markdown",
   "id": "07291d16",
   "metadata": {},
   "source": [
    "Merged dataset based on movie ID:"
   ]
  },
  {
   "cell_type": "code",
   "execution_count": 6,
   "id": "9491261a",
   "metadata": {},
   "outputs": [],
   "source": [
    "merged_list = [dict1 | dict2 for dict1 in loaded_data for dict2 in loaded_plots if dict1[\"movie_id\"] == dict2[\"movie_id\"]]"
   ]
  },
  {
   "cell_type": "code",
   "execution_count": 76,
   "id": "e2afd1ac",
   "metadata": {
    "scrolled": false
   },
   "outputs": [
    {
     "data": {
      "text/plain": [
       "'The Shawshank Redemption is without a doubt one of the most brilliant movies I have ever seen. Similar to The Green Mile in many respects (and better than it in almost all of them), these two movies have shown us that Stephen King is a master not only of horror but also of prose that shakes the soul and moves the heart. The plot is average, but King did great things with it in his novella that are only furthered by the direction, and the acting is so top-rate it\\'s almost scary.Tim Robbins plays Andy Dufrane, wrongly imprisoned for 20 years for the murder of his wife. The story focuses on Andy\\'s relationship with \"Red\" Redding (Morgan Freeman, in probably his best role) and his attempts to escape from Shawshank. Bob Gunton is positively evil and frightening as Warden Norton, and there are great performances and cameos all around; the most prominent one being Gil Bellows (late as Billy of Ally McBeal) as Tommy, a fellow inmate of Andy\\'s who suffers under the iron will of Norton.If you haven\\'t seen this movie, GO AND RENT IT NOW. You will not be disappointed. It is positively the best movie of the \\'90\\'s, and one of my Top 3 of all time. This movie is a spectacle to move the mind, soul, and heart. 10/10'"
      ]
     },
     "execution_count": 76,
     "metadata": {},
     "output_type": "execute_result"
    }
   ],
   "source": [
    "merged_list[1]['review_text']"
   ]
  },
  {
   "cell_type": "code",
   "execution_count": 110,
   "id": "c6bc225f",
   "metadata": {},
   "outputs": [
    {
     "data": {
      "text/plain": [
       "{'movie_id': 'tt0243655',\n",
       " 'plot_summary': \"The setting is Camp Firewood, the year 1981. It's the last day before everyone goes back to the real world, but there's still a summer's worth of unfinished business to resolve. At the center of the action is camp director Beth, who struggles to keep order while she falls in love with the local astrophysics professor. He is busy trying to save the camp from a deadly piece of NASA's Skylab which is hurtling toward earth. All that, plus: a dangerous waterfall rescue, love triangles, misfits, cool kids, and talking vegetable cans. The questions will all be resolved, of course, at the big talent show at the end of the day.                Written by\\nSujit R. Varma\",\n",
       " 'duration': '1h 37min',\n",
       " 'genre': ['Comedy', 'Romance'],\n",
       " 'rating': '6.7',\n",
       " 'release_date': '2002-04-11',\n",
       " 'plot_synopsis': ''}"
      ]
     },
     "execution_count": 110,
     "metadata": {},
     "output_type": "execute_result"
    }
   ],
   "source": [
    "loaded_plots[2]"
   ]
  },
  {
   "cell_type": "markdown",
   "id": "f78a409c",
   "metadata": {},
   "source": [
    "Attach movie name based on movie ID from a titles.aka.tsv.gz dataset:"
   ]
  },
  {
   "cell_type": "markdown",
   "id": "f6516008",
   "metadata": {},
   "source": [
    "Load dataset:"
   ]
  },
  {
   "cell_type": "code",
   "execution_count": 7,
   "id": "be16e1da",
   "metadata": {},
   "outputs": [
    {
     "data": {
      "text/html": [
       "<div>\n",
       "<style scoped>\n",
       "    .dataframe tbody tr th:only-of-type {\n",
       "        vertical-align: middle;\n",
       "    }\n",
       "\n",
       "    .dataframe tbody tr th {\n",
       "        vertical-align: top;\n",
       "    }\n",
       "\n",
       "    .dataframe thead th {\n",
       "        text-align: right;\n",
       "    }\n",
       "</style>\n",
       "<table border=\"1\" class=\"dataframe\">\n",
       "  <thead>\n",
       "    <tr style=\"text-align: right;\">\n",
       "      <th></th>\n",
       "      <th>titleId</th>\n",
       "      <th>title</th>\n",
       "    </tr>\n",
       "  </thead>\n",
       "  <tbody>\n",
       "    <tr>\n",
       "      <th>0</th>\n",
       "      <td>tt0000001</td>\n",
       "      <td>Карменсіта</td>\n",
       "    </tr>\n",
       "    <tr>\n",
       "      <th>1</th>\n",
       "      <td>tt0000001</td>\n",
       "      <td>Carmencita</td>\n",
       "    </tr>\n",
       "    <tr>\n",
       "      <th>2</th>\n",
       "      <td>tt0000001</td>\n",
       "      <td>Carmencita - spanyol tánc</td>\n",
       "    </tr>\n",
       "    <tr>\n",
       "      <th>3</th>\n",
       "      <td>tt0000001</td>\n",
       "      <td>Καρμενσίτα</td>\n",
       "    </tr>\n",
       "    <tr>\n",
       "      <th>4</th>\n",
       "      <td>tt0000001</td>\n",
       "      <td>Карменсита</td>\n",
       "    </tr>\n",
       "  </tbody>\n",
       "</table>\n",
       "</div>"
      ],
      "text/plain": [
       "     titleId                      title\n",
       "0  tt0000001                 Карменсіта\n",
       "1  tt0000001                 Carmencita\n",
       "2  tt0000001  Carmencita - spanyol tánc\n",
       "3  tt0000001                 Καρμενσίτα\n",
       "4  tt0000001                 Карменсита"
      ]
     },
     "execution_count": 7,
     "metadata": {},
     "output_type": "execute_result"
    }
   ],
   "source": [
    "#import the required Library\n",
    "import pandas as pdd\n",
    "#Select all columns \n",
    "#dff = pdd.read_csv(\"title.akas.tsv.gz\",sep=\"\\t\")\n",
    "#Select specified columns \n",
    "dff = pdd.read_csv(\"title.akas.tsv.gz\",sep=\"\\t\", usecols = ['titleId','title'])\n",
    "#print the dataframe header and some rows\n",
    "dff.head()"
   ]
  },
  {
   "cell_type": "code",
   "execution_count": 114,
   "id": "faf8ed40",
   "metadata": {
    "scrolled": true
   },
   "outputs": [
    {
     "data": {
      "text/plain": [
       "pandas.core.frame.DataFrame"
      ]
     },
     "execution_count": 114,
     "metadata": {},
     "output_type": "execute_result"
    }
   ],
   "source": [
    "type(dff)"
   ]
  },
  {
   "cell_type": "markdown",
   "id": "37563118",
   "metadata": {},
   "source": [
    "Remove duplicates:"
   ]
  },
  {
   "cell_type": "code",
   "execution_count": 115,
   "id": "2f47e489",
   "metadata": {},
   "outputs": [
    {
     "data": {
      "text/plain": [
       "Index(['titleId', 'title'], dtype='object')"
      ]
     },
     "execution_count": 115,
     "metadata": {},
     "output_type": "execute_result"
    }
   ],
   "source": [
    "dff.columns"
   ]
  },
  {
   "cell_type": "code",
   "execution_count": 117,
   "id": "1339a1de",
   "metadata": {},
   "outputs": [
    {
     "name": "stdout",
     "output_type": "stream",
     "text": [
      "titleId is unique: False\n",
      "title is unique: False\n"
     ]
    }
   ],
   "source": [
    "for col in dff.columns:\n",
    "    is_unique = not dff[col].duplicated().any()\n",
    "    print(f\"{col} is unique: {is_unique}\")"
   ]
  },
  {
   "cell_type": "markdown",
   "id": "f6648532",
   "metadata": {},
   "source": [
    "There will still be duplicated title ID if we only use drop_duplicate directly. The duplicate is due to titles in different language. Hence, I combined the titles under the same title id after dropping duplicates:"
   ]
  },
  {
   "cell_type": "code",
   "execution_count": 8,
   "id": "90502856",
   "metadata": {},
   "outputs": [],
   "source": [
    "dff_no_duplicates = dff.drop_duplicates()"
   ]
  },
  {
   "cell_type": "code",
   "execution_count": 123,
   "id": "b7cf357a",
   "metadata": {},
   "outputs": [
    {
     "name": "stdout",
     "output_type": "stream",
     "text": [
      "titleId is unique: False\n",
      "title is unique: False\n"
     ]
    }
   ],
   "source": [
    "for col in dff_no_duplicates.columns:\n",
    "    is_unique = not dff_no_duplicates[col].duplicated().any()\n",
    "    print(f\"{col} is unique: {is_unique}\")"
   ]
  },
  {
   "cell_type": "code",
   "execution_count": 15,
   "id": "62f1f2ba",
   "metadata": {},
   "outputs": [
    {
     "name": "stderr",
     "output_type": "stream",
     "text": [
      "C:\\Users\\jessi\\AppData\\Local\\Temp\\ipykernel_23980\\3643846293.py:1: SettingWithCopyWarning: \n",
      "A value is trying to be set on a copy of a slice from a DataFrame.\n",
      "Try using .loc[row_indexer,col_indexer] = value instead\n",
      "\n",
      "See the caveats in the documentation: https://pandas.pydata.org/pandas-docs/stable/user_guide/indexing.html#returning-a-view-versus-a-copy\n",
      "  dff_no_duplicates['title'] = dff_no_duplicates['title'].astype(str)\n"
     ]
    }
   ],
   "source": [
    "dff_no_duplicates['title'] = dff_no_duplicates['title'].astype(str)"
   ]
  },
  {
   "cell_type": "code",
   "execution_count": 16,
   "id": "e133b142",
   "metadata": {},
   "outputs": [],
   "source": [
    "df_final = dff_no_duplicates.groupby('titleId')['title'].agg(', '.join).reset_index()"
   ]
  },
  {
   "cell_type": "code",
   "execution_count": 20,
   "id": "c79fdb39",
   "metadata": {},
   "outputs": [
    {
     "name": "stdout",
     "output_type": "stream",
     "text": [
      "232297    Wet Hot American Summer, ウェット・ホット・アメリカン・サマー, 웻...\n",
      "Name: title, dtype: object\n"
     ]
    }
   ],
   "source": [
    "desired_titleId = 'tt0243655'\n",
    "\n",
    "filtered_titles = df_final[df_final['titleId'] == desired_titleId]['title']\n",
    "\n",
    "# Print the titles matching the desired titleId\n",
    "print(filtered_titles)"
   ]
  },
  {
   "cell_type": "code",
   "execution_count": null,
   "id": "eec40293",
   "metadata": {},
   "outputs": [],
   "source": []
  },
  {
   "cell_type": "markdown",
   "id": "4b44d794",
   "metadata": {},
   "source": [
    "### Test sentences/reviews"
   ]
  },
  {
   "cell_type": "markdown",
   "id": "826d1f8a",
   "metadata": {},
   "source": [
    "Use nltk to split review text into sentences:"
   ]
  },
  {
   "cell_type": "code",
   "execution_count": 84,
   "id": "f8b36fc1",
   "metadata": {},
   "outputs": [
    {
     "name": "stderr",
     "output_type": "stream",
     "text": [
      "[nltk_data] Downloading package punkt to\n",
      "[nltk_data]     C:\\Users\\jessi\\AppData\\Roaming\\nltk_data...\n",
      "[nltk_data]   Unzipping tokenizers\\punkt.zip.\n"
     ]
    }
   ],
   "source": [
    "import nltk\n",
    "nltk.download('punkt')  # Download the necessary data for tokenization (only need to run once)\n",
    "\n",
    "def split_into_sentences(text):\n",
    "    # Use the punkt tokenizer to split the text into sentences\n",
    "    sentences = nltk.sent_tokenize(text)\n",
    "    return sentences"
   ]
  },
  {
   "cell_type": "code",
   "execution_count": 83,
   "id": "22b87ed8",
   "metadata": {
    "tags": []
   },
   "outputs": [],
   "source": [
    "hotel_review = merged_list[1]['review_text']"
   ]
  },
  {
   "cell_type": "code",
   "execution_count": 88,
   "id": "17f0e0e0",
   "metadata": {},
   "outputs": [
    {
     "name": "stdout",
     "output_type": "stream",
     "text": [
      "['The Shawshank Redemption is without a doubt one of the most brilliant movies I have ever seen.', 'Similar to The Green Mile in many respects (and better than it in almost all of them), these two movies have shown us that Stephen King is a master not only of horror but also of prose that shakes the soul and moves the heart.', \"The plot is average, but King did great things with it in his novella that are only furthered by the direction, and the acting is so top-rate it's almost scary.Tim Robbins plays Andy Dufrane, wrongly imprisoned for 20 years for the murder of his wife.\", 'The story focuses on Andy\\'s relationship with \"Red\" Redding (Morgan Freeman, in probably his best role) and his attempts to escape from Shawshank.', \"Bob Gunton is positively evil and frightening as Warden Norton, and there are great performances and cameos all around; the most prominent one being Gil Bellows (late as Billy of Ally McBeal) as Tommy, a fellow inmate of Andy's who suffers under the iron will of Norton.If you haven't seen this movie, GO AND RENT IT NOW.\", 'You will not be disappointed.', \"It is positively the best movie of the '90's, and one of my Top 3 of all time.\", 'This movie is a spectacle to move the mind, soul, and heart.', '10/10']\n"
     ]
    }
   ],
   "source": [
    "# Example usage:\n",
    "text = hotel_review\n",
    "sentences = split_into_sentences(text)\n",
    "print(sentences)"
   ]
  },
  {
   "cell_type": "markdown",
   "id": "57c878ba",
   "metadata": {},
   "source": [
    "### Calculate and print the polarity scores"
   ]
  },
  {
   "cell_type": "markdown",
   "id": "d35f790b",
   "metadata": {},
   "source": [
    "#### Apply the sentiment analyzer to 1 review"
   ]
  },
  {
   "cell_type": "code",
   "execution_count": 89,
   "id": "105ac994",
   "metadata": {
    "tags": []
   },
   "outputs": [
    {
     "data": {
      "text/plain": [
       "'The Shawshank Redemption is without a doubt one of the most brilliant movies I have ever seen.'"
      ]
     },
     "execution_count": 89,
     "metadata": {},
     "output_type": "execute_result"
    }
   ],
   "source": [
    "sent = sentences[0]\n",
    "sent"
   ]
  },
  {
   "cell_type": "code",
   "execution_count": 90,
   "id": "fbc939a3",
   "metadata": {
    "tags": []
   },
   "outputs": [
    {
     "data": {
      "text/plain": [
       "{'neg': 0.0, 'neu': 0.677, 'pos': 0.323, 'compound': 0.7354}"
      ]
     },
     "execution_count": 90,
     "metadata": {},
     "output_type": "execute_result"
    }
   ],
   "source": [
    "sent_analyzer.polarity_scores(sent)"
   ]
  },
  {
   "cell_type": "markdown",
   "id": "4225344d",
   "metadata": {},
   "source": [
    "#### Apply the sentiment analyzer to all reviews: the higher the compound score, the more positive the review is"
   ]
  },
  {
   "cell_type": "code",
   "execution_count": 91,
   "id": "a6dec395",
   "metadata": {
    "tags": []
   },
   "outputs": [
    {
     "name": "stdout",
     "output_type": "stream",
     "text": [
      "The Shawshank Redemption is without a doubt one of the most brilliant movies I have ever seen.\n",
      "{'neg': 0.0, 'neu': 0.677, 'pos': 0.323, 'compound': 0.7354}\n",
      "\n",
      "Similar to The Green Mile in many respects (and better than it in almost all of them), these two movies have shown us that Stephen King is a master not only of horror but also of prose that shakes the soul and moves the heart.\n",
      "{'neg': 0.0, 'neu': 0.88, 'pos': 0.12, 'compound': 0.5572}\n",
      "\n",
      "The plot is average, but King did great things with it in his novella that are only furthered by the direction, and the acting is so top-rate it's almost scary.Tim Robbins plays Andy Dufrane, wrongly imprisoned for 20 years for the murder of his wife.\n",
      "{'neg': 0.178, 'neu': 0.691, 'pos': 0.131, 'compound': -0.5853}\n",
      "\n",
      "The story focuses on Andy's relationship with \"Red\" Redding (Morgan Freeman, in probably his best role) and his attempts to escape from Shawshank.\n",
      "{'neg': 0.0, 'neu': 0.699, 'pos': 0.301, 'compound': 0.8225}\n",
      "\n",
      "Bob Gunton is positively evil and frightening as Warden Norton, and there are great performances and cameos all around; the most prominent one being Gil Bellows (late as Billy of Ally McBeal) as Tommy, a fellow inmate of Andy's who suffers under the iron will of Norton.If you haven't seen this movie, GO AND RENT IT NOW.\n",
      "{'neg': 0.151, 'neu': 0.706, 'pos': 0.143, 'compound': -0.1548}\n",
      "\n",
      "You will not be disappointed.\n",
      "{'neg': 0.0, 'neu': 0.61, 'pos': 0.39, 'compound': 0.3724}\n",
      "\n",
      "It is positively the best movie of the '90's, and one of my Top 3 of all time.\n",
      "{'neg': 0.0, 'neu': 0.598, 'pos': 0.402, 'compound': 0.8555}\n",
      "\n",
      "This movie is a spectacle to move the mind, soul, and heart.\n",
      "{'neg': 0.0, 'neu': 1.0, 'pos': 0.0, 'compound': 0.0}\n",
      "\n",
      "10/10\n",
      "{'neg': 0.0, 'neu': 1.0, 'pos': 0.0, 'compound': 0.0}\n",
      "\n"
     ]
    }
   ],
   "source": [
    "for sentence in sentences:\n",
    "    scores = sent_analyzer.polarity_scores(sentence)\n",
    "    print(sentence)\n",
    "    print(scores)\n",
    "    print()"
   ]
  },
  {
   "cell_type": "markdown",
   "id": "e6c76ea5",
   "metadata": {},
   "source": [
    "#### Compound score"
   ]
  },
  {
   "cell_type": "markdown",
   "id": "2269f13b",
   "metadata": {},
   "source": [
    "Let $s_i$ be the valence of each sentiment features, then\n",
    "\n",
    "$S = \\sum_i s_i$ is the total sentiment score. Because it is a simple sum, $S \\in (-\\infty, \\infty)$ "
   ]
  },
  {
   "cell_type": "markdown",
   "id": "473d42b3",
   "metadata": {},
   "source": [
    "$S$ can be mapped to $(-1, 1)$ by using the following normalization function:\n",
    "\n",
    "$C = \\frac{S}{\\sqrt{S^2+\\alpha}}$\n",
    "\n",
    "Where $C$ is the compound score, and $\\alpha$ is a smoothing parameter"
   ]
  },
  {
   "cell_type": "code",
   "execution_count": 92,
   "id": "a511e7da",
   "metadata": {
    "tags": []
   },
   "outputs": [],
   "source": [
    "def normalize(score, alpha=15):\n",
    "    import math\n",
    "    \n",
    "    \"\"\"\n",
    "    Normalize the score to be between -1 and 1 using an alpha that\n",
    "    approximates the max expected value\n",
    "    \"\"\"\n",
    "    norm_score = score/math.sqrt((score*score) + alpha)\n",
    "    return norm_score"
   ]
  },
  {
   "cell_type": "markdown",
   "id": "26880bd1",
   "metadata": {},
   "source": [
    "Plotting the normalization function"
   ]
  },
  {
   "cell_type": "code",
   "execution_count": 93,
   "id": "3c55bf3d",
   "metadata": {
    "tags": []
   },
   "outputs": [],
   "source": [
    "import matplotlib.pyplot as plt\n",
    "import numpy as np"
   ]
  },
  {
   "cell_type": "code",
   "execution_count": 94,
   "id": "25ab1445",
   "metadata": {
    "tags": []
   },
   "outputs": [],
   "source": [
    "S = list(np.linspace(-10, 10, 1000))"
   ]
  },
  {
   "cell_type": "code",
   "execution_count": 95,
   "id": "2958266f",
   "metadata": {
    "tags": []
   },
   "outputs": [],
   "source": [
    "C = [normalize(s) for s in S]"
   ]
  },
  {
   "cell_type": "code",
   "execution_count": 96,
   "id": "81204c23",
   "metadata": {
    "tags": []
   },
   "outputs": [
    {
     "data": {
      "image/png": "[encoded data removed]",
      "text/plain": [
       "<Figure size 640x480 with 1 Axes>"
      ]
     },
     "metadata": {},
     "output_type": "display_data"
    }
   ],
   "source": [
    "plt.plot(S, C)\n",
    "plt.hlines(0, -20, 20, 'k')\n",
    "plt.hlines(1, -20, 20, 'k', linestyle='--')\n",
    "plt.hlines(-1, -20, 20, 'k', linestyle='--')\n",
    "plt.vlines(0, -1.5, 1.5, 'k')\n",
    "plt.axis([-10, 10, -1.5, 1.5])\n",
    "plt.xlabel('Total Sentiment Score')\n",
    "plt.ylabel('Compound Score')\n",
    "pass"
   ]
  },
  {
   "cell_type": "markdown",
   "id": "ea3d5545",
   "metadata": {},
   "source": [
    "### 2. Sentiment Analysis using Naive Bayes Classifier (training and validation)"
   ]
  },
  {
   "cell_type": "markdown",
   "id": "d101daf4",
   "metadata": {},
   "source": [
    "#### Training set: list of (text, label) tuples"
   ]
  },
  {
   "cell_type": "code",
   "execution_count": 12,
   "id": "af0c2cae",
   "metadata": {
    "tags": []
   },
   "outputs": [],
   "source": [
    "training_set = [(\"Great resort to stay in when you visit the Dominican Republic.\",\"pos\"),\n",
    "                (\"Rooms were under renovation when I visited, so the availability was limited.\",\"neg\"),\n",
    "                (\"Love the ocean breeze and the food.\",\"pos\"),\n",
    "                (\"The food is delicious but not over the top.\",\"neg\"),\n",
    "                (\"Service - Little slow, probably because of too many people.\",\"neg\"),\n",
    "                (\"The place is not easy to find.\",\"neg\"),\n",
    "                (\"V interesting!\",\"pos\"),\n",
    "                (\"V much interesting!\",\"neg\"),\n",
    "                (\"Does that add value?!\",\"neg\"),\n",
    "                (\"Prawns cooked in a local specialty sauce were tasty.\", \"pos\")]"
   ]
  },
  {
   "cell_type": "markdown",
   "id": "4340f420",
   "metadata": {},
   "source": [
    "#### Step 1: Create a dictionary of tokens "
   ]
  },
  {
   "cell_type": "code",
   "execution_count": 13,
   "id": "f65c9dc8",
   "metadata": {
    "tags": []
   },
   "outputs": [],
   "source": [
    "# Using the nltk word tokenizer\n",
    "\n",
    "from nltk.tokenize import word_tokenize"
   ]
  },
  {
   "cell_type": "code",
   "execution_count": 14,
   "id": "2539b015",
   "metadata": {
    "tags": []
   },
   "outputs": [],
   "source": [
    "dictionary = set(word.lower() for passage in training_set for word in word_tokenize(passage[0]))"
   ]
  },
  {
   "cell_type": "code",
   "execution_count": 15,
   "id": "35aa3803",
   "metadata": {
    "tags": []
   },
   "outputs": [
    {
     "data": {
      "text/plain": [
       "63"
      ]
     },
     "execution_count": 15,
     "metadata": {},
     "output_type": "execute_result"
    }
   ],
   "source": [
    "len(dictionary)"
   ]
  },
  {
   "cell_type": "code",
   "execution_count": 16,
   "id": "4d4020ef",
   "metadata": {
    "tags": []
   },
   "outputs": [
    {
     "name": "stdout",
     "output_type": "stream",
     "text": [
      "{'.', 'little', 'is', 'many', 'stay', 'over', 'to', 'availability', 'of', 'much', '-', 'value', 'visited', 'specialty', 'tasty', 'service', 'local', 'under', 'but', 'rooms', '?', 'i', 'was', 'the', 'slow', 'great', 'renovation', ',', 'visit', 'you', 'v', 'cooked', 'prawns', 'easy', 'interesting', 'when', '!', 'ocean', 'because', 'resort', 'probably', 'add', 'dominican', 'so', 'and', 'too', 'place', 'find', 'were', 'does', 'love', 'that', 'sauce', 'delicious', 'top', 'food', 'people', 'a', 'in', 'republic', 'breeze', 'limited', 'not'}\n"
     ]
    }
   ],
   "source": [
    "print(dictionary)"
   ]
  },
  {
   "cell_type": "markdown",
   "id": "ecc99553",
   "metadata": {},
   "source": [
    "#### Step 2: Vector Space Representation (binary)"
   ]
  },
  {
   "cell_type": "code",
   "execution_count": 17,
   "id": "8eee72c7",
   "metadata": {
    "tags": []
   },
   "outputs": [],
   "source": [
    "t = [({word: (word in word_tokenize(x[0])) for word in dictionary}, x[1]) for x in training_set]"
   ]
  },
  {
   "cell_type": "code",
   "execution_count": 18,
   "id": "fc6d25c4",
   "metadata": {
    "tags": []
   },
   "outputs": [
    {
     "name": "stdout",
     "output_type": "stream",
     "text": [
      "({'.': True, 'little': False, 'is': False, 'many': False, 'stay': True, 'over': False, 'to': True, 'availability': False, 'of': False, 'much': False, '-': False, 'value': False, 'visited': False, 'specialty': False, 'tasty': False, 'service': False, 'local': False, 'under': False, 'but': False, 'rooms': False, '?': False, 'i': False, 'was': False, 'the': True, 'slow': False, 'great': False, 'renovation': False, ',': False, 'visit': True, 'you': True, 'v': False, 'cooked': False, 'prawns': False, 'easy': False, 'interesting': False, 'when': True, '!': False, 'ocean': False, 'because': False, 'resort': True, 'probably': False, 'add': False, 'dominican': False, 'so': False, 'and': False, 'too': False, 'place': False, 'find': False, 'were': False, 'does': False, 'love': False, 'that': False, 'sauce': False, 'delicious': False, 'top': False, 'food': False, 'people': False, 'a': False, 'in': True, 'republic': False, 'breeze': False, 'limited': False, 'not': False}, 'pos')\n"
     ]
    }
   ],
   "source": [
    "print(t[0])"
   ]
  },
  {
   "cell_type": "markdown",
   "id": "48e92a55",
   "metadata": {},
   "source": [
    "#### Step 3: Train the Naive Bayes Classifier"
   ]
  },
  {
   "cell_type": "code",
   "execution_count": 19,
   "id": "e6320882",
   "metadata": {
    "tags": []
   },
   "outputs": [],
   "source": [
    "classifier = nltk.NaiveBayesClassifier.train(t)"
   ]
  },
  {
   "cell_type": "markdown",
   "id": "c8622b15",
   "metadata": {},
   "source": [
    "#### Step 4: Test"
   ]
  },
  {
   "cell_type": "markdown",
   "id": "64605563",
   "metadata": {},
   "source": [
    "#### Test 1"
   ]
  },
  {
   "cell_type": "code",
   "execution_count": 20,
   "id": "a683ab57",
   "metadata": {
    "tags": []
   },
   "outputs": [],
   "source": [
    "test_data = \"The food was delicious and spicy\""
   ]
  },
  {
   "cell_type": "code",
   "execution_count": 21,
   "id": "7a3cbc03",
   "metadata": {
    "tags": []
   },
   "outputs": [],
   "source": [
    "# binary representation\n",
    "test_data_features = {word.lower(): (word in word_tokenize(test_data.lower())) for word in dictionary}"
   ]
  },
  {
   "cell_type": "code",
   "execution_count": 22,
   "id": "ff13f40d",
   "metadata": {
    "tags": []
   },
   "outputs": [
    {
     "name": "stdout",
     "output_type": "stream",
     "text": [
      "pos\n"
     ]
    }
   ],
   "source": [
    "print (classifier.classify(test_data_features))"
   ]
  },
  {
   "cell_type": "markdown",
   "id": "fc63f598",
   "metadata": {},
   "source": [
    "#### Test 2"
   ]
  },
  {
   "cell_type": "code",
   "execution_count": 23,
   "id": "0eb6ec76",
   "metadata": {
    "tags": []
   },
   "outputs": [],
   "source": [
    "test_data = \"Just way V interesting.\""
   ]
  },
  {
   "cell_type": "code",
   "execution_count": 24,
   "id": "18e52e0c",
   "metadata": {
    "tags": []
   },
   "outputs": [],
   "source": [
    "# Binary representation\n",
    "test_data_features = {word.lower(): (word in word_tokenize(test_data.lower())) for word in dictionary}"
   ]
  },
  {
   "cell_type": "code",
   "execution_count": 25,
   "id": "fb907baa",
   "metadata": {
    "tags": []
   },
   "outputs": [
    {
     "name": "stdout",
     "output_type": "stream",
     "text": [
      "pos\n"
     ]
    }
   ],
   "source": [
    "print (classifier.classify(test_data_features))"
   ]
  },
  {
   "cell_type": "markdown",
   "id": "aca2203a",
   "metadata": {},
   "source": [
    "### 3. Subjectivity analysis using NLTK"
   ]
  },
  {
   "cell_type": "markdown",
   "id": "07adc2ee",
   "metadata": {},
   "source": [
    "#### Import libraries and initialize the sentiment analyzer"
   ]
  },
  {
   "cell_type": "code",
   "execution_count": 26,
   "id": "794130d9",
   "metadata": {
    "tags": []
   },
   "outputs": [],
   "source": [
    "from nltk.corpus import subjectivity\n",
    "from nltk.sentiment import SentimentAnalyzer\n",
    "from nltk.sentiment.util import mark_negation, extract_unigram_feats\n",
    "from nltk.classify import NaiveBayesClassifier"
   ]
  },
  {
   "cell_type": "code",
   "execution_count": 27,
   "id": "31d7f5c1",
   "metadata": {
    "tags": []
   },
   "outputs": [],
   "source": [
    "sentim_analyzer = SentimentAnalyzer()"
   ]
  },
  {
   "cell_type": "markdown",
   "id": "4b459b94",
   "metadata": {},
   "source": [
    "#### Obtain a set of 1000 subjective and 1000 objective sentences from NLTK subjectivity corpus"
   ]
  },
  {
   "cell_type": "code",
   "execution_count": 28,
   "id": "1a7fe091",
   "metadata": {
    "tags": []
   },
   "outputs": [
    {
     "data": {
      "text/plain": [
       "(1000, 1000)"
      ]
     },
     "execution_count": 28,
     "metadata": {},
     "output_type": "execute_result"
    }
   ],
   "source": [
    "n_instances = 1000\n",
    "subj_docs = [(sent, 'subj') for sent in subjectivity.sents(categories='subj')[:n_instances]]\n",
    "obj_docs = [(sent, 'obj') for sent in subjectivity.sents(categories='obj')[:n_instances]]\n",
    "len(subj_docs), len(obj_docs)"
   ]
  },
  {
   "cell_type": "markdown",
   "id": "5378f904",
   "metadata": {},
   "source": [
    "#### Split into training and testing sets"
   ]
  },
  {
   "cell_type": "code",
   "execution_count": 29,
   "id": "da19c6e1",
   "metadata": {
    "tags": []
   },
   "outputs": [],
   "source": [
    "train_subj_docs = subj_docs[:800]\n",
    "test_subj_docs = subj_docs[800:1000]\n",
    "train_obj_docs = obj_docs[:800]\n",
    "test_obj_docs = obj_docs[800:1000]\n",
    "training_docs = train_subj_docs+train_obj_docs\n",
    "testing_docs = test_subj_docs+test_obj_docs"
   ]
  },
  {
   "cell_type": "markdown",
   "id": "8f9cbd9a",
   "metadata": {},
   "source": [
    "#### Add feature extractions to the sentiment analyzer"
   ]
  },
  {
   "cell_type": "markdown",
   "id": "541ddc77",
   "metadata": {},
   "source": [
    "##### Marking negation words"
   ]
  },
  {
   "cell_type": "code",
   "execution_count": 30,
   "id": "7130435e",
   "metadata": {
    "tags": []
   },
   "outputs": [
    {
     "name": "stdout",
     "output_type": "stream",
     "text": [
      "['He', 'is', 'not', 'feeling_NEG', 'well_NEG', 'today_NEG']\n"
     ]
    }
   ],
   "source": [
    "# example\n",
    "print(mark_negation('He is not feeling well today'.split()))"
   ]
  },
  {
   "cell_type": "code",
   "execution_count": 31,
   "id": "ae4b43b7",
   "metadata": {
    "tags": []
   },
   "outputs": [],
   "source": [
    "def negation(docs):\n",
    "    return [mark_negation(doc) for doc in docs]"
   ]
  },
  {
   "cell_type": "code",
   "execution_count": 32,
   "id": "1b0bafeb",
   "metadata": {
    "tags": []
   },
   "outputs": [],
   "source": [
    "all_words_neg = sentim_analyzer.all_words(negation(training_docs))"
   ]
  },
  {
   "cell_type": "markdown",
   "id": "ae12eecb",
   "metadata": {},
   "source": [
    "##### Use simple unigram word features, handling negation:"
   ]
  },
  {
   "cell_type": "code",
   "execution_count": 33,
   "id": "63956319",
   "metadata": {
    "tags": []
   },
   "outputs": [],
   "source": [
    "unigram_feats = sentim_analyzer.unigram_word_feats(all_words_neg, min_freq=4)"
   ]
  },
  {
   "cell_type": "code",
   "execution_count": 34,
   "id": "3415467b",
   "metadata": {
    "tags": []
   },
   "outputs": [],
   "source": [
    "sentim_analyzer.add_feat_extractor(extract_unigram_feats, unigrams=unigram_feats)"
   ]
  },
  {
   "cell_type": "markdown",
   "id": "a2c20a5e",
   "metadata": {},
   "source": [
    "#### Apply features to obtain a feature-value representation of the datasets"
   ]
  },
  {
   "cell_type": "code",
   "execution_count": 35,
   "id": "37a611cd",
   "metadata": {
    "tags": []
   },
   "outputs": [],
   "source": [
    "training_set = sentim_analyzer.apply_features(negation(training_docs))\n",
    "test_set = sentim_analyzer.apply_features(negation(testing_docs))"
   ]
  },
  {
   "cell_type": "markdown",
   "id": "41bb3715",
   "metadata": {},
   "source": [
    "### Train classifier and output evaluation results"
   ]
  },
  {
   "cell_type": "code",
   "execution_count": 36,
   "id": "d92a61f0",
   "metadata": {
    "tags": []
   },
   "outputs": [
    {
     "name": "stdout",
     "output_type": "stream",
     "text": [
      "Training classifier\n"
     ]
    }
   ],
   "source": [
    "trainer = NaiveBayesClassifier.train\n",
    "classifier = sentim_analyzer.train(trainer, training_set)"
   ]
  },
  {
   "cell_type": "code",
   "execution_count": 37,
   "id": "8f7bbcaa",
   "metadata": {
    "tags": []
   },
   "outputs": [
    {
     "name": "stdout",
     "output_type": "stream",
     "text": [
      "Training set:\n",
      "Evaluating NaiveBayesClassifier results...\n",
      "Accuracy: 0.903125\n",
      "F-measure [obj]: 0.8999354422207875\n",
      "F-measure [subj]: 0.9061175045427015\n",
      "Precision [obj]: 0.9305740987983978\n",
      "Precision [subj]: 0.8789659224441834\n",
      "Recall [obj]: 0.87125\n",
      "Recall [subj]: 0.935\n"
     ]
    }
   ],
   "source": [
    "# Training accuracies\n",
    "print('Training set:')\n",
    "for key,value in sorted(sentim_analyzer.evaluate(training_set).items()):\n",
    "    print('{0}: {1}'.format(key, value))"
   ]
  },
  {
   "cell_type": "code",
   "execution_count": 38,
   "id": "90e16cf6",
   "metadata": {
    "tags": []
   },
   "outputs": [
    {
     "name": "stdout",
     "output_type": "stream",
     "text": [
      "Test set:\n",
      "Evaluating NaiveBayesClassifier results...\n",
      "Accuracy: 0.835\n",
      "F-measure [obj]: 0.828125\n",
      "F-measure [subj]: 0.8413461538461539\n",
      "Precision [obj]: 0.8641304347826086\n",
      "Precision [subj]: 0.8101851851851852\n",
      "Recall [obj]: 0.795\n",
      "Recall [subj]: 0.875\n"
     ]
    }
   ],
   "source": [
    "# Testing accuracies\n",
    "print('Test set:')\n",
    "for key,value in sorted(sentim_analyzer.evaluate(test_set).items()):\n",
    "    print('{0}: {1}'.format(key, value))"
   ]
  },
  {
   "cell_type": "markdown",
   "id": "6007569f",
   "metadata": {},
   "source": [
    "### Test the classifier"
   ]
  },
  {
   "cell_type": "code",
   "execution_count": 39,
   "id": "5ec3a9b8",
   "metadata": {
    "tags": []
   },
   "outputs": [],
   "source": [
    "# Test sentences\n",
    "subj_test_sentences = ['I think this is the worst movie ever made.',\n",
    "                       'This food is amazing.',\n",
    "                       'The best way to spend an afternoon is walking in the park.']\n",
    "obj_test_sentences = ['The sky is blue.',\n",
    "                     'New York is next to an ocean.',\n",
    "                     'Columbia is a well-renowned Universty.']\n",
    "\n",
    "# Combining the test sentences\n",
    "all_sentences = subj_test_sentences + obj_test_sentences"
   ]
  },
  {
   "cell_type": "code",
   "execution_count": 40,
   "id": "2bed55cc",
   "metadata": {
    "tags": []
   },
   "outputs": [
    {
     "data": {
      "text/plain": [
       "['I think this is the worst movie ever made.',\n",
       " 'This food is amazing.',\n",
       " 'The best way to spend an afternoon is walking in the park.',\n",
       " 'The sky is blue.',\n",
       " 'New York is next to an ocean.',\n",
       " 'Columbia is a well-renowned Universty.']"
      ]
     },
     "execution_count": 40,
     "metadata": {},
     "output_type": "execute_result"
    }
   ],
   "source": [
    "all_sentences"
   ]
  },
  {
   "cell_type": "code",
   "execution_count": 41,
   "id": "2af50153",
   "metadata": {
    "tags": []
   },
   "outputs": [],
   "source": [
    "# Tokenize and apply the negatoin words\n",
    "\n",
    "sentences = negation([word_tokenize(s) for s in all_sentences])"
   ]
  },
  {
   "cell_type": "code",
   "execution_count": 42,
   "id": "588f0ee3",
   "metadata": {
    "scrolled": true,
    "tags": []
   },
   "outputs": [
    {
     "name": "stdout",
     "output_type": "stream",
     "text": [
      "I think this is the worst movie ever made.\n",
      "Prediction: subj\n",
      "\n",
      "This food is amazing.\n",
      "Prediction: subj\n",
      "\n",
      "The best way to spend an afternoon is walking in the park.\n",
      "Prediction: subj\n",
      "\n",
      "The sky is blue.\n",
      "Prediction: obj\n",
      "\n",
      "New York is next to an ocean.\n",
      "Prediction: obj\n",
      "\n",
      "Columbia is a well-renowned Universty.\n",
      "Prediction: subj\n",
      "\n"
     ]
    }
   ],
   "source": [
    "# Apply the classifier\n",
    "\n",
    "for i in range(len(sentences)):\n",
    "    print(all_sentences[i])\n",
    "    print('Prediction:', sentim_analyzer.classify(sentences[i]))\n",
    "    print()"
   ]
  },
  {
   "cell_type": "code",
   "execution_count": null,
   "id": "7e2978c7",
   "metadata": {},
   "outputs": [],
   "source": []
  }
 ],
 "metadata": {
  "kernelspec": {
   "display_name": "Python 3 (ipykernel)",
   "language": "python",
   "name": "python3"
  },
  "language_info": {
   "codemirror_mode": {
    "name": "ipython",
    "version": 3
   },
   "file_extension": ".py",
   "mimetype": "text/x-python",
   "name": "python",
   "nbconvert_exporter": "python",
   "pygments_lexer": "ipython3",
   "version": "3.9.13"
  }
 },
 "nbformat": 4,
 "nbformat_minor": 5
}
