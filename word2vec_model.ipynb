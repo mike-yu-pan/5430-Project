{
 "cells": [
  {
   "cell_type": "markdown",
   "metadata": {},
   "source": [
    "## Word2vec Model Trainning\n",
    "- Using the movie plots and summary dataset, train a word2vec model that will recommend movies with similar plot lines "
   ]
  },
  {
   "cell_type": "code",
   "execution_count": 1,
   "metadata": {},
   "outputs": [],
   "source": [
    "# enter path to the location of the dataset here\n",
    "\"\"\"# Mike's desktop paths \n",
    "path_to_imdb_dataset = 'C:/Users/123/OneDrive/Academic/5430/data/title.basics.tsv.gz'\n",
    "path_to_reviews_dataset = 'C:/Users/123/OneDrive/Academic/5430/data/IMDB_reviews.json'\n",
    "path_to_plots_dataset = 'C:/Users/123/OneDrive/Academic/5430/data/wiki_movie_plots_deduped.csv'\n",
    "path_to_details_dataset = 'C:/Users/123/OneDrive/Academic/5430/data/IMDB_movie_details.json' \"\"\"\n",
    "\n",
    "# Mike's laptop paths\n",
    "path_to_imdb_dataset = '/Users/yupan/Library/CloudStorage/OneDrive-Personal/Academic/5430/data/title.basics.tsv.gz'\n",
    "path_to_reviews_dataset = '/Users/yupan/Library/CloudStorage/OneDrive-Personal/Academic/5430/data/IMDB_reviews.json'\n",
    "path_to_plots_dataset = '/Users/yupan/Library/CloudStorage/OneDrive-Personal/Academic/5430/data/wiki_movie_plots_deduped.csv'\n",
    "path_to_details_dataset = '/Users/yupan/Library/CloudStorage/OneDrive-Personal/Academic/5430/data/IMDB_movie_details.json'"
   ]
  },
  {
   "cell_type": "markdown",
   "metadata": {},
   "source": [
    "Three data sources: \n",
    "1. IMDB: used for matching movie title & ID\n",
    "2. Spoiler: contains plots&movie ID, used for trainning\n",
    "3. Plot: contains plots& movie name, used for trainning"
   ]
  },
  {
   "cell_type": "markdown",
   "metadata": {},
   "source": [
    "Plot_synopsis is the movies' plot summaries with spoilers. Since we want to analyze the similarity of the plot line of the movies, we will use this variable to train our word2vec model. \n",
    "\n",
    "To train the model, let's first initiate a spark session and load the dataset into the spark dataframe"
   ]
  },
  {
   "cell_type": "code",
   "execution_count": 2,
   "metadata": {},
   "outputs": [
    {
     "name": "stderr",
     "output_type": "stream",
     "text": [
      "Setting default log level to \"WARN\".\n",
      "To adjust logging level use sc.setLogLevel(newLevel). For SparkR, use setLogLevel(newLevel).\n",
      "23/08/02 15:42:02 WARN NativeCodeLoader: Unable to load native-hadoop library for your platform... using builtin-java classes where applicable\n"
     ]
    }
   ],
   "source": [
    "from pyspark.sql import SparkSession\n",
    "import pyspark.sql.functions as F\n",
    "\n",
    "spark = SparkSession.builder.getOrCreate()"
   ]
  },
  {
   "cell_type": "code",
   "execution_count": 3,
   "metadata": {},
   "outputs": [
    {
     "name": "stderr",
     "output_type": "stream",
     "text": [
      "                                                                                \r"
     ]
    },
    {
     "name": "stdout",
     "output_type": "stream",
     "text": [
      "there is a total of  651281  movies left in the imdb dataset\n",
      "+---------+--------------------+----+\n",
      "|   tconst|        primaryTitle|Year|\n",
      "+---------+--------------------+----+\n",
      "|tt0000009|          Miss Jerry|1894|\n",
      "|tt0000147|The Corbett-Fitzs...|1897|\n",
      "|tt0000502|            Bohemios|1905|\n",
      "+---------+--------------------+----+\n",
      "only showing top 3 rows\n",
      "\n"
     ]
    }
   ],
   "source": [
    "# reading the IMDB dataset\n",
    "imdb = spark.read.options(header = True, inferSchema = True, delimiter = \"\\t\").csv(path_to_imdb_dataset)\n",
    "\n",
    "# filter the imdb dataset so that only movies are included\n",
    "imdb = imdb.filter(\"titleType = 'movie'\")\\\n",
    "  .filter(\"primaryTitle != ''\")\\\n",
    "    .select('tconst', 'primaryTitle', 'startYear')\\\n",
    "      .withColumnRenamed('startYear', 'Year')\n",
    "\n",
    "print('there is a total of ', imdb.count(), ' movies in the imdb dataset')\n",
    "imdb.show(3)"
   ]
  },
  {
   "cell_type": "code",
   "execution_count": 4,
   "metadata": {},
   "outputs": [
    {
     "name": "stdout",
     "output_type": "stream",
     "text": [
      "there is a total of  1339  plot summaries left in the details dataset\n",
      "+---------+--------------------+\n",
      "| movie_id|       plot_synopsis|\n",
      "+---------+--------------------+\n",
      "|tt0105112|Jack Ryan (Ford) ...|\n",
      "|tt1204975|Four boys around ...|\n",
      "|tt0040897|Fred Dobbs (Humph...|\n",
      "+---------+--------------------+\n",
      "only showing top 3 rows\n",
      "\n"
     ]
    }
   ],
   "source": [
    "details = spark.read.json(path_to_details_dataset)\n",
    "details = details.select('movie_id','plot_synopsis')\\\n",
    "  .filter(\"plot_synopsis != ''\")\n",
    "print('there is a total of ', details.count(), ' plot summaries left in the details dataset')\n",
    "details.show(3)"
   ]
  },
  {
   "cell_type": "code",
   "execution_count": 5,
   "metadata": {},
   "outputs": [
    {
     "name": "stderr",
     "output_type": "stream",
     "text": [
      "                                                                                \r"
     ]
    },
    {
     "name": "stdout",
     "output_type": "stream",
     "text": [
      "The joined dataset has  1324  entries\n"
     ]
    },
    {
     "name": "stderr",
     "output_type": "stream",
     "text": [
      "[Stage 16:>                                                         (0 + 1) / 1]\r"
     ]
    },
    {
     "name": "stdout",
     "output_type": "stream",
     "text": [
      "+---------+--------------------+------------------------------------------------------------------------------------------------------------------------------------------------------------------------------------------------------------------------------------------------------------------------------------------------------------------------------------------------------------------------------------------------------------------------------------------------------------------------------------------------------------------------------------------------------------------------------------------------------------------------------------------------------------------------------------------------------------------------------------------------------------------------------------------------------------------------------------------------------+\n",
      "|id       |Title               |Plot                                                                                                                                                                                                                                                                                                                                                                                                                                                                                                                                                                                                                                                                                                                                                                                                                                                  |\n",
      "+---------+--------------------+------------------------------------------------------------------------------------------------------------------------------------------------------------------------------------------------------------------------------------------------------------------------------------------------------------------------------------------------------------------------------------------------------------------------------------------------------------------------------------------------------------------------------------------------------------------------------------------------------------------------------------------------------------------------------------------------------------------------------------------------------------------------------------------------------------------------------------------------------+\n",
      "|tt0472062|Charlie Wilson's War|\"Good-Time Charlie\" Wilson, a flawed and fun-loving Congressman from the piney woods of East Texas, deftly operates the levers of power to funnel money and weapons to the Mujahideen of Afghanistan following the Soviet invasion of their country in late 1979. Charlie finds assistance in the oddest of places -- a renegade CIA agent whose outsider status and womanizing ways endears him to Wilson; a Houston socialite who leads Wilson to the cause; the willing Pakistani dictator fascinated by the socialite; the Israelis who modify and manufacture Soviet weapons to maintain the wink-and-nudge illusion of American neutrality; and the women -- ooh the women.Based on the story (and the excellent book of the same name) that is so true and engaging that artistic liberties are not needed, even if they are taken in the film.|\n",
      "+---------+--------------------+------------------------------------------------------------------------------------------------------------------------------------------------------------------------------------------------------------------------------------------------------------------------------------------------------------------------------------------------------------------------------------------------------------------------------------------------------------------------------------------------------------------------------------------------------------------------------------------------------------------------------------------------------------------------------------------------------------------------------------------------------------------------------------------------------------------------------------------------------+\n",
      "\n"
     ]
    },
    {
     "name": "stderr",
     "output_type": "stream",
     "text": [
      "                                                                                \r"
     ]
    }
   ],
   "source": [
    "# join the imdb with details by matching the unique identifier(e.g. tt0000000)\n",
    "imdb_join_details = imdb.join(details, imdb.tconst == details.movie_id, 'inner')\\\n",
    "  .withColumnRenamed('plot_synopsis', 'Plot')\\\n",
    "    .withColumnRenamed('primaryTitle', 'Title')\\\n",
    "      .withColumnRenamed('tconst', 'id')\\\n",
    "        .select('id', 'Title', 'Plot')\n",
    "\n",
    "print(\"The joined dataset has \", imdb_join_details.count(), \" entries\")\n",
    "imdb_join_details.filter(\"tconst == 'tt0472062'\").show(truncate = False)"
   ]
  },
  {
   "cell_type": "code",
   "execution_count": 6,
   "metadata": {},
   "outputs": [
    {
     "name": "stderr",
     "output_type": "stream",
     "text": [
      "                                                                                \r"
     ]
    },
    {
     "name": "stdout",
     "output_type": "stream",
     "text": [
      "there is a total of  34886  plot summaries in the plot dataset\n",
      "+--------------------+----+--------------------+\n",
      "|               Title|Year|                Plot|\n",
      "+--------------------+----+--------------------+\n",
      "|Kansas Saloon Sma...|1901|A bartender is wo...|\n",
      "|Love by the Light...|1901|The moon, painted...|\n",
      "|The Martyred Pres...|1901|The film, just ov...|\n",
      "+--------------------+----+--------------------+\n",
      "only showing top 3 rows\n",
      "\n"
     ]
    }
   ],
   "source": [
    "# reading the plot dataset\n",
    "plot = spark.read.options(header = True, inferSchema = True, quote = '\"', escape = '\"', multiLine = True).csv(path_to_plots_dataset)\n",
    "plot = plot.select('Title', 'Release Year','Plot').withColumnRenamed('Release Year', 'Year')\n",
    "print('there is a total of ', plot.count(), ' plot summaries in the plot dataset')\n",
    "plot.show(3)"
   ]
  },
  {
   "cell_type": "code",
   "execution_count": 7,
   "metadata": {},
   "outputs": [
    {
     "name": "stderr",
     "output_type": "stream",
     "text": [
      "                                                                                \r"
     ]
    },
    {
     "name": "stdout",
     "output_type": "stream",
     "text": [
      "The joined dataset has  26953  entries\n"
     ]
    },
    {
     "name": "stderr",
     "output_type": "stream",
     "text": [
      "[Stage 32:>                                                         (0 + 1) / 1]\r"
     ]
    },
    {
     "name": "stdout",
     "output_type": "stream",
     "text": [
      "+---------+-------------------+-------------------------------------------------------------------------------------------------------------------------------------------------------------------------------------------------------------------------------------------------------------------------------------------------------------------------------------------------------------------------------------------------------------------------------------------------------------------------------------------------------------------------------------------------------------------------------------------------------------------------------------------------------------------------------------------------------------------------------------------------------------------------------------------------------------------------------------------------------------------------------------------------------------------------------------------------------------------------------------------------------------------------------------------------------------------------------------------------------------------------------------------------------------------------------------------------------------------------------------------------------------------------------------------------------------------------------------------------------------------------------------------------------------------------------------------------------------------------------------------------------------------------------------------------------------------------------------------------------------------------------------------------------------------------------------------------------------------------------------------------------------------------------------------------------------------------------------------------------------------------------------------------------------------------------------------------------------------------------------------------------------------------------------------------------------------------------------------------------------------------------------------------------------------------------------------------------------------------------------------------------------------------------------------------------------------------------------------------------------------------------------------------------------------------------------------------------------------------------------------------------------------------------------------------------------------------------------------------------------------------------------------------------------------------------------------------------------------------------------------------------------------------------------------------------------------------------------------------------------------------------------------------------------------------------------------------------------------------------------------------------------------------------------------------------------------------------------------------------------------------------------------------------------------------------------------------------------------------------------------------------------------------------------------------------------------------------------------------------------------------------------------------------------------------------------------------------------------------------------------------------------------------------------------------------------------------------------------------------------------------------------------------------------------------------------------------------------------------------------------------------------------------------------------------------------------------------------------------------------------------------------------------------------------------------------------------------------------------------------------------------------------------------------------------------------------------------------------------------------------------------------------------------------------------------------------------------------------------------------------------------------------------------------------------------------------------------------------------------------------------------------------------------------------------+\n",
      "|id       |Title              |Plot                                                                                                                                                                                                                                                                                                                                                                                                                                                                                                                                                                                                                                                                                                                                                                                                                                                                                                                                                                                                                                                                                                                                                                                                                                                                                                                                                                                                                                                                                                                                                                                                                                                                                                                                                                                                                                                                                                                                                                                                                                                                                                                                                                                                                                                                                                                                                                                                                                                                                                                                                                                                                                                                                                                                                                                                                                                                                                                                                                                                                                                                                                                                                                                                                                                                                                                                                                                                                                                                                                                                                                                                                                                                                                                                                                                                                                                                                                                                                                                                                                                                                                                                                                                                                                                                                                                                                                                                                     |\n",
      "+---------+-------------------+-------------------------------------------------------------------------------------------------------------------------------------------------------------------------------------------------------------------------------------------------------------------------------------------------------------------------------------------------------------------------------------------------------------------------------------------------------------------------------------------------------------------------------------------------------------------------------------------------------------------------------------------------------------------------------------------------------------------------------------------------------------------------------------------------------------------------------------------------------------------------------------------------------------------------------------------------------------------------------------------------------------------------------------------------------------------------------------------------------------------------------------------------------------------------------------------------------------------------------------------------------------------------------------------------------------------------------------------------------------------------------------------------------------------------------------------------------------------------------------------------------------------------------------------------------------------------------------------------------------------------------------------------------------------------------------------------------------------------------------------------------------------------------------------------------------------------------------------------------------------------------------------------------------------------------------------------------------------------------------------------------------------------------------------------------------------------------------------------------------------------------------------------------------------------------------------------------------------------------------------------------------------------------------------------------------------------------------------------------------------------------------------------------------------------------------------------------------------------------------------------------------------------------------------------------------------------------------------------------------------------------------------------------------------------------------------------------------------------------------------------------------------------------------------------------------------------------------------------------------------------------------------------------------------------------------------------------------------------------------------------------------------------------------------------------------------------------------------------------------------------------------------------------------------------------------------------------------------------------------------------------------------------------------------------------------------------------------------------------------------------------------------------------------------------------------------------------------------------------------------------------------------------------------------------------------------------------------------------------------------------------------------------------------------------------------------------------------------------------------------------------------------------------------------------------------------------------------------------------------------------------------------------------------------------------------------------------------------------------------------------------------------------------------------------------------------------------------------------------------------------------------------------------------------------------------------------------------------------------------------------------------------------------------------------------------------------------------------------------------------------------------------------------------------------+\n",
      "|tt0790799|$9.99              |The film mainly focuses on 28-year-old Dave Peck, who is unemployed but prefers the search for the meaning of life to the search for gainful employment. While looking in a magazine, Dave finds an advertisement for a book that will tell him the meaning of life \"for the low price of $9.99.\" Dave, fascinated by this, begins his journey in his Sydney apartment to find the true meaning of life.\\nAs the film progresses, stories of Dave's family and neighbours are woven in and examine the post-modern meaning of hope.                                                                                                                                                                                                                                                                                                                                                                                                                                                                                                                                                                                                                                                                                                                                                                                                                                                                                                                                                                                                                                                                                                                                                                                                                                                                                                                                                                                                                                                                                                                                                                                                                                                                                                                                                                                                                                                                                                                                                                                                                                                                                                                                                                                                                                                                                                                                                                                                                                                                                                                                                                                                                                                                                                                                                                                                                                                                                                                                                                                                                                                                                                                                                                                                                                                                                                                                                                                                                                                                                                                                                                                                                                                                                                                                                                                                                                                                                      |\n",
      "|tt2614684|'71                |Gary Hook, a new recruit to the British Army, takes leave of his much younger brother Darren. Hook's platoon is sent to Belfast in 1971 in the early years of the Troubles. Under the leadership of the inexperienced Second Lieutenant Armitage, his platoon is deployed to a volatile area where Catholic Republicans and Protestant Loyalists live side by side. The unit provides support for the Royal Ulster Constabulary as it inspects homes for firearms, shocking Hook with their rough treatment of women and children. A crowd gathers to protest and provoke the British troops who, though heavily armed, can only respond by trying to hold the crowd back.\\nOne soldier is hit by a rock and drops his rifle to the ground. In the confusion, a young boy seizes it and runs off through the mob. Hook and another soldier, Thompson, pursue him. As the crowd's protest violently escalates, the soldiers and police pull out, leaving the two soldiers behind. Hook and Thompson are severely beaten by a mob, until a sympathetic woman manages to calm things down. However, Thompson is suddenly shot dead at point-blank range by the Provisional Irish Republican Army (PIRA) gunman Paul Haggerty. With the crowd physically attacking him, Hook flees through streets and back alleys, eludes his pursuers, and hides in an outhouse until dark.\\nA Protestant youngster brings Hook to a local pub that serves as a front for Loyalists. There, Hook glimpses a Loyalist group in a back room, constructing a bomb under the guidance of a member of the Military Reaction Force (MRF), the British Army's covert counter-insurgency unit. Hook steps outside the pub just before an enormous explosion destroys the building, killing or injuring many of those inside, including the young boy who brought him there. Hook flees once more into the dark streets. Unaware that the Loyalist bombers have blown themselves up accidentally, the PIRA and Official Irish Republican Army (OIRA) factions accuse each other of being responsible for the bombing.\\nTwo Catholics, Eamon and his daughter Brigid, discover Hook as he lies in a street unconscious and injured by shrapnel. They take him to their home in the Divis Flats area before discovering he is a British soldier. Eamon, a former army medic, stitches Hook's wounds.\\nDespite the PIRA's having recently taken control of the area from the OIRA, Eamon contacts senior OIRA official Boyle for help, expecting a more humane solution than the PIRA faction would allow. Boyle, less radical and violent than the younger PIRA members, has a working relationship with the MRF and tells MRF Captain Browning, leader of the local MRF section, of Hook's whereabouts and asks in return that Browning kill James Quinn, a key leader of the PIRA faction, who wanted Boyle dead after clashing with him over responsibility for the pub explosion.\\nQuinn and his PIRA squad have been tailing Boyle since the pub explosion and saw him visit Eamon's flat without knowing why he was there. Sensing danger, Hook flees the flat, taking an assault knife he finds in a bag. He eludes the PIRA men but, unable to evade Haggerty, Hook stabs and kills him.\\nQuinn's group captures Hook and takes him to a hideout. Quinn orders Sean, a young inexperienced teenager who in the early neighborhood persecution had hesitated killing Hook, to murder him. When Sean hesitates, Quinn prepares to execute Hook, only to leave when Browning's group arrives. Sergeant Lewis of Browning's group shoots Sean, to Hook's horror. Lewis then attempts to strangle Hook to prevent him from informing others about the bomb.\\nAs Lieutenant Armitage and his men enter in support of Browning, Armitage sees Lewis' attempt to kill Hook. Sean raises himself and shoots Lewis dead before being shot again, this time by Armitage. Browning finds Quinn, and rather than arresting him, tells him Boyle wants him dead, then lets him go. As Quinn leaves, Browning tells him he will be in touch soon, and he expects him to be helpful.\\nHook is returned to his barracks. Later, despite a formal complaint by Armitage, the commanding officer dismisses the incident involving Hook, Lewis, and Sean as a confused situation that merits no further inquiry. Hook returns to England and reunites with Darren.|\n",
      "|tt0032176|'Til We Meet Again |Total strangers Dan Hardesty (George Brent) and Joan Ames (Merle Oberon) meet by chance in a bar in Hong Kong. They share a single drink before leaving, called by Dan the \"Paradise Cocktail\". They romantically shatter their glasses, which Dan tells Joan is a tradition connected with the drink, along with leaving the broken stems crossed. Outside, after Joan has left, Dan is handcuffed by Lieutenant Steve Burke of the San Francisco police (Pat O'Brien). Burke has spent a year chasing the convicted murderer around the world.\\nBy chance, Burke takes Dan aboard the same ocean liner to San Francisco that Joan is taking. Once they are underway, Steve allows Dan the freedom of the ship. Dan and Joan fall in love, but they are both facing death. Dan has been sentenced to be hanged and Joan has only weeks or at best months to live, due to a weak heart.\\nAlso aboard are two of Dan's crooked friends, \"la Comtesse de Bresac\" (Binnie Barnes) and Rockingham T. Rockingham (Frank McHugh, reprising essentially the same role he played in the earlier One Way Passage). They help plan Dan's escape at Honolulu, the only stop along the way. La Comtesse, actually a con artist trained by Dan and in love with him herself, is assigned to keep Steve occupied. A romance develops between the mismatched pair.\\nJust before they reach Honolulu, Steve has Dan put in the ship's brig. However, la Comtesse slips Steve some sleeping pills and gets the key. Dan makes his break, but is spotted by Joan. He agrees to postpone his \"business\" and go with her on a mountain outing as they had planned. They spend a blissful few hours together. On the way back, Dan stops and gets out of the rented car before they reach the pier, as they hear the signal to board the ship. This sudden and unexplained act agitates Joan so much that she collapses. Dan carries her back aboard ship, much to the dismay of his friends.\\nThe ship's doctor tells Dan about Joan's bleak prognosis. Later, when they reach San Francisco, a newspaper reporter informs Joan of Dan's fate. She rushes to see him one last time. They bid each other goodbye, promising to reunite at a bar in Mexico City on New Year's Eve, each knowing they will both be unable to keep the appointment.\\nAt midnight on New Year's Eve, the bartenders at the rendezvous are surprised when two glasses break of their own accord and the stems are crossed.                                                                                                                                                                                                                                                                                                                                                                                                                                                                                                                                                                                                                                                                                                                                                                                                                                                                                                                                                                                                                                                                                                                                                                                                                                                                                                                                                                                                                                                                                                                                                                                                                                                                                                                                                                                                                                                                                                                                         |\n",
      "|tt0066730|10 Rillington Place|The film begins in 1944 with John Christie murdering his neighbour Muriel Eady: he lures her to his flat in 10 Rillington Place by promising to cure her bronchitis with a \"special mixture\", then incapacitates her with Town Gas, strangles her with a piece of rope, and has (implied) sex with her corpse. He buries her in his flat block's communal garden, where a dog uncovers one of his previous victims.\\nIn 1949, Tim and Beryl Evans move into 10 Rillington Place, west London, with their infant daughter Geraldine. Beryl is pregnant again and attempts an abortion by taking some pills. When she informs Tim, they have a violent argument, which Christie breaks up. Soon after, Christie offers to help Beryl terminate the pregnancy. He pretends to read a medical textbook one day in an effort to convince Tim of his expertise. Tim is essentially illiterate and cannot tell that Christie is lying. The Evanses agree to let Christie perform the procedure.\\nChristie occupies his wife, Ethel, by sending her to his office with some paperwork. He grabs his killing tools, makes a cup of tea, and hurries upstairs to Beryl. He is interrupted by a team of builders who are there to renovate the outbuilding. He lets them in, and when he sees they are well-occupied, he pours a new cup of tea and heads back upstairs. Beryl has a violent reaction to the gas, and Christie punches her in the face to knock her out. He then strangles and sexually assaults her.\\nWhen Tim returns, Christie tells him that Beryl died of complications from the procedure. Tim wants to go to the police, but Christie convinces him that he will be seen as an accessory before the fact. Christie suggests that Tim leave town that night, while Christie disposes of Beryl's body. He promises that he will place the baby in the care of a childless couple from East Acton. Tim reluctantly agrees, and leaves the house in the middle of the night. Christie then strangles Geraldine with a necktie.\\nTim hides out with his aunt and uncle in Merthyr Tydfil, pretending that he is in town on business. He claims that Beryl and the baby are visiting her family in Brighton. Tim's relatives send a letter to Beryl's father, who telegraphs in response to say that he has not seen Beryl in months. When confronted by his relatives, Tim admits what (he believes) happened, and he visits the local police. He confesses to disposing of Beryl's body in the sewer after the botched abortion. Three London police officers lift the manhole, but do not find Beryl's body. A search of 10 Rillington Place eventually uncovers the bodies of Beryl and the baby in the bathroom, where Christie hid them.\\nWhen Tim is brought back to London, he is charged with the murders of his wife and daughter. In shock, and despondent over the news, he confesses to both crimes, though he is guilty of neither. During his trial, Christie is a key witness. Tim's defence shreds Christie's credibility by revealing that he has a history of theft and violence. Nevertheless, Tim is found guilty and hanged.\\nTwo years after the trial, Ethel begins to fear her husband, and informs Christie she will move out to stay with relatives. When he begs her not to leave him, Ethel implies that he should be in prison. Christie murders her that night and hides her body under the floorboards. Later, he meets a woman suffering from a migraine in a restaurant. He pretends to be a medical expert and promises her a cure. He is next seen putting fresh wallpaper on a wall in his living room; it is implied that he has hidden the woman's body in the space behind the wall.\\nIn 1953, Christie is living in a hostel. Meanwhile, new tenants are moving into the Christie's flat. They complain about the awful smell, and one of them peels off the wallpaper to find a space behind the wall, where they find three of Christie's victims. Soon after, Christie is noticed by a police officer in Putney and arrested. The film ends with an intertitle explaining that Christie was hanged and Tim was posthumously pardoned and reinterred in consecrated ground.                                                                                                                                                                                             |\n",
      "|tt3995348|100 Days of Love   |Balan K. Nair (Dulquer Salman), who calls himself BKN, is a reporter in a famous daily based in Bangalore. After insulting his ex girlfriend on Facebook in a drunken state, Balan feels like his life is not in sync. He is the \"loser\" of his family, since his brother Rocky K. Nair; (also played by Dulquer Salman) is a successful doctor. He left his parents' house to become a columnist. He lives with his close aid Ummar (Sekhar Menon), who is a foodie and an avid computer gamer. One day, Balan meets Sheela (Nithya Menon) when they both get into a taxi at the same time. Balan sees her and instantly falls in love. As the taxi drives away, Balan sees Sheela's bag lying on the floor. Inside the bag, there is an old camera with photos of certain places and certain people in Bangalore. Balan and Ummer use the pictures as clues to try to find Sheela.\\nJust as Balan begins to lose hope, he meets Sheela at a hospital by chance, where Sheela reveals that she already knows Balan. Apparently, Balan was her bully back when they were in school, and she was also the reason that the whole school ended up hating him and calling him a Loser. He immediately tries to avoid Sheela in the future. However, she keeps meeting him and poses as his girlfriend in his ex-girlfriend's marriage.Due to this, he is avoided from an embarrassing situation and doesn't lose face in front of his elder brother and his ex-girl friend. He realizes that she is good-natured and falls in love with her again. He talks to her and gets to know her further. She is enjoying life after her studies. Balan helps Sheela to take all the photos of places where her parents fell in love. For the last photo they need to find the old scooter. Balan finds the scooter and they take all the photos and Balan drops Sheela and takes the camera from her and tells her he will edit and give. That night Balan sees Rahul (Rahul Madhav) proposing to Sheela. Balan feels upset and lost. He tries to talk to Rahul, but Rahul ends up being extremely possessive and haughty. Balan tries to win Sheela back, but she says she believes in arranged marriages and does not care about love.\\nAt the same time, Ummer tells Balan that he must go to the U.S to work with his dad. Balan's life spirals out of control. He begins to drink excessively, and Sheela becomes worried for Balan. On Sheela's parents' 25th anniversary, Balan forgets to bring the photos as this is the gift Sheela was planning to give her parents. Balan reaches on time but Sheela still shouts at him. When the presentation is displayed she realizes that she was included in all the photos along with her parents, which comes as a surprise for her.Later she regrets scolding Balan and goes to apologize a drunken Balan. He tells that it is easy for him to become like Rahul, however he plans to stay \"original'.He also tells Sheela that he will come the next morning with the scooter if she was ready to come with him. Next day, Balan plans to go and tells Ummar to give the scooter back but he forgets about what he told the previous night. An excited Sheela comes running out hearing the sound of the scooter expecting Balan but she is disappointed to see only Ummar. They both have a conversation and they head to the railway station where Sheela confesses her love for Balan, and they both live happily ever after.                                                                                                                                                                                                                                                                                                                                                                                                                                                                                                                                                                                                                                                                                                                                                                                                                                                                                                                                               |\n",
      "+---------+-------------------+-------------------------------------------------------------------------------------------------------------------------------------------------------------------------------------------------------------------------------------------------------------------------------------------------------------------------------------------------------------------------------------------------------------------------------------------------------------------------------------------------------------------------------------------------------------------------------------------------------------------------------------------------------------------------------------------------------------------------------------------------------------------------------------------------------------------------------------------------------------------------------------------------------------------------------------------------------------------------------------------------------------------------------------------------------------------------------------------------------------------------------------------------------------------------------------------------------------------------------------------------------------------------------------------------------------------------------------------------------------------------------------------------------------------------------------------------------------------------------------------------------------------------------------------------------------------------------------------------------------------------------------------------------------------------------------------------------------------------------------------------------------------------------------------------------------------------------------------------------------------------------------------------------------------------------------------------------------------------------------------------------------------------------------------------------------------------------------------------------------------------------------------------------------------------------------------------------------------------------------------------------------------------------------------------------------------------------------------------------------------------------------------------------------------------------------------------------------------------------------------------------------------------------------------------------------------------------------------------------------------------------------------------------------------------------------------------------------------------------------------------------------------------------------------------------------------------------------------------------------------------------------------------------------------------------------------------------------------------------------------------------------------------------------------------------------------------------------------------------------------------------------------------------------------------------------------------------------------------------------------------------------------------------------------------------------------------------------------------------------------------------------------------------------------------------------------------------------------------------------------------------------------------------------------------------------------------------------------------------------------------------------------------------------------------------------------------------------------------------------------------------------------------------------------------------------------------------------------------------------------------------------------------------------------------------------------------------------------------------------------------------------------------------------------------------------------------------------------------------------------------------------------------------------------------------------------------------------------------------------------------------------------------------------------------------------------------------------------------------------------------------------------------------------------------+\n",
      "only showing top 5 rows\n",
      "\n"
     ]
    },
    {
     "name": "stderr",
     "output_type": "stream",
     "text": [
      "                                                                                \r"
     ]
    }
   ],
   "source": [
    "# join the imdb with the plot dataset by matching movie titles and release year\n",
    "imdb_join_plot = imdb.join(plot, [imdb.primaryTitle == plot.Title, imdb.Year == plot.Year], 'inner')\\\n",
    "  .withColumnRenamed('tconst', 'id')\\\n",
    "    .select('id', 'Title', 'Plot')\n",
    "\n",
    "print(\"The joined dataset has \", imdb_join_plot.count(), \" entries\")\n",
    "#imdb_join_plot.filter(\"tconst == 'tt0472062'\").show(truncate = False)\n",
    "imdb_join_plot.show(5, truncate=False)"
   ]
  },
  {
   "cell_type": "code",
   "execution_count": 8,
   "metadata": {},
   "outputs": [
    {
     "name": "stderr",
     "output_type": "stream",
     "text": [
      "                                                                                \r"
     ]
    },
    {
     "name": "stdout",
     "output_type": "stream",
     "text": [
      "after merging & cleaning, there is a total of  28277  movie plot entries left in the merged dataset\n"
     ]
    },
    {
     "name": "stderr",
     "output_type": "stream",
     "text": [
      "[Stage 47:>                                                         (0 + 1) / 1]\r"
     ]
    },
    {
     "name": "stdout",
     "output_type": "stream",
     "text": [
      "+---------+------------------+-------------------------------------------------------------------------------------------------------------------------------------------------------------------------------------------------------------------------------------------------------------------------------------------------------------------------------------------------------------------------------------------------------------------------------------------------------------------------------------------------------------------------------------------------------------------------------------------------------------------------------------------------------------------------------------------------------------------------------------------------------------------------------------------------------------------------------------------------------------------------------------------------------------------------------------------------------------------------------------------------------------------------------------------------------------------------------------------------------------------------------------------------------------------------------------------------------------------------------------------------------------------------------------------------------------------------------------------------------------------------------------------------------------------------------------------------------------------------------------------------------------------------------------------------------------------------------------------------------------------------------------------------------------------------------------------------------------------------------------------------------------------------------------------------------------------------------------------------------------------------------------------------------------------------------------------------------------------------------------------------------------------------------------------------------------------------------------------------------------------------------------------------------------------------------------------------------------------------------------------------------------------------------------------------------------------------------------------------------------------------------------------------------------------------------------------------------------------------------------------------------------------------------------------------------------------------------------------------------------------------------------------------------------------------------------------------------------------------------------------------------------------------------------------------------------------------------------------------------------------------------------------------------------------------------------------------------------------------------------------------------------------------------------------------------------------------------------------------------------------------------------------------------------------------------------------------------------------------------------------------------------------------------------------------------------------------------------------------------------------------------------------------------------------------------------------------------------------------------------------------------------------------------------------------------------------------------------------------------------------------------------------------------------------------------------------------------------------------------------------------------------------------------------------------------------------------------------------------------------------------------------------------------------------------------------------------------------------------------------------------------------------------------------------------------------------------------------------------------------------------------------------------------------------------------------------------------------------------------------------------------------------------------------------------------------------------------------------------------------------------------------------------------------------------+\n",
      "|id       |Title             |Plot                                                                                                                                                                                                                                                                                                                                                                                                                                                                                                                                                                                                                                                                                                                                                                                                                                                                                                                                                                                                                                                                                                                                                                                                                                                                                                                                                                                                                                                                                                                                                                                                                                                                                                                                                                                                                                                                                                                                                                                                                                                                                                                                                                                                                                                                                                                                                                                                                                                                                                                                                                                                                                                                                                                                                                                                                                                                                                                                                                                                                                                                                                                                                                                                                                                                                                                                                                                                                                                                                                                                                                                                                                                                                                                                                                                                                                                                                                                                                                                                                                                                                                                                                                                                                                                                                                                                                                                                                     |\n",
      "+---------+------------------+-------------------------------------------------------------------------------------------------------------------------------------------------------------------------------------------------------------------------------------------------------------------------------------------------------------------------------------------------------------------------------------------------------------------------------------------------------------------------------------------------------------------------------------------------------------------------------------------------------------------------------------------------------------------------------------------------------------------------------------------------------------------------------------------------------------------------------------------------------------------------------------------------------------------------------------------------------------------------------------------------------------------------------------------------------------------------------------------------------------------------------------------------------------------------------------------------------------------------------------------------------------------------------------------------------------------------------------------------------------------------------------------------------------------------------------------------------------------------------------------------------------------------------------------------------------------------------------------------------------------------------------------------------------------------------------------------------------------------------------------------------------------------------------------------------------------------------------------------------------------------------------------------------------------------------------------------------------------------------------------------------------------------------------------------------------------------------------------------------------------------------------------------------------------------------------------------------------------------------------------------------------------------------------------------------------------------------------------------------------------------------------------------------------------------------------------------------------------------------------------------------------------------------------------------------------------------------------------------------------------------------------------------------------------------------------------------------------------------------------------------------------------------------------------------------------------------------------------------------------------------------------------------------------------------------------------------------------------------------------------------------------------------------------------------------------------------------------------------------------------------------------------------------------------------------------------------------------------------------------------------------------------------------------------------------------------------------------------------------------------------------------------------------------------------------------------------------------------------------------------------------------------------------------------------------------------------------------------------------------------------------------------------------------------------------------------------------------------------------------------------------------------------------------------------------------------------------------------------------------------------------------------------------------------------------------------------------------------------------------------------------------------------------------------------------------------------------------------------------------------------------------------------------------------------------------------------------------------------------------------------------------------------------------------------------------------------------------------------------------------------------------------------------------------------+\n",
      "|tt0790799|$9.99             |The film mainly focuses on 28-year-old Dave Peck, who is unemployed but prefers the search for the meaning of life to the search for gainful employment. While looking in a magazine, Dave finds an advertisement for a book that will tell him the meaning of life \"for the low price of $9.99.\" Dave, fascinated by this, begins his journey in his Sydney apartment to find the true meaning of life.\\nAs the film progresses, stories of Dave's family and neighbours are woven in and examine the post-modern meaning of hope.                                                                                                                                                                                                                                                                                                                                                                                                                                                                                                                                                                                                                                                                                                                                                                                                                                                                                                                                                                                                                                                                                                                                                                                                                                                                                                                                                                                                                                                                                                                                                                                                                                                                                                                                                                                                                                                                                                                                                                                                                                                                                                                                                                                                                                                                                                                                                                                                                                                                                                                                                                                                                                                                                                                                                                                                                                                                                                                                                                                                                                                                                                                                                                                                                                                                                                                                                                                                                                                                                                                                                                                                                                                                                                                                                                                                                                                                                      |\n",
      "|tt2614684|'71               |Gary Hook, a new recruit to the British Army, takes leave of his much younger brother Darren. Hook's platoon is sent to Belfast in 1971 in the early years of the Troubles. Under the leadership of the inexperienced Second Lieutenant Armitage, his platoon is deployed to a volatile area where Catholic Republicans and Protestant Loyalists live side by side. The unit provides support for the Royal Ulster Constabulary as it inspects homes for firearms, shocking Hook with their rough treatment of women and children. A crowd gathers to protest and provoke the British troops who, though heavily armed, can only respond by trying to hold the crowd back.\\nOne soldier is hit by a rock and drops his rifle to the ground. In the confusion, a young boy seizes it and runs off through the mob. Hook and another soldier, Thompson, pursue him. As the crowd's protest violently escalates, the soldiers and police pull out, leaving the two soldiers behind. Hook and Thompson are severely beaten by a mob, until a sympathetic woman manages to calm things down. However, Thompson is suddenly shot dead at point-blank range by the Provisional Irish Republican Army (PIRA) gunman Paul Haggerty. With the crowd physically attacking him, Hook flees through streets and back alleys, eludes his pursuers, and hides in an outhouse until dark.\\nA Protestant youngster brings Hook to a local pub that serves as a front for Loyalists. There, Hook glimpses a Loyalist group in a back room, constructing a bomb under the guidance of a member of the Military Reaction Force (MRF), the British Army's covert counter-insurgency unit. Hook steps outside the pub just before an enormous explosion destroys the building, killing or injuring many of those inside, including the young boy who brought him there. Hook flees once more into the dark streets. Unaware that the Loyalist bombers have blown themselves up accidentally, the PIRA and Official Irish Republican Army (OIRA) factions accuse each other of being responsible for the bombing.\\nTwo Catholics, Eamon and his daughter Brigid, discover Hook as he lies in a street unconscious and injured by shrapnel. They take him to their home in the Divis Flats area before discovering he is a British soldier. Eamon, a former army medic, stitches Hook's wounds.\\nDespite the PIRA's having recently taken control of the area from the OIRA, Eamon contacts senior OIRA official Boyle for help, expecting a more humane solution than the PIRA faction would allow. Boyle, less radical and violent than the younger PIRA members, has a working relationship with the MRF and tells MRF Captain Browning, leader of the local MRF section, of Hook's whereabouts and asks in return that Browning kill James Quinn, a key leader of the PIRA faction, who wanted Boyle dead after clashing with him over responsibility for the pub explosion.\\nQuinn and his PIRA squad have been tailing Boyle since the pub explosion and saw him visit Eamon's flat without knowing why he was there. Sensing danger, Hook flees the flat, taking an assault knife he finds in a bag. He eludes the PIRA men but, unable to evade Haggerty, Hook stabs and kills him.\\nQuinn's group captures Hook and takes him to a hideout. Quinn orders Sean, a young inexperienced teenager who in the early neighborhood persecution had hesitated killing Hook, to murder him. When Sean hesitates, Quinn prepares to execute Hook, only to leave when Browning's group arrives. Sergeant Lewis of Browning's group shoots Sean, to Hook's horror. Lewis then attempts to strangle Hook to prevent him from informing others about the bomb.\\nAs Lieutenant Armitage and his men enter in support of Browning, Armitage sees Lewis' attempt to kill Hook. Sean raises himself and shoots Lewis dead before being shot again, this time by Armitage. Browning finds Quinn, and rather than arresting him, tells him Boyle wants him dead, then lets him go. As Quinn leaves, Browning tells him he will be in touch soon, and he expects him to be helpful.\\nHook is returned to his barracks. Later, despite a formal complaint by Armitage, the commanding officer dismisses the incident involving Hook, Lewis, and Sean as a confused situation that merits no further inquiry. Hook returns to England and reunites with Darren.|\n",
      "|tt0032176|'Til We Meet Again|Total strangers Dan Hardesty (George Brent) and Joan Ames (Merle Oberon) meet by chance in a bar in Hong Kong. They share a single drink before leaving, called by Dan the \"Paradise Cocktail\". They romantically shatter their glasses, which Dan tells Joan is a tradition connected with the drink, along with leaving the broken stems crossed. Outside, after Joan has left, Dan is handcuffed by Lieutenant Steve Burke of the San Francisco police (Pat O'Brien). Burke has spent a year chasing the convicted murderer around the world.\\nBy chance, Burke takes Dan aboard the same ocean liner to San Francisco that Joan is taking. Once they are underway, Steve allows Dan the freedom of the ship. Dan and Joan fall in love, but they are both facing death. Dan has been sentenced to be hanged and Joan has only weeks or at best months to live, due to a weak heart.\\nAlso aboard are two of Dan's crooked friends, \"la Comtesse de Bresac\" (Binnie Barnes) and Rockingham T. Rockingham (Frank McHugh, reprising essentially the same role he played in the earlier One Way Passage). They help plan Dan's escape at Honolulu, the only stop along the way. La Comtesse, actually a con artist trained by Dan and in love with him herself, is assigned to keep Steve occupied. A romance develops between the mismatched pair.\\nJust before they reach Honolulu, Steve has Dan put in the ship's brig. However, la Comtesse slips Steve some sleeping pills and gets the key. Dan makes his break, but is spotted by Joan. He agrees to postpone his \"business\" and go with her on a mountain outing as they had planned. They spend a blissful few hours together. On the way back, Dan stops and gets out of the rented car before they reach the pier, as they hear the signal to board the ship. This sudden and unexplained act agitates Joan so much that she collapses. Dan carries her back aboard ship, much to the dismay of his friends.\\nThe ship's doctor tells Dan about Joan's bleak prognosis. Later, when they reach San Francisco, a newspaper reporter informs Joan of Dan's fate. She rushes to see him one last time. They bid each other goodbye, promising to reunite at a bar in Mexico City on New Year's Eve, each knowing they will both be unable to keep the appointment.\\nAt midnight on New Year's Eve, the bartenders at the rendezvous are surprised when two glasses break of their own accord and the stems are crossed.                                                                                                                                                                                                                                                                                                                                                                                                                                                                                                                                                                                                                                                                                                                                                                                                                                                                                                                                                                                                                                                                                                                                                                                                                                                                                                                                                                                                                                                                                                                                                                                                                                                                                                                                                                                                                                                                                                                                         |\n",
      "+---------+------------------+-------------------------------------------------------------------------------------------------------------------------------------------------------------------------------------------------------------------------------------------------------------------------------------------------------------------------------------------------------------------------------------------------------------------------------------------------------------------------------------------------------------------------------------------------------------------------------------------------------------------------------------------------------------------------------------------------------------------------------------------------------------------------------------------------------------------------------------------------------------------------------------------------------------------------------------------------------------------------------------------------------------------------------------------------------------------------------------------------------------------------------------------------------------------------------------------------------------------------------------------------------------------------------------------------------------------------------------------------------------------------------------------------------------------------------------------------------------------------------------------------------------------------------------------------------------------------------------------------------------------------------------------------------------------------------------------------------------------------------------------------------------------------------------------------------------------------------------------------------------------------------------------------------------------------------------------------------------------------------------------------------------------------------------------------------------------------------------------------------------------------------------------------------------------------------------------------------------------------------------------------------------------------------------------------------------------------------------------------------------------------------------------------------------------------------------------------------------------------------------------------------------------------------------------------------------------------------------------------------------------------------------------------------------------------------------------------------------------------------------------------------------------------------------------------------------------------------------------------------------------------------------------------------------------------------------------------------------------------------------------------------------------------------------------------------------------------------------------------------------------------------------------------------------------------------------------------------------------------------------------------------------------------------------------------------------------------------------------------------------------------------------------------------------------------------------------------------------------------------------------------------------------------------------------------------------------------------------------------------------------------------------------------------------------------------------------------------------------------------------------------------------------------------------------------------------------------------------------------------------------------------------------------------------------------------------------------------------------------------------------------------------------------------------------------------------------------------------------------------------------------------------------------------------------------------------------------------------------------------------------------------------------------------------------------------------------------------------------------------------------------------------------------------------------------+\n",
      "only showing top 3 rows\n",
      "\n"
     ]
    },
    {
     "name": "stderr",
     "output_type": "stream",
     "text": [
      "                                                                                \r"
     ]
    }
   ],
   "source": [
    "# drop primaryTitle and movie_id because they provide redundant information \n",
    "df = imdb_join_plot.union(imdb_join_details)\n",
    "\n",
    "print('after merging & cleaning, there is a total of ', df.count(), ' movie plot entries left in the merged dataset')\n",
    "\n",
    "df.show(3, truncate = False)"
   ]
  },
  {
   "cell_type": "markdown",
   "metadata": {},
   "source": [
    "## Trainning Model"
   ]
  },
  {
   "cell_type": "code",
   "execution_count": 9,
   "metadata": {},
   "outputs": [
    {
     "name": "stderr",
     "output_type": "stream",
     "text": [
      "[Stage 53:>                                                         (0 + 1) / 1]\r"
     ]
    },
    {
     "name": "stdout",
     "output_type": "stream",
     "text": [
      "+---------+------------------+--------------------+--------------------+--------------------+--------------------+\n",
      "|       id|             Title|                Plot|           inputText|              tokens|   tokens_sw_removed|\n",
      "+---------+------------------+--------------------+--------------------+--------------------+--------------------+\n",
      "|tt0790799|             $9.99|The film mainly f...|The film mainly f...|[the, film, mainl...|[film, mainly, fo...|\n",
      "|tt2614684|               '71|Gary Hook, a new ...|Gary Hook, a new ...|[gary, hook, a, n...|[gary, hook, new,...|\n",
      "|tt0032176|'Til We Meet Again|Total strangers D...|Total strangers D...|[total, strangers...|[total, strangers...|\n",
      "+---------+------------------+--------------------+--------------------+--------------------+--------------------+\n",
      "only showing top 3 rows\n",
      "\n"
     ]
    },
    {
     "name": "stderr",
     "output_type": "stream",
     "text": [
      "                                                                                \r"
     ]
    }
   ],
   "source": [
    "# tokenize and remove stop words in this cell\n",
    "from pyspark.ml.feature import RegexTokenizer, StopWordsRemover, Word2Vec\n",
    "\n",
    "# create a new field by copying Plot\n",
    "df = df.withColumn('inputText', F.col('Plot')) \n",
    "\n",
    "# regular expression tokenizer to tokenize inputText into individual tokens (words)\n",
    "regextok = RegexTokenizer(gaps = False, pattern = '\\w+', inputCol = 'inputText', outputCol = 'tokens')\n",
    "\n",
    "# StopWordsRemover to remove stopwords in the list of tokens\n",
    "stopwrmv = StopWordsRemover(inputCol = 'tokens', outputCol = 'tokens_sw_removed')\n",
    "df = regextok.transform(df)\n",
    "df = stopwrmv.transform(df)\n",
    "df.show(3)"
   ]
  },
  {
   "cell_type": "code",
   "execution_count": 10,
   "metadata": {},
   "outputs": [
    {
     "name": "stderr",
     "output_type": "stream",
     "text": [
      "23/08/02 15:45:31 WARN InstanceBuilder: Failed to load implementation from:dev.ludovic.netlib.blas.JNIBLAS\n",
      "                                                                                \r"
     ]
    }
   ],
   "source": [
    "# train word2vec model, the parameters here can be changed to optimize the model\n",
    "word2vec = Word2Vec(vectorSize = 100, minCount = 5, inputCol = 'tokens_sw_removed', outputCol = 'wordvectors')\n",
    "model = word2vec.fit(df)"
   ]
  },
  {
   "cell_type": "code",
   "execution_count": 11,
   "metadata": {},
   "outputs": [
    {
     "name": "stderr",
     "output_type": "stream",
     "text": [
      "                                                                                \r"
     ]
    }
   ],
   "source": [
    "# using transform to add wordvectors column to dataframe\n",
    "df = model.transform(df)\n",
    "chunks = df.select('id', 'Title','wordvectors', 'Plot').limit(30000).collect()"
   ]
  },
  {
   "cell_type": "code",
   "execution_count": 12,
   "metadata": {},
   "outputs": [
    {
     "data": {
      "text/plain": [
       "' base_movie = \"Titanic\"\\nSEARCH_QUERY = df.filter(df.Title == base_movie).select(\"Plot\")\\nSEARCH_QUERY.show() '"
      ]
     },
     "execution_count": 12,
     "metadata": {},
     "output_type": "execute_result"
    }
   ],
   "source": [
    "# here I am trying to use the actual plot of the movies as an input, but I haven't completed the code\n",
    "\"\"\" base_movie = \"Titanic\"\n",
    "SEARCH_QUERY = df.filter(df.Title == base_movie).select(\"Plot\")\n",
    "SEARCH_QUERY.show() \"\"\""
   ]
  },
  {
   "cell_type": "code",
   "execution_count": 13,
   "metadata": {},
   "outputs": [
    {
     "name": "stderr",
     "output_type": "stream",
     "text": [
      "                                                                                \r"
     ]
    },
    {
     "data": {
      "text/plain": [
       "DenseVector([0.0894, 0.0576, 0.2092, -0.1297, -0.1751, 0.1632, 0.0966, -0.0067, -0.0508, 0.0572, 0.1328, -0.013, 0.0614, -0.1614, 0.0955, -0.0553, -0.0983, -0.0384, 0.142, 0.0748, 0.0825, 0.0458, -0.0424, -0.0764, 0.0668, 0.0377, -0.186, 0.0442, 0.044, -0.014, 0.0129, -0.0195, -0.041, 0.049, 0.023, -0.016, 0.0783, -0.0659, -0.1108, 0.0196, 0.1961, 0.083, 0.0189, 0.0255, 0.165, -0.0683, 0.038, 0.0636, 0.0207, -0.1058, -0.1393, 0.1209, -0.0508, -0.0001, -0.0672, 0.0946, 0.0225, 0.0509, 0.0776, 0.0327, 0.0546, 0.148, 0.1342, -0.1169, 0.097, 0.1636, -0.0741, -0.0993, 0.1836, -0.1829, 0.0725, 0.0268, 0.1521, 0.0145, -0.0623, -0.0112, 0.048, -0.0428, 0.0437, -0.291, -0.1043, 0.0059, -0.0962, -0.1176, -0.1713, 0.0934, 0.0701, 0.0427, 0.0302, 0.0221, -0.1327, -0.085, 0.119, -0.1746, 0.0446, 0.1417, 0.0656, -0.0571, 0.1699, -0.069])"
      ]
     },
     "execution_count": 13,
     "metadata": {},
     "output_type": "execute_result"
    }
   ],
   "source": [
    "# create search query and transform it to word vectors\n",
    "SEARCH_QUERY = \"Titanic\"\n",
    "query_df = spark.createDataFrame([(1, SEARCH_QUERY)]).toDF('index','inputText')\n",
    "query_tok = regextok.transform(query_df)\n",
    "query_swr = stopwrmv.transform(query_tok)\n",
    "query_vec = model.transform(query_swr)\n",
    "query_vec = query_vec.select('wordvectors').collect()[0][0]\n",
    "query_vec"
   ]
  },
  {
   "cell_type": "code",
   "execution_count": 14,
   "metadata": {},
   "outputs": [],
   "source": [
    "# define function to calculate cosine similarity\n",
    "import numpy as np\n",
    "def cossim(v1, v2): \n",
    "    '''\n",
    "        cossim(v1, v2) calculates the cosine similarity between v1 and v1.\n",
    "        If v1 or v2 is a zero vector, it will return 0\n",
    "    '''\n",
    "    if np.dot(v1, v1) == 0 or np.dot(v2, v2) == 0:\n",
    "        return 0.0\n",
    "    return float(np.dot(v1, v2) / np.sqrt(np.dot(v1, v1)) / (np.sqrt(np.dot(v2, v2))))"
   ]
  },
  {
   "cell_type": "code",
   "execution_count": 15,
   "metadata": {},
   "outputs": [],
   "source": [
    "data = [(i[0], float(cossim(query_vec, i[2])), i[1], i[3]) for i in chunks]"
   ]
  },
  {
   "cell_type": "code",
   "execution_count": 17,
   "metadata": {},
   "outputs": [
    {
     "name": "stderr",
     "output_type": "stream",
     "text": [
      "23/08/02 15:49:34 WARN TaskSetManager: Stage 84 contains a task of very large size (6703 KiB). The maximum recommended task size is 1000 KiB.\n",
      "                                                                                \r"
     ]
    },
    {
     "name": "stdout",
     "output_type": "stream",
     "text": [
      "+---------+------------------+---------------------+-----------------------------------------------------------------------------------------------------------------------------------------------------------------------------------------------------------------------------------------------------------------------------------------------------------------------------------------------------------------------------------------------------------------------------------------------------------------------------------------------------------------------------------------------------------------------------------------------------------------------------------------------------------------------------------------------------------------------------------------------------------------------------------------------------------------------------------------------------------------------------------------------------------------------------------------------------------------------------------------------------------------------------------------------------------------------------------------------------------------------------------------------------------------------------------------------------------------------------------------------------------------------------------------------------------------------------------------------------------------------------------------------------------------------------------------------------------------------------------------------------------------------------------------------------------------------------------------------------------------------------------------------------------------------------------------------------------------------------------------------------------------------------------------------------------------------------------------------------------------------------------------------------------------------------------------------------------------------------------------------------------------------------------------------------------------------------------------------------------------------------------------------------------------------------------------+\n",
      "|movie_id |similarity        |Title                |Plot                                                                                                                                                                                                                                                                                                                                                                                                                                                                                                                                                                                                                                                                                                                                                                                                                                                                                                                                                                                                                                                                                                                                                                                                                                                                                                                                                                                                                                                                                                                                                                                                                                                                                                                                                                                                                                                                                                                                                                                                                                                                                                                                                                                     |\n",
      "+---------+------------------+---------------------+-----------------------------------------------------------------------------------------------------------------------------------------------------------------------------------------------------------------------------------------------------------------------------------------------------------------------------------------------------------------------------------------------------------------------------------------------------------------------------------------------------------------------------------------------------------------------------------------------------------------------------------------------------------------------------------------------------------------------------------------------------------------------------------------------------------------------------------------------------------------------------------------------------------------------------------------------------------------------------------------------------------------------------------------------------------------------------------------------------------------------------------------------------------------------------------------------------------------------------------------------------------------------------------------------------------------------------------------------------------------------------------------------------------------------------------------------------------------------------------------------------------------------------------------------------------------------------------------------------------------------------------------------------------------------------------------------------------------------------------------------------------------------------------------------------------------------------------------------------------------------------------------------------------------------------------------------------------------------------------------------------------------------------------------------------------------------------------------------------------------------------------------------------------------------------------------+\n",
      "|tt0022564|0.7246970706221293|Windjammer           |A full rigged windjammer ship sails from Australia to England via Cape Horn.                                                                                                                                                                                                                                                                                                                                                                                                                                                                                                                                                                                                                                                                                                                                                                                                                                                                                                                                                                                                                                                                                                                                                                                                                                                                                                                                                                                                                                                                                                                                                                                                                                                                                                                                                                                                                                                                                                                                                                                                                                                                                                             |\n",
      "|tt0019658|0.6867787936299399|Atlantic             |Atlantic is a drama film based on the RMS Titanic and set aboard a fictional ship, called the Atlantic. The main plotline revolves around a man who has a shipboard affair with a fellow passenger, which is eventually discovered by his wife. The ship also has aboard an elderly couple, the Rools, who are on their anniversary cruise. Midway across the Atlantic Ocean, the Atlantic strikes an iceberg and is damaged to the point where it is sinking into the Atlantic. A shortage of lifeboats causes the crew to only allow women and children in (though the captain allows a few men to take to the last remaining boats as the disaster reaches its zenith) and many couples are separated. Mrs. Rool refuses to leave her husband and after the boats are gone all the passengers gather on the deck and sing \"Nearer, My God, to Thee\" as the Atlantic sinks into the ocean. The final scenes depict a group of passengers saying the Lord's Prayer in a flooding lounge.                                                                                                                                                                                                                                                                                                                                                                                                                                                                                                                                                                                                                                                                                                                                                                                                                                                                                                                                                                                                                                                                                                                                                                                                |\n",
      "|tt0017226|0.6812677780205441|Old Ironsides        |Early in the 19th century, the USS Constitution is launched as part of an effort to stop piracy in the Mediterranean. Meanwhile, a young man determined to go to sea (Farrell) is befriended by the bos'n (Beery) of the merchant ship Esther, and he joins her crew. When the Esther reaches the Mediterranean, she too, along with the Constitution, becomes involved in the battle against the pirates.                                                                                                                                                                                                                                                                                                                                                                                                                                                                                                                                                                                                                                                                                                                                                                                                                                                                                                                                                                                                                                                                                                                                                                                                                                                                                                                                                                                                                                                                                                                                                                                                                                                                                                                                                                               |\n",
      "|tt1613750|0.6767529992403258|Kon-Tiki             |The film is the dramatized story of Thor Heyerdahl and his Kon-Tiki expedition of 1947.\\nWhile the prevailing theories of the time held that Polynesia had been settled by peoples migrating from the west, Heyerdahl, an experimental ethnographer and adventurer, sets out to prove his theory that people from South America settled the islands in pre-Columbian times.\\nNoting similarities between statues found in South America and the Polynesian moai, Heyerdahl's theory about the origin of the Polynesian people is bolstered by Polynesian folklore that tells of an ancient tribe called the Hanau epe that are said to have once inhabited Easter Island. While most experts hold that such a voyage across the vast ocean is unlikely to have ever been successful, in order to illustrate that there were no technological limitations that would have inhibited the ancient peoples from making the journey, Heyerdahl puts his theory to the test and builds a balsawood raft using the same techniques that would have been utilized 1,500 years ago by the indigenous peoples of the region. Though he himself cannot swim or sail, he sets out on the treacherous 4,300 nautical mile–journey across the Pacific from Peru to Polynesia aboard the small raft, along with his crew of five men (and a macaw named Lorita).\\nDuring the three months aboard the primitive vessel named after Inca god of sun and storm, Kon-Tiki, the crew's scientific reenactment of the legendary voyage from the coast of Peru to the Polynesian islands is met with setbacks in the form of storms, sharks, and other perils of the open sea.                                                                                                                                                                                                                                                                                                                                                                                                                                                                                                                                 |\n",
      "|tt0077629|0.673612920016558 |Gray Lady Down       |Aging, respected Captain Paul Blanchard (Heston) is on his final submarine tour before promotion to command of a submarine squadron (COMSUBRON). Surfaced and returning to port, the submarine, USS Neptune, is struck by a Norwegian freighter enroute to New York in heavy fog. With the engine room flooded and its main propulsion disabled, the Neptune sinks to a depth of 1,450 feet (442 meters or approx. 241.6 fathoms) on a canyon ledge above the ocean floor. A United States Navy rescue force, commanded by Captain Bennett (Keach), arrives on the scene, but Neptune is subsequently rolled by a gravity slide to a greater angle that does not allow the Navy's Deep Submergence Rescue Vehicle (DSRV) to complete its work.\\nA small experimental submersible, Snark, is brought in to assist with the rescue. Snark is very capable, but run by an obscene caricature nonconformist U.S. Navy officer misfit, Captain Gates (Carradine). The tiny submersible is the only hope for a rescue. Ultimately, the surviving members of the crew are rescued by the DSRV, thanks to Gates sacrificing himself by using the Snark to jam the Neptune in place as another gravity slide begins while the rescue is taking place. Moments later the gravity slide pushes the Neptune and the Snark off the ledge and into the ocean's abyss. The film ends with a somber Blanchard climbing out of the DSRV and being welcomed aboard the rescue ship USS Pigeon by Bennett and his officers.                                                                                                                                                                                                                                                                                                                                                                                                                                                                                                                                                                                                                                                                                 |\n",
      "|tt0062862|0.6684982552541873|Daring Game          |Survival Devices, Inc., is an organization that employs a team of adventurers known as \"the Flying Fish\" who are adept in sky diving, scuba diving and martial arts. They are engaged to rescue a captured scientist imprisoned on a Caribbean island by a dictator.\\nThe team parachutes off the coast of the island in a HALO jump and establishes an inflatable underwater basecamp in an \"Instant Underwater Habitat\" or \"Igloo\".[2]                                                                                                                                                                                                                                                                                                                                                                                                                                                                                                                                                                                                                                                                                                                                                                                                                                                                                                                                                                                                                                                                                                                                                                                                                                                                                                                                                                                                                                                                                                                                                                                                                                                                                                                                                 |\n",
      "|tt0035757|0.6675592710207072|Corvette K-225       |In 1943, Lieutenant Commander MacClain (Randolph Scott) has just lost his ship and most of his crewmen due to enemy action. While accompanying a convoy, he was attacked by a U-boat with a distinctive large Iron Cross painted on the conning tower. The U-boat surfaced and machine-gunned many of the survivors. Offered duty ashore, MacClain is determined to avenge his men. He is allocated a new ship and while waiting for it to be built, befriends Joyce Cartwright (Ella Raines), whose brother Dick, an officer, was killed under his command.\\nMacClain's new ship is christened as HMCS Donnacona , and soon a crew of 65, including officer Paul Cartwright (James Brown), Joyce's younger brother is assigned to the corvette. Setting out as an escort to a convoy heading for England, the Donnacona comes upon a grisly sight, a lifeboat filled with dead sailors, the result of a deadly U-boat attack.\\nIn an ocean storm, his ship is separated from the convoy, but 300 miles from the Irish coast, MacClain finds other lost ships that had also been separated from the other escort ships. The captain of one of the ships, the tanker Egyptian Star relays the information that he thinks a submarine has been trailing the ship. The small group of ships becomes the target of Luftwaffe bombers that are chased off by a British fighter launched from one of the escort ships. The submarines below are still the main concern and when the Egyptian Star is torpedoed and sunk, MacClain attacks, sinking a U-boat with depth charges.\\nAnother U-boat surfaces and in a running battle cripples the Donnacona . MacClain attempts to ram the submarine and when it begins to dive, Lt. Cartwright and seaman Stooky O'Meara (Barry Fitzgerald) set off depth charges, sinking the U-boat. As it breaks up, MacClain recognizes it as the one which had machine-gunned his men, killing his former crew.\\nThe corvette, along with six surviving merchant ships, limps to safely in Ireland, but before it sets anchor, MacClain is asked to sail the Donnacona past the other ships in the harbor, so that its crew may be saluted for their bravery.|\n",
      "|tt0020198|0.6566694112188637|The Mysterious Island|On a volcanic island near the kingdom of Hetvia rules Count Dakkar, a benevolent leader and scientist who has eliminated class distinction among the island's inhabitants. Dakkar, his daughter Sonia and her fiance, engineer Nicolai Roget have designed a submarine which Roget pilots on its initial voyage just before the island is overrun by Baron Falon, despotic ruler of Hetvia. Falon sets out after Roget in a second submarine and the two craft, diving to the ocean's floor, discover a strange land populated by dragons, giant squid and an eerie undiscovered humanoid race.                                                                                                                                                                                                                                                                                                                                                                                                                                                                                                                                                                                                                                                                                                                                                                                                                                                                                                                                                                                                                                                                                                                                                                                                                                                                                                                                                                                                                                                                                                                                                                                          |\n",
      "|tt0036823|0.6481108745636571|The Fighting Lady    |The plot of the film revolves around the life of seamen on board an anonymous aircraft carrier. Because of war time restrictions, the name of the aircraft carrier was disguised as \"the Fighting Lady\", although she was later identified as USS Yorktown (CV-10). (\"Fighting Lady\" was the known moniker of the Yorktown, just as \"Lady Lex\" for Lexington, \"The Big E\" for Enterprise, etc...) A few shots of aircraft landing were filmed aboard the Yorktown's sister ship USS Ticonderoga.\\nFrequently mentioned is the adage that war is 99% waiting. The first half or so of the film is taken up with examining the mundane details of life on board the aircraft carrier as she sails through the Panama Canal and into the Pacific Ocean, finally seeing action at Marcus Island (attacked in 1943). The film provides aerial views of a series of airstrikes at Japanese bases in the Pacific theatre.\\nFollowing an attack on Kwajalein in early 1944, intelligence reports that an armada of Japanese ships is massing near Truk, a major Japanese logistical base in the Carolines. The Fighting Lady and some of her task force are sent on a \"hit and run\" mission to neutralize it and return to Marcus, but not to attempt a landing.\\nOnce the ship returns from the massive, two-day Truk raid, it is then sent to the waters off the Marianas and participates in the famous \"Marianas Turkey Shoot\".\\nAt the very end some of the servicemen who appeared in the film are reintroduced to us, and the narrator informs us that they have died in battle.                                                                                                                                                                                                                                                                                                                                                                                                                                                                                                                                                                                                          |\n",
      "|tt0056645|0.6460627314870514|The Valiant          |Alexandria December, 1941. Two Italian frogmen are captured under suspicion of placing a mine under the HMS Valiant. They are brought onto the ship for questioning.                                                                                                                                                                                                                                                                                                                                                                                                                                                                                                                                                                                                                                                                                                                                                                                                                                                                                                                                                                                                                                                                                                                                                                                                                                                                                                                                                                                                                                                                                                                                                                                                                                                                                                                                                                                                                                                                                                                                                                                                                     |\n",
      "+---------+------------------+---------------------+-----------------------------------------------------------------------------------------------------------------------------------------------------------------------------------------------------------------------------------------------------------------------------------------------------------------------------------------------------------------------------------------------------------------------------------------------------------------------------------------------------------------------------------------------------------------------------------------------------------------------------------------------------------------------------------------------------------------------------------------------------------------------------------------------------------------------------------------------------------------------------------------------------------------------------------------------------------------------------------------------------------------------------------------------------------------------------------------------------------------------------------------------------------------------------------------------------------------------------------------------------------------------------------------------------------------------------------------------------------------------------------------------------------------------------------------------------------------------------------------------------------------------------------------------------------------------------------------------------------------------------------------------------------------------------------------------------------------------------------------------------------------------------------------------------------------------------------------------------------------------------------------------------------------------------------------------------------------------------------------------------------------------------------------------------------------------------------------------------------------------------------------------------------------------------------------+\n",
      "only showing top 10 rows\n",
      "\n"
     ]
    }
   ],
   "source": [
    "sim_df = spark.createDataFrame(data).toDF('movie_id', 'similarity', 'Title', 'Plot').orderBy('similarity', ascending=False)\n",
    "sim_df.show(10, truncate = False)"
   ]
  },
  {
   "cell_type": "code",
   "execution_count": null,
   "metadata": {},
   "outputs": [],
   "source": []
  }
 ],
 "metadata": {
  "kernelspec": {
   "display_name": "Python 3 (ipykernel)",
   "language": "python",
   "name": "python3"
  },
  "language_info": {
   "codemirror_mode": {
    "name": "ipython",
    "version": 3
   },
   "file_extension": ".py",
   "mimetype": "text/x-python",
   "name": "python",
   "nbconvert_exporter": "python",
   "pygments_lexer": "ipython3",
   "version": "3.11.2"
  }
 },
 "nbformat": 4,
 "nbformat_minor": 2
}
