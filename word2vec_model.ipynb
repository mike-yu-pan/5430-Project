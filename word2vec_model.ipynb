{
 "cells": [
  {
   "cell_type": "markdown",
   "metadata": {},
   "source": [
    "## Word2vec Model Trainning\n",
    "- Using the movie plots and summary dataset, train a word2vec model that will recommend movies with similar plot lines "
   ]
  },
  {
   "cell_type": "code",
   "execution_count": 1,
   "metadata": {},
   "outputs": [],
   "source": [
    "# enter path to the location of the dataset here\n",
    "\"\"\"# Mike's desktop paths \n",
    "path_to_imdb_dataset = 'C:/Users/123/OneDrive/Academic/5430/data/title.basics.tsv.gz'\n",
    "path_to_reviews_dataset = 'C:/Users/123/OneDrive/Academic/5430/data/IMDB_reviews.json'\n",
    "path_to_plots_dataset = 'C:/Users/123/OneDrive/Academic/5430/data/wiki_movie_plots_deduped.csv'\n",
    "path_to_details_dataset = 'C:/Users/123/OneDrive/Academic/5430/data/IMDB_movie_details.json' \"\"\"\n",
    "\n",
    "# Mike's laptop paths\n",
    "path_to_imdb_dataset = '/Users/yupan/Library/CloudStorage/OneDrive-Personal/Academic/5430/data/title.basics.tsv.gz'\n",
    "path_to_reviews_dataset = '/Users/yupan/Library/CloudStorage/OneDrive-Personal/Academic/5430/data/IMDB_reviews.json'\n",
    "path_to_plots_dataset = '/Users/yupan/Library/CloudStorage/OneDrive-Personal/Academic/5430/data/wiki_movie_plots_deduped.csv'\n",
    "path_to_details_dataset = '/Users/yupan/Library/CloudStorage/OneDrive-Personal/Academic/5430/data/IMDB_movie_details.json'"
   ]
  },
  {
   "cell_type": "markdown",
   "metadata": {},
   "source": [
    "Three data sources: \n",
    "1. IMDB: used for matching movie title & ID\n",
    "2. Spoiler: contains plots&movie ID, used for trainning\n",
    "3. Plot: contains plots& movie name, used for trainning"
   ]
  },
  {
   "cell_type": "markdown",
   "metadata": {},
   "source": [
    "Plot_synopsis is the movies' plot summaries with spoilers. Since we want to analyze the similarity of the plot line of the movies, we will use this variable to train our word2vec model. \n",
    "\n",
    "To train the model, let's first initiate a spark session and load the dataset into the spark dataframe"
   ]
  },
  {
   "cell_type": "code",
   "execution_count": 2,
   "metadata": {},
   "outputs": [
    {
     "name": "stderr",
     "output_type": "stream",
     "text": [
      "23/08/03 19:00:45 WARN Utils: Your hostname, Yus-MacBook-Air-2.local resolves to a loopback address: 127.0.0.1; using 172.19.249.213 instead (on interface en0)\n",
      "23/08/03 19:00:45 WARN Utils: Set SPARK_LOCAL_IP if you need to bind to another address\n",
      "Setting default log level to \"WARN\".\n",
      "To adjust logging level use sc.setLogLevel(newLevel). For SparkR, use setLogLevel(newLevel).\n",
      "23/08/03 19:00:46 WARN NativeCodeLoader: Unable to load native-hadoop library for your platform... using builtin-java classes where applicable\n"
     ]
    }
   ],
   "source": [
    "from pyspark.sql import SparkSession\n",
    "import pyspark.sql.functions as F\n",
    "\n",
    "spark = SparkSession.builder.getOrCreate()"
   ]
  },
  {
   "cell_type": "code",
   "execution_count": 3,
   "metadata": {},
   "outputs": [
    {
     "name": "stderr",
     "output_type": "stream",
     "text": [
      "                                                                                \r"
     ]
    },
    {
     "name": "stdout",
     "output_type": "stream",
     "text": [
      "there is a total of  651281  movies in the imdb dataset\n",
      "+---------+--------------------+----+\n",
      "|   tconst|        primaryTitle|Year|\n",
      "+---------+--------------------+----+\n",
      "|tt0000009|          Miss Jerry|1894|\n",
      "|tt0000147|The Corbett-Fitzs...|1897|\n",
      "|tt0000502|            Bohemios|1905|\n",
      "+---------+--------------------+----+\n",
      "only showing top 3 rows\n",
      "\n"
     ]
    }
   ],
   "source": [
    "# reading the IMDB dataset\n",
    "imdb = spark.read.options(header = True, inferSchema = True, delimiter = \"\\t\").csv(path_to_imdb_dataset)\n",
    "\n",
    "# filter the imdb dataset so that only movies are included\n",
    "imdb = imdb.filter(\"titleType = 'movie'\")\\\n",
    "  .filter(\"primaryTitle != ''\")\\\n",
    "    .select('tconst', 'primaryTitle', 'startYear')\\\n",
    "      .withColumnRenamed('startYear', 'Year')\n",
    "\n",
    "print('there is a total of ', imdb.count(), ' movies in the imdb dataset')\n",
    "imdb.show(3)"
   ]
  },
  {
   "cell_type": "code",
   "execution_count": 4,
   "metadata": {},
   "outputs": [
    {
     "name": "stdout",
     "output_type": "stream",
     "text": [
      "there is a total of  1339  plot summaries left in the details dataset\n",
      "+---------+--------------------+\n",
      "| movie_id|       plot_synopsis|\n",
      "+---------+--------------------+\n",
      "|tt0105112|Jack Ryan (Ford) ...|\n",
      "|tt1204975|Four boys around ...|\n",
      "|tt0040897|Fred Dobbs (Humph...|\n",
      "+---------+--------------------+\n",
      "only showing top 3 rows\n",
      "\n"
     ]
    }
   ],
   "source": [
    "details = spark.read.json(path_to_details_dataset)\n",
    "details = details.select('movie_id','plot_synopsis')\\\n",
    "  .filter(\"plot_synopsis != ''\")\n",
    "print('there is a total of ', details.count(), ' plot summaries left in the details dataset')\n",
    "details.show(3)"
   ]
  },
  {
   "cell_type": "code",
   "execution_count": 5,
   "metadata": {},
   "outputs": [
    {
     "name": "stderr",
     "output_type": "stream",
     "text": [
      "                                                                                \r"
     ]
    },
    {
     "name": "stdout",
     "output_type": "stream",
     "text": [
      "The joined dataset has  1324  entries\n"
     ]
    },
    {
     "name": "stderr",
     "output_type": "stream",
     "text": [
      "[Stage 16:>                                                         (0 + 1) / 1]\r"
     ]
    },
    {
     "name": "stdout",
     "output_type": "stream",
     "text": [
      "+---------+--------------------+------------------------------------------------------------------------------------------------------------------------------------------------------------------------------------------------------------------------------------------------------------------------------------------------------------------------------------------------------------------------------------------------------------------------------------------------------------------------------------------------------------------------------------------------------------------------------------------------------------------------------------------------------------------------------------------------------------------------------------------------------------------------------------------------------------------------------------------------------+\n",
      "|id       |Title               |Plot                                                                                                                                                                                                                                                                                                                                                                                                                                                                                                                                                                                                                                                                                                                                                                                                                                                  |\n",
      "+---------+--------------------+------------------------------------------------------------------------------------------------------------------------------------------------------------------------------------------------------------------------------------------------------------------------------------------------------------------------------------------------------------------------------------------------------------------------------------------------------------------------------------------------------------------------------------------------------------------------------------------------------------------------------------------------------------------------------------------------------------------------------------------------------------------------------------------------------------------------------------------------------+\n",
      "|tt0472062|Charlie Wilson's War|\"Good-Time Charlie\" Wilson, a flawed and fun-loving Congressman from the piney woods of East Texas, deftly operates the levers of power to funnel money and weapons to the Mujahideen of Afghanistan following the Soviet invasion of their country in late 1979. Charlie finds assistance in the oddest of places -- a renegade CIA agent whose outsider status and womanizing ways endears him to Wilson; a Houston socialite who leads Wilson to the cause; the willing Pakistani dictator fascinated by the socialite; the Israelis who modify and manufacture Soviet weapons to maintain the wink-and-nudge illusion of American neutrality; and the women -- ooh the women.Based on the story (and the excellent book of the same name) that is so true and engaging that artistic liberties are not needed, even if they are taken in the film.|\n",
      "+---------+--------------------+------------------------------------------------------------------------------------------------------------------------------------------------------------------------------------------------------------------------------------------------------------------------------------------------------------------------------------------------------------------------------------------------------------------------------------------------------------------------------------------------------------------------------------------------------------------------------------------------------------------------------------------------------------------------------------------------------------------------------------------------------------------------------------------------------------------------------------------------------+\n",
      "\n"
     ]
    },
    {
     "name": "stderr",
     "output_type": "stream",
     "text": [
      "                                                                                \r"
     ]
    }
   ],
   "source": [
    "# join the imdb with details by matching the unique identifier(e.g. tt0000000)\n",
    "imdb_join_details = imdb.join(details, imdb.tconst == details.movie_id, 'inner')\\\n",
    "  .withColumnRenamed('plot_synopsis', 'Plot')\\\n",
    "    .withColumnRenamed('primaryTitle', 'Title')\\\n",
    "      .withColumnRenamed('tconst', 'id')\\\n",
    "        .select('id', 'Title', 'Plot')\n",
    "\n",
    "print(\"The joined dataset has \", imdb_join_details.count(), \" entries\")\n",
    "\n",
    "# inspect one entry\n",
    "imdb_join_details.filter(\"tconst == 'tt0472062'\").show(truncate = False)"
   ]
  },
  {
   "cell_type": "code",
   "execution_count": 6,
   "metadata": {},
   "outputs": [
    {
     "name": "stderr",
     "output_type": "stream",
     "text": [
      "                                                                                \r"
     ]
    },
    {
     "name": "stdout",
     "output_type": "stream",
     "text": [
      "there is a total of  34886  plot summaries in the plot dataset\n",
      "+--------------------+----+--------------------+\n",
      "|               Title|Year|                Plot|\n",
      "+--------------------+----+--------------------+\n",
      "|Kansas Saloon Sma...|1901|A bartender is wo...|\n",
      "|Love by the Light...|1901|The moon, painted...|\n",
      "|The Martyred Pres...|1901|The film, just ov...|\n",
      "+--------------------+----+--------------------+\n",
      "only showing top 3 rows\n",
      "\n"
     ]
    }
   ],
   "source": [
    "# reading the plot dataset\n",
    "plot = spark.read.options(header = True, inferSchema = True, quote = '\"', escape = '\"', multiLine = True).csv(path_to_plots_dataset)\n",
    "plot = plot.select('Title', 'Release Year','Plot').withColumnRenamed('Release Year', 'Year')\n",
    "print('there is a total of ', plot.count(), ' plot summaries in the plot dataset')\n",
    "plot.show(3)"
   ]
  },
  {
   "cell_type": "code",
   "execution_count": 7,
   "metadata": {},
   "outputs": [
    {
     "name": "stderr",
     "output_type": "stream",
     "text": [
      "                                                                                \r"
     ]
    },
    {
     "name": "stdout",
     "output_type": "stream",
     "text": [
      "The joined dataset has  26953  entries\n"
     ]
    },
    {
     "name": "stderr",
     "output_type": "stream",
     "text": [
      "[Stage 32:>                                                         (0 + 1) / 1]\r"
     ]
    },
    {
     "name": "stdout",
     "output_type": "stream",
     "text": [
      "+---------+-------------------+-------------------------------------------------------------------------------------------------------------------------------------------------------------------------------------------------------------------------------------------------------------------------------------------------------------------------------------------------------------------------------------------------------------------------------------------------------------------------------------------------------------------------------------------------------------------------------------------------------------------------------------------------------------------------------------------------------------------------------------------------------------------------------------------------------------------------------------------------------------------------------------------------------------------------------------------------------------------------------------------------------------------------------------------------------------------------------------------------------------------------------------------------------------------------------------------------------------------------------------------------------------------------------------------------------------------------------------------------------------------------------------------------------------------------------------------------------------------------------------------------------------------------------------------------------------------------------------------------------------------------------------------------------------------------------------------------------------------------------------------------------------------------------------------------------------------------------------------------------------------------------------------------------------------------------------------------------------------------------------------------------------------------------------------------------------------------------------------------------------------------------------------------------------------------------------------------------------------------------------------------------------------------------------------------------------------------------------------------------------------------------------------------------------------------------------------------------------------------------------------------------------------------------------------------------------------------------------------------------------------------------------------------------------------------------------------------------------------------------------------------------------------------------------------------------------------------------------------------------------------------------------------------------------------------------------------------------------------------------------------------------------------------------------------------------------------------------------------------------------------------------------------------------------------------------------------------------------------------------------------------------------------------------------------------------------------------------------------------------------------------------------------------------------------------------------------------------------------------------------------------------------------------------------------------------------------------------------------------------------------------------------------------------------------------------------------------------------------------------------------------------------------------------------------------------------------------------------------------------------------------------------------------------------------------------------------------------------------------------------------------------------------------------------------------------------------------------------------------------------------------------------------------------------------------------------------------------------------------------------------------------------------------------------------------------------------------------------------------------------------------------------------------------------------------+\n",
      "|id       |Title              |Plot                                                                                                                                                                                                                                                                                                                                                                                                                                                                                                                                                                                                                                                                                                                                                                                                                                                                                                                                                                                                                                                                                                                                                                                                                                                                                                                                                                                                                                                                                                                                                                                                                                                                                                                                                                                                                                                                                                                                                                                                                                                                                                                                                                                                                                                                                                                                                                                                                                                                                                                                                                                                                                                                                                                                                                                                                                                                                                                                                                                                                                                                                                                                                                                                                                                                                                                                                                                                                                                                                                                                                                                                                                                                                                                                                                                                                                                                                                                                                                                                                                                                                                                                                                                                                                                                                                                                                                                                                     |\n",
      "+---------+-------------------+-------------------------------------------------------------------------------------------------------------------------------------------------------------------------------------------------------------------------------------------------------------------------------------------------------------------------------------------------------------------------------------------------------------------------------------------------------------------------------------------------------------------------------------------------------------------------------------------------------------------------------------------------------------------------------------------------------------------------------------------------------------------------------------------------------------------------------------------------------------------------------------------------------------------------------------------------------------------------------------------------------------------------------------------------------------------------------------------------------------------------------------------------------------------------------------------------------------------------------------------------------------------------------------------------------------------------------------------------------------------------------------------------------------------------------------------------------------------------------------------------------------------------------------------------------------------------------------------------------------------------------------------------------------------------------------------------------------------------------------------------------------------------------------------------------------------------------------------------------------------------------------------------------------------------------------------------------------------------------------------------------------------------------------------------------------------------------------------------------------------------------------------------------------------------------------------------------------------------------------------------------------------------------------------------------------------------------------------------------------------------------------------------------------------------------------------------------------------------------------------------------------------------------------------------------------------------------------------------------------------------------------------------------------------------------------------------------------------------------------------------------------------------------------------------------------------------------------------------------------------------------------------------------------------------------------------------------------------------------------------------------------------------------------------------------------------------------------------------------------------------------------------------------------------------------------------------------------------------------------------------------------------------------------------------------------------------------------------------------------------------------------------------------------------------------------------------------------------------------------------------------------------------------------------------------------------------------------------------------------------------------------------------------------------------------------------------------------------------------------------------------------------------------------------------------------------------------------------------------------------------------------------------------------------------------------------------------------------------------------------------------------------------------------------------------------------------------------------------------------------------------------------------------------------------------------------------------------------------------------------------------------------------------------------------------------------------------------------------------------------------------------------------------------------------+\n",
      "|tt0790799|$9.99              |The film mainly focuses on 28-year-old Dave Peck, who is unemployed but prefers the search for the meaning of life to the search for gainful employment. While looking in a magazine, Dave finds an advertisement for a book that will tell him the meaning of life \"for the low price of $9.99.\" Dave, fascinated by this, begins his journey in his Sydney apartment to find the true meaning of life.\\nAs the film progresses, stories of Dave's family and neighbours are woven in and examine the post-modern meaning of hope.                                                                                                                                                                                                                                                                                                                                                                                                                                                                                                                                                                                                                                                                                                                                                                                                                                                                                                                                                                                                                                                                                                                                                                                                                                                                                                                                                                                                                                                                                                                                                                                                                                                                                                                                                                                                                                                                                                                                                                                                                                                                                                                                                                                                                                                                                                                                                                                                                                                                                                                                                                                                                                                                                                                                                                                                                                                                                                                                                                                                                                                                                                                                                                                                                                                                                                                                                                                                                                                                                                                                                                                                                                                                                                                                                                                                                                                                                      |\n",
      "|tt2614684|'71                |Gary Hook, a new recruit to the British Army, takes leave of his much younger brother Darren. Hook's platoon is sent to Belfast in 1971 in the early years of the Troubles. Under the leadership of the inexperienced Second Lieutenant Armitage, his platoon is deployed to a volatile area where Catholic Republicans and Protestant Loyalists live side by side. The unit provides support for the Royal Ulster Constabulary as it inspects homes for firearms, shocking Hook with their rough treatment of women and children. A crowd gathers to protest and provoke the British troops who, though heavily armed, can only respond by trying to hold the crowd back.\\nOne soldier is hit by a rock and drops his rifle to the ground. In the confusion, a young boy seizes it and runs off through the mob. Hook and another soldier, Thompson, pursue him. As the crowd's protest violently escalates, the soldiers and police pull out, leaving the two soldiers behind. Hook and Thompson are severely beaten by a mob, until a sympathetic woman manages to calm things down. However, Thompson is suddenly shot dead at point-blank range by the Provisional Irish Republican Army (PIRA) gunman Paul Haggerty. With the crowd physically attacking him, Hook flees through streets and back alleys, eludes his pursuers, and hides in an outhouse until dark.\\nA Protestant youngster brings Hook to a local pub that serves as a front for Loyalists. There, Hook glimpses a Loyalist group in a back room, constructing a bomb under the guidance of a member of the Military Reaction Force (MRF), the British Army's covert counter-insurgency unit. Hook steps outside the pub just before an enormous explosion destroys the building, killing or injuring many of those inside, including the young boy who brought him there. Hook flees once more into the dark streets. Unaware that the Loyalist bombers have blown themselves up accidentally, the PIRA and Official Irish Republican Army (OIRA) factions accuse each other of being responsible for the bombing.\\nTwo Catholics, Eamon and his daughter Brigid, discover Hook as he lies in a street unconscious and injured by shrapnel. They take him to their home in the Divis Flats area before discovering he is a British soldier. Eamon, a former army medic, stitches Hook's wounds.\\nDespite the PIRA's having recently taken control of the area from the OIRA, Eamon contacts senior OIRA official Boyle for help, expecting a more humane solution than the PIRA faction would allow. Boyle, less radical and violent than the younger PIRA members, has a working relationship with the MRF and tells MRF Captain Browning, leader of the local MRF section, of Hook's whereabouts and asks in return that Browning kill James Quinn, a key leader of the PIRA faction, who wanted Boyle dead after clashing with him over responsibility for the pub explosion.\\nQuinn and his PIRA squad have been tailing Boyle since the pub explosion and saw him visit Eamon's flat without knowing why he was there. Sensing danger, Hook flees the flat, taking an assault knife he finds in a bag. He eludes the PIRA men but, unable to evade Haggerty, Hook stabs and kills him.\\nQuinn's group captures Hook and takes him to a hideout. Quinn orders Sean, a young inexperienced teenager who in the early neighborhood persecution had hesitated killing Hook, to murder him. When Sean hesitates, Quinn prepares to execute Hook, only to leave when Browning's group arrives. Sergeant Lewis of Browning's group shoots Sean, to Hook's horror. Lewis then attempts to strangle Hook to prevent him from informing others about the bomb.\\nAs Lieutenant Armitage and his men enter in support of Browning, Armitage sees Lewis' attempt to kill Hook. Sean raises himself and shoots Lewis dead before being shot again, this time by Armitage. Browning finds Quinn, and rather than arresting him, tells him Boyle wants him dead, then lets him go. As Quinn leaves, Browning tells him he will be in touch soon, and he expects him to be helpful.\\nHook is returned to his barracks. Later, despite a formal complaint by Armitage, the commanding officer dismisses the incident involving Hook, Lewis, and Sean as a confused situation that merits no further inquiry. Hook returns to England and reunites with Darren.|\n",
      "|tt0032176|'Til We Meet Again |Total strangers Dan Hardesty (George Brent) and Joan Ames (Merle Oberon) meet by chance in a bar in Hong Kong. They share a single drink before leaving, called by Dan the \"Paradise Cocktail\". They romantically shatter their glasses, which Dan tells Joan is a tradition connected with the drink, along with leaving the broken stems crossed. Outside, after Joan has left, Dan is handcuffed by Lieutenant Steve Burke of the San Francisco police (Pat O'Brien). Burke has spent a year chasing the convicted murderer around the world.\\nBy chance, Burke takes Dan aboard the same ocean liner to San Francisco that Joan is taking. Once they are underway, Steve allows Dan the freedom of the ship. Dan and Joan fall in love, but they are both facing death. Dan has been sentenced to be hanged and Joan has only weeks or at best months to live, due to a weak heart.\\nAlso aboard are two of Dan's crooked friends, \"la Comtesse de Bresac\" (Binnie Barnes) and Rockingham T. Rockingham (Frank McHugh, reprising essentially the same role he played in the earlier One Way Passage). They help plan Dan's escape at Honolulu, the only stop along the way. La Comtesse, actually a con artist trained by Dan and in love with him herself, is assigned to keep Steve occupied. A romance develops between the mismatched pair.\\nJust before they reach Honolulu, Steve has Dan put in the ship's brig. However, la Comtesse slips Steve some sleeping pills and gets the key. Dan makes his break, but is spotted by Joan. He agrees to postpone his \"business\" and go with her on a mountain outing as they had planned. They spend a blissful few hours together. On the way back, Dan stops and gets out of the rented car before they reach the pier, as they hear the signal to board the ship. This sudden and unexplained act agitates Joan so much that she collapses. Dan carries her back aboard ship, much to the dismay of his friends.\\nThe ship's doctor tells Dan about Joan's bleak prognosis. Later, when they reach San Francisco, a newspaper reporter informs Joan of Dan's fate. She rushes to see him one last time. They bid each other goodbye, promising to reunite at a bar in Mexico City on New Year's Eve, each knowing they will both be unable to keep the appointment.\\nAt midnight on New Year's Eve, the bartenders at the rendezvous are surprised when two glasses break of their own accord and the stems are crossed.                                                                                                                                                                                                                                                                                                                                                                                                                                                                                                                                                                                                                                                                                                                                                                                                                                                                                                                                                                                                                                                                                                                                                                                                                                                                                                                                                                                                                                                                                                                                                                                                                                                                                                                                                                                                                                                                                                                                         |\n",
      "|tt0066730|10 Rillington Place|The film begins in 1944 with John Christie murdering his neighbour Muriel Eady: he lures her to his flat in 10 Rillington Place by promising to cure her bronchitis with a \"special mixture\", then incapacitates her with Town Gas, strangles her with a piece of rope, and has (implied) sex with her corpse. He buries her in his flat block's communal garden, where a dog uncovers one of his previous victims.\\nIn 1949, Tim and Beryl Evans move into 10 Rillington Place, west London, with their infant daughter Geraldine. Beryl is pregnant again and attempts an abortion by taking some pills. When she informs Tim, they have a violent argument, which Christie breaks up. Soon after, Christie offers to help Beryl terminate the pregnancy. He pretends to read a medical textbook one day in an effort to convince Tim of his expertise. Tim is essentially illiterate and cannot tell that Christie is lying. The Evanses agree to let Christie perform the procedure.\\nChristie occupies his wife, Ethel, by sending her to his office with some paperwork. He grabs his killing tools, makes a cup of tea, and hurries upstairs to Beryl. He is interrupted by a team of builders who are there to renovate the outbuilding. He lets them in, and when he sees they are well-occupied, he pours a new cup of tea and heads back upstairs. Beryl has a violent reaction to the gas, and Christie punches her in the face to knock her out. He then strangles and sexually assaults her.\\nWhen Tim returns, Christie tells him that Beryl died of complications from the procedure. Tim wants to go to the police, but Christie convinces him that he will be seen as an accessory before the fact. Christie suggests that Tim leave town that night, while Christie disposes of Beryl's body. He promises that he will place the baby in the care of a childless couple from East Acton. Tim reluctantly agrees, and leaves the house in the middle of the night. Christie then strangles Geraldine with a necktie.\\nTim hides out with his aunt and uncle in Merthyr Tydfil, pretending that he is in town on business. He claims that Beryl and the baby are visiting her family in Brighton. Tim's relatives send a letter to Beryl's father, who telegraphs in response to say that he has not seen Beryl in months. When confronted by his relatives, Tim admits what (he believes) happened, and he visits the local police. He confesses to disposing of Beryl's body in the sewer after the botched abortion. Three London police officers lift the manhole, but do not find Beryl's body. A search of 10 Rillington Place eventually uncovers the bodies of Beryl and the baby in the bathroom, where Christie hid them.\\nWhen Tim is brought back to London, he is charged with the murders of his wife and daughter. In shock, and despondent over the news, he confesses to both crimes, though he is guilty of neither. During his trial, Christie is a key witness. Tim's defence shreds Christie's credibility by revealing that he has a history of theft and violence. Nevertheless, Tim is found guilty and hanged.\\nTwo years after the trial, Ethel begins to fear her husband, and informs Christie she will move out to stay with relatives. When he begs her not to leave him, Ethel implies that he should be in prison. Christie murders her that night and hides her body under the floorboards. Later, he meets a woman suffering from a migraine in a restaurant. He pretends to be a medical expert and promises her a cure. He is next seen putting fresh wallpaper on a wall in his living room; it is implied that he has hidden the woman's body in the space behind the wall.\\nIn 1953, Christie is living in a hostel. Meanwhile, new tenants are moving into the Christie's flat. They complain about the awful smell, and one of them peels off the wallpaper to find a space behind the wall, where they find three of Christie's victims. Soon after, Christie is noticed by a police officer in Putney and arrested. The film ends with an intertitle explaining that Christie was hanged and Tim was posthumously pardoned and reinterred in consecrated ground.                                                                                                                                                                                             |\n",
      "|tt3995348|100 Days of Love   |Balan K. Nair (Dulquer Salman), who calls himself BKN, is a reporter in a famous daily based in Bangalore. After insulting his ex girlfriend on Facebook in a drunken state, Balan feels like his life is not in sync. He is the \"loser\" of his family, since his brother Rocky K. Nair; (also played by Dulquer Salman) is a successful doctor. He left his parents' house to become a columnist. He lives with his close aid Ummar (Sekhar Menon), who is a foodie and an avid computer gamer. One day, Balan meets Sheela (Nithya Menon) when they both get into a taxi at the same time. Balan sees her and instantly falls in love. As the taxi drives away, Balan sees Sheela's bag lying on the floor. Inside the bag, there is an old camera with photos of certain places and certain people in Bangalore. Balan and Ummer use the pictures as clues to try to find Sheela.\\nJust as Balan begins to lose hope, he meets Sheela at a hospital by chance, where Sheela reveals that she already knows Balan. Apparently, Balan was her bully back when they were in school, and she was also the reason that the whole school ended up hating him and calling him a Loser. He immediately tries to avoid Sheela in the future. However, she keeps meeting him and poses as his girlfriend in his ex-girlfriend's marriage.Due to this, he is avoided from an embarrassing situation and doesn't lose face in front of his elder brother and his ex-girl friend. He realizes that she is good-natured and falls in love with her again. He talks to her and gets to know her further. She is enjoying life after her studies. Balan helps Sheela to take all the photos of places where her parents fell in love. For the last photo they need to find the old scooter. Balan finds the scooter and they take all the photos and Balan drops Sheela and takes the camera from her and tells her he will edit and give. That night Balan sees Rahul (Rahul Madhav) proposing to Sheela. Balan feels upset and lost. He tries to talk to Rahul, but Rahul ends up being extremely possessive and haughty. Balan tries to win Sheela back, but she says she believes in arranged marriages and does not care about love.\\nAt the same time, Ummer tells Balan that he must go to the U.S to work with his dad. Balan's life spirals out of control. He begins to drink excessively, and Sheela becomes worried for Balan. On Sheela's parents' 25th anniversary, Balan forgets to bring the photos as this is the gift Sheela was planning to give her parents. Balan reaches on time but Sheela still shouts at him. When the presentation is displayed she realizes that she was included in all the photos along with her parents, which comes as a surprise for her.Later she regrets scolding Balan and goes to apologize a drunken Balan. He tells that it is easy for him to become like Rahul, however he plans to stay \"original'.He also tells Sheela that he will come the next morning with the scooter if she was ready to come with him. Next day, Balan plans to go and tells Ummar to give the scooter back but he forgets about what he told the previous night. An excited Sheela comes running out hearing the sound of the scooter expecting Balan but she is disappointed to see only Ummar. They both have a conversation and they head to the railway station where Sheela confesses her love for Balan, and they both live happily ever after.                                                                                                                                                                                                                                                                                                                                                                                                                                                                                                                                                                                                                                                                                                                                                                                                                                                                                                                                               |\n",
      "+---------+-------------------+-------------------------------------------------------------------------------------------------------------------------------------------------------------------------------------------------------------------------------------------------------------------------------------------------------------------------------------------------------------------------------------------------------------------------------------------------------------------------------------------------------------------------------------------------------------------------------------------------------------------------------------------------------------------------------------------------------------------------------------------------------------------------------------------------------------------------------------------------------------------------------------------------------------------------------------------------------------------------------------------------------------------------------------------------------------------------------------------------------------------------------------------------------------------------------------------------------------------------------------------------------------------------------------------------------------------------------------------------------------------------------------------------------------------------------------------------------------------------------------------------------------------------------------------------------------------------------------------------------------------------------------------------------------------------------------------------------------------------------------------------------------------------------------------------------------------------------------------------------------------------------------------------------------------------------------------------------------------------------------------------------------------------------------------------------------------------------------------------------------------------------------------------------------------------------------------------------------------------------------------------------------------------------------------------------------------------------------------------------------------------------------------------------------------------------------------------------------------------------------------------------------------------------------------------------------------------------------------------------------------------------------------------------------------------------------------------------------------------------------------------------------------------------------------------------------------------------------------------------------------------------------------------------------------------------------------------------------------------------------------------------------------------------------------------------------------------------------------------------------------------------------------------------------------------------------------------------------------------------------------------------------------------------------------------------------------------------------------------------------------------------------------------------------------------------------------------------------------------------------------------------------------------------------------------------------------------------------------------------------------------------------------------------------------------------------------------------------------------------------------------------------------------------------------------------------------------------------------------------------------------------------------------------------------------------------------------------------------------------------------------------------------------------------------------------------------------------------------------------------------------------------------------------------------------------------------------------------------------------------------------------------------------------------------------------------------------------------------------------------------------------------------------------------------------+\n",
      "only showing top 5 rows\n",
      "\n"
     ]
    },
    {
     "name": "stderr",
     "output_type": "stream",
     "text": [
      "                                                                                \r"
     ]
    }
   ],
   "source": [
    "# join the imdb with the plot dataset by matching movie titles and release year\n",
    "imdb_join_plot = imdb.join(plot, [imdb.primaryTitle == plot.Title, imdb.Year == plot.Year], 'inner')\\\n",
    "  .withColumnRenamed('tconst', 'id')\\\n",
    "    .select('id', 'Title', 'Plot')\n",
    "\n",
    "print(\"The joined dataset has \", imdb_join_plot.count(), \" entries\")\n",
    "\n",
    "# inspect the joined dataset\n",
    "imdb_join_plot.show(5, truncate=False)"
   ]
  },
  {
   "cell_type": "code",
   "execution_count": 8,
   "metadata": {},
   "outputs": [
    {
     "name": "stderr",
     "output_type": "stream",
     "text": [
      "                                                                                \r"
     ]
    },
    {
     "name": "stdout",
     "output_type": "stream",
     "text": [
      "after merging & cleaning, there is a total of  28277  movie plot entries left in the merged dataset\n"
     ]
    },
    {
     "name": "stderr",
     "output_type": "stream",
     "text": [
      "[Stage 47:>                                                         (0 + 1) / 1]\r"
     ]
    },
    {
     "name": "stdout",
     "output_type": "stream",
     "text": [
      "+---------+------------------+-------------------------------------------------------------------------------------------------------------------------------------------------------------------------------------------------------------------------------------------------------------------------------------------------------------------------------------------------------------------------------------------------------------------------------------------------------------------------------------------------------------------------------------------------------------------------------------------------------------------------------------------------------------------------------------------------------------------------------------------------------------------------------------------------------------------------------------------------------------------------------------------------------------------------------------------------------------------------------------------------------------------------------------------------------------------------------------------------------------------------------------------------------------------------------------------------------------------------------------------------------------------------------------------------------------------------------------------------------------------------------------------------------------------------------------------------------------------------------------------------------------------------------------------------------------------------------------------------------------------------------------------------------------------------------------------------------------------------------------------------------------------------------------------------------------------------------------------------------------------------------------------------------------------------------------------------------------------------------------------------------------------------------------------------------------------------------------------------------------------------------------------------------------------------------------------------------------------------------------------------------------------------------------------------------------------------------------------------------------------------------------------------------------------------------------------------------------------------------------------------------------------------------------------------------------------------------------------------------------------------------------------------------------------------------------------------------------------------------------------------------------------------------------------------------------------------------------------------------------------------------------------------------------------------------------------------------------------------------------------------------------------------------------------------------------------------------------------------------------------------------------------------------------------------------------------------------------------------------------------------------------------------------------------------------------------------------------------------------------------------------------------------------------------------------------------------------------------------------------------------------------------------------------------------------------------------------------------------------------------------------------------------------------------------------------------------------------------------------------------------------------------------------------------------------------------------------------------------------------------------------------------------------------------------------------------------------------------------------------------------------------------------------------------------------------------------------------------------------------------------------------------------------------------------------------------------------------------------------------------------------------------------------------------------------------------------------------------------------------------------------------------------------------------------+\n",
      "|id       |Title             |Plot                                                                                                                                                                                                                                                                                                                                                                                                                                                                                                                                                                                                                                                                                                                                                                                                                                                                                                                                                                                                                                                                                                                                                                                                                                                                                                                                                                                                                                                                                                                                                                                                                                                                                                                                                                                                                                                                                                                                                                                                                                                                                                                                                                                                                                                                                                                                                                                                                                                                                                                                                                                                                                                                                                                                                                                                                                                                                                                                                                                                                                                                                                                                                                                                                                                                                                                                                                                                                                                                                                                                                                                                                                                                                                                                                                                                                                                                                                                                                                                                                                                                                                                                                                                                                                                                                                                                                                                                                     |\n",
      "+---------+------------------+-------------------------------------------------------------------------------------------------------------------------------------------------------------------------------------------------------------------------------------------------------------------------------------------------------------------------------------------------------------------------------------------------------------------------------------------------------------------------------------------------------------------------------------------------------------------------------------------------------------------------------------------------------------------------------------------------------------------------------------------------------------------------------------------------------------------------------------------------------------------------------------------------------------------------------------------------------------------------------------------------------------------------------------------------------------------------------------------------------------------------------------------------------------------------------------------------------------------------------------------------------------------------------------------------------------------------------------------------------------------------------------------------------------------------------------------------------------------------------------------------------------------------------------------------------------------------------------------------------------------------------------------------------------------------------------------------------------------------------------------------------------------------------------------------------------------------------------------------------------------------------------------------------------------------------------------------------------------------------------------------------------------------------------------------------------------------------------------------------------------------------------------------------------------------------------------------------------------------------------------------------------------------------------------------------------------------------------------------------------------------------------------------------------------------------------------------------------------------------------------------------------------------------------------------------------------------------------------------------------------------------------------------------------------------------------------------------------------------------------------------------------------------------------------------------------------------------------------------------------------------------------------------------------------------------------------------------------------------------------------------------------------------------------------------------------------------------------------------------------------------------------------------------------------------------------------------------------------------------------------------------------------------------------------------------------------------------------------------------------------------------------------------------------------------------------------------------------------------------------------------------------------------------------------------------------------------------------------------------------------------------------------------------------------------------------------------------------------------------------------------------------------------------------------------------------------------------------------------------------------------------------------------------------------------------------------------------------------------------------------------------------------------------------------------------------------------------------------------------------------------------------------------------------------------------------------------------------------------------------------------------------------------------------------------------------------------------------------------------------------------------------------------------------------------+\n",
      "|tt0790799|$9.99             |The film mainly focuses on 28-year-old Dave Peck, who is unemployed but prefers the search for the meaning of life to the search for gainful employment. While looking in a magazine, Dave finds an advertisement for a book that will tell him the meaning of life \"for the low price of $9.99.\" Dave, fascinated by this, begins his journey in his Sydney apartment to find the true meaning of life.\\nAs the film progresses, stories of Dave's family and neighbours are woven in and examine the post-modern meaning of hope.                                                                                                                                                                                                                                                                                                                                                                                                                                                                                                                                                                                                                                                                                                                                                                                                                                                                                                                                                                                                                                                                                                                                                                                                                                                                                                                                                                                                                                                                                                                                                                                                                                                                                                                                                                                                                                                                                                                                                                                                                                                                                                                                                                                                                                                                                                                                                                                                                                                                                                                                                                                                                                                                                                                                                                                                                                                                                                                                                                                                                                                                                                                                                                                                                                                                                                                                                                                                                                                                                                                                                                                                                                                                                                                                                                                                                                                                                      |\n",
      "|tt2614684|'71               |Gary Hook, a new recruit to the British Army, takes leave of his much younger brother Darren. Hook's platoon is sent to Belfast in 1971 in the early years of the Troubles. Under the leadership of the inexperienced Second Lieutenant Armitage, his platoon is deployed to a volatile area where Catholic Republicans and Protestant Loyalists live side by side. The unit provides support for the Royal Ulster Constabulary as it inspects homes for firearms, shocking Hook with their rough treatment of women and children. A crowd gathers to protest and provoke the British troops who, though heavily armed, can only respond by trying to hold the crowd back.\\nOne soldier is hit by a rock and drops his rifle to the ground. In the confusion, a young boy seizes it and runs off through the mob. Hook and another soldier, Thompson, pursue him. As the crowd's protest violently escalates, the soldiers and police pull out, leaving the two soldiers behind. Hook and Thompson are severely beaten by a mob, until a sympathetic woman manages to calm things down. However, Thompson is suddenly shot dead at point-blank range by the Provisional Irish Republican Army (PIRA) gunman Paul Haggerty. With the crowd physically attacking him, Hook flees through streets and back alleys, eludes his pursuers, and hides in an outhouse until dark.\\nA Protestant youngster brings Hook to a local pub that serves as a front for Loyalists. There, Hook glimpses a Loyalist group in a back room, constructing a bomb under the guidance of a member of the Military Reaction Force (MRF), the British Army's covert counter-insurgency unit. Hook steps outside the pub just before an enormous explosion destroys the building, killing or injuring many of those inside, including the young boy who brought him there. Hook flees once more into the dark streets. Unaware that the Loyalist bombers have blown themselves up accidentally, the PIRA and Official Irish Republican Army (OIRA) factions accuse each other of being responsible for the bombing.\\nTwo Catholics, Eamon and his daughter Brigid, discover Hook as he lies in a street unconscious and injured by shrapnel. They take him to their home in the Divis Flats area before discovering he is a British soldier. Eamon, a former army medic, stitches Hook's wounds.\\nDespite the PIRA's having recently taken control of the area from the OIRA, Eamon contacts senior OIRA official Boyle for help, expecting a more humane solution than the PIRA faction would allow. Boyle, less radical and violent than the younger PIRA members, has a working relationship with the MRF and tells MRF Captain Browning, leader of the local MRF section, of Hook's whereabouts and asks in return that Browning kill James Quinn, a key leader of the PIRA faction, who wanted Boyle dead after clashing with him over responsibility for the pub explosion.\\nQuinn and his PIRA squad have been tailing Boyle since the pub explosion and saw him visit Eamon's flat without knowing why he was there. Sensing danger, Hook flees the flat, taking an assault knife he finds in a bag. He eludes the PIRA men but, unable to evade Haggerty, Hook stabs and kills him.\\nQuinn's group captures Hook and takes him to a hideout. Quinn orders Sean, a young inexperienced teenager who in the early neighborhood persecution had hesitated killing Hook, to murder him. When Sean hesitates, Quinn prepares to execute Hook, only to leave when Browning's group arrives. Sergeant Lewis of Browning's group shoots Sean, to Hook's horror. Lewis then attempts to strangle Hook to prevent him from informing others about the bomb.\\nAs Lieutenant Armitage and his men enter in support of Browning, Armitage sees Lewis' attempt to kill Hook. Sean raises himself and shoots Lewis dead before being shot again, this time by Armitage. Browning finds Quinn, and rather than arresting him, tells him Boyle wants him dead, then lets him go. As Quinn leaves, Browning tells him he will be in touch soon, and he expects him to be helpful.\\nHook is returned to his barracks. Later, despite a formal complaint by Armitage, the commanding officer dismisses the incident involving Hook, Lewis, and Sean as a confused situation that merits no further inquiry. Hook returns to England and reunites with Darren.|\n",
      "|tt0032176|'Til We Meet Again|Total strangers Dan Hardesty (George Brent) and Joan Ames (Merle Oberon) meet by chance in a bar in Hong Kong. They share a single drink before leaving, called by Dan the \"Paradise Cocktail\". They romantically shatter their glasses, which Dan tells Joan is a tradition connected with the drink, along with leaving the broken stems crossed. Outside, after Joan has left, Dan is handcuffed by Lieutenant Steve Burke of the San Francisco police (Pat O'Brien). Burke has spent a year chasing the convicted murderer around the world.\\nBy chance, Burke takes Dan aboard the same ocean liner to San Francisco that Joan is taking. Once they are underway, Steve allows Dan the freedom of the ship. Dan and Joan fall in love, but they are both facing death. Dan has been sentenced to be hanged and Joan has only weeks or at best months to live, due to a weak heart.\\nAlso aboard are two of Dan's crooked friends, \"la Comtesse de Bresac\" (Binnie Barnes) and Rockingham T. Rockingham (Frank McHugh, reprising essentially the same role he played in the earlier One Way Passage). They help plan Dan's escape at Honolulu, the only stop along the way. La Comtesse, actually a con artist trained by Dan and in love with him herself, is assigned to keep Steve occupied. A romance develops between the mismatched pair.\\nJust before they reach Honolulu, Steve has Dan put in the ship's brig. However, la Comtesse slips Steve some sleeping pills and gets the key. Dan makes his break, but is spotted by Joan. He agrees to postpone his \"business\" and go with her on a mountain outing as they had planned. They spend a blissful few hours together. On the way back, Dan stops and gets out of the rented car before they reach the pier, as they hear the signal to board the ship. This sudden and unexplained act agitates Joan so much that she collapses. Dan carries her back aboard ship, much to the dismay of his friends.\\nThe ship's doctor tells Dan about Joan's bleak prognosis. Later, when they reach San Francisco, a newspaper reporter informs Joan of Dan's fate. She rushes to see him one last time. They bid each other goodbye, promising to reunite at a bar in Mexico City on New Year's Eve, each knowing they will both be unable to keep the appointment.\\nAt midnight on New Year's Eve, the bartenders at the rendezvous are surprised when two glasses break of their own accord and the stems are crossed.                                                                                                                                                                                                                                                                                                                                                                                                                                                                                                                                                                                                                                                                                                                                                                                                                                                                                                                                                                                                                                                                                                                                                                                                                                                                                                                                                                                                                                                                                                                                                                                                                                                                                                                                                                                                                                                                                                                                         |\n",
      "+---------+------------------+-------------------------------------------------------------------------------------------------------------------------------------------------------------------------------------------------------------------------------------------------------------------------------------------------------------------------------------------------------------------------------------------------------------------------------------------------------------------------------------------------------------------------------------------------------------------------------------------------------------------------------------------------------------------------------------------------------------------------------------------------------------------------------------------------------------------------------------------------------------------------------------------------------------------------------------------------------------------------------------------------------------------------------------------------------------------------------------------------------------------------------------------------------------------------------------------------------------------------------------------------------------------------------------------------------------------------------------------------------------------------------------------------------------------------------------------------------------------------------------------------------------------------------------------------------------------------------------------------------------------------------------------------------------------------------------------------------------------------------------------------------------------------------------------------------------------------------------------------------------------------------------------------------------------------------------------------------------------------------------------------------------------------------------------------------------------------------------------------------------------------------------------------------------------------------------------------------------------------------------------------------------------------------------------------------------------------------------------------------------------------------------------------------------------------------------------------------------------------------------------------------------------------------------------------------------------------------------------------------------------------------------------------------------------------------------------------------------------------------------------------------------------------------------------------------------------------------------------------------------------------------------------------------------------------------------------------------------------------------------------------------------------------------------------------------------------------------------------------------------------------------------------------------------------------------------------------------------------------------------------------------------------------------------------------------------------------------------------------------------------------------------------------------------------------------------------------------------------------------------------------------------------------------------------------------------------------------------------------------------------------------------------------------------------------------------------------------------------------------------------------------------------------------------------------------------------------------------------------------------------------------------------------------------------------------------------------------------------------------------------------------------------------------------------------------------------------------------------------------------------------------------------------------------------------------------------------------------------------------------------------------------------------------------------------------------------------------------------------------------------------------------------------------------------------+\n",
      "only showing top 3 rows\n",
      "\n"
     ]
    },
    {
     "name": "stderr",
     "output_type": "stream",
     "text": [
      "                                                                                \r"
     ]
    }
   ],
   "source": [
    "# drop primaryTitle and movie_id because they provide redundant information \n",
    "df = imdb_join_plot.union(imdb_join_details)\n",
    "\n",
    "print('after merging & cleaning, there is a total of ', df.count(), ' movie plot entries left in the merged dataset')\n",
    "\n",
    "# inspect the combined new dataset\n",
    "df.show(3, truncate = False)"
   ]
  },
  {
   "cell_type": "markdown",
   "metadata": {},
   "source": [
    "## Trainning Model"
   ]
  },
  {
   "cell_type": "code",
   "execution_count": 9,
   "metadata": {},
   "outputs": [
    {
     "name": "stderr",
     "output_type": "stream",
     "text": [
      "[Stage 53:>                                                         (0 + 1) / 1]\r"
     ]
    },
    {
     "name": "stdout",
     "output_type": "stream",
     "text": [
      "+---------+------------------+--------------------+--------------------+--------------------+--------------------+\n",
      "|       id|             Title|                Plot|           inputText|              tokens|   tokens_sw_removed|\n",
      "+---------+------------------+--------------------+--------------------+--------------------+--------------------+\n",
      "|tt0790799|             $9.99|The film mainly f...|The film mainly f...|[the, film, mainl...|[film, mainly, fo...|\n",
      "|tt2614684|               '71|Gary Hook, a new ...|Gary Hook, a new ...|[gary, hook, a, n...|[gary, hook, new,...|\n",
      "|tt0032176|'Til We Meet Again|Total strangers D...|Total strangers D...|[total, strangers...|[total, strangers...|\n",
      "+---------+------------------+--------------------+--------------------+--------------------+--------------------+\n",
      "only showing top 3 rows\n",
      "\n"
     ]
    },
    {
     "name": "stderr",
     "output_type": "stream",
     "text": [
      "                                                                                \r"
     ]
    }
   ],
   "source": [
    "# tokenize and remove stop words in this cell\n",
    "from pyspark.ml.feature import RegexTokenizer, StopWordsRemover, Word2Vec\n",
    "\n",
    "# create a new field by copying Plot\n",
    "df = df.withColumn('inputText', F.col('Plot')) \n",
    "\n",
    "# regular expression tokenizer to tokenize inputText into individual tokens (words)\n",
    "regextok = RegexTokenizer(gaps = False, pattern = '\\w+', inputCol = 'inputText', outputCol = 'tokens')\n",
    "\n",
    "# StopWordsRemover to remove stopwords in the list of tokens\n",
    "stopwrmv = StopWordsRemover(inputCol = 'tokens', outputCol = 'tokens_sw_removed')\n",
    "df = regextok.transform(df)\n",
    "df = stopwrmv.transform(df)\n",
    "df.show(3)"
   ]
  },
  {
   "cell_type": "code",
   "execution_count": 10,
   "metadata": {},
   "outputs": [
    {
     "name": "stderr",
     "output_type": "stream",
     "text": [
      "23/08/03 19:04:10 WARN InstanceBuilder: Failed to load implementation from:dev.ludovic.netlib.blas.JNIBLAS\n",
      "                                                                                \r"
     ]
    }
   ],
   "source": [
    "# train word2vec model, the parameters here can be changed to optimize the model\n",
    "word2vec = Word2Vec(vectorSize = 100, minCount = 5, inputCol = 'tokens_sw_removed', outputCol = 'wordvectors')\n",
    "model = word2vec.fit(df)"
   ]
  },
  {
   "cell_type": "code",
   "execution_count": 11,
   "metadata": {},
   "outputs": [
    {
     "name": "stderr",
     "output_type": "stream",
     "text": [
      "                                                                                \r"
     ]
    }
   ],
   "source": [
    "# using transform to add wordvectors column to dataframe\n",
    "df = model.transform(df)\n",
    "chunks = df.select('id', 'Title','wordvectors', 'Plot').limit(30000).collect()"
   ]
  },
  {
   "cell_type": "code",
   "execution_count": 26,
   "metadata": {},
   "outputs": [],
   "source": [
    "# experiemnt new query with different Movie's plot, worked very well! \n",
    "\n",
    "# Interstellar_plot = \"\"\"In the mid-21st century, crop blights and dust storms threaten humanity's survival. Joseph Cooper, a widowed engineer and former NASA pilot, runs a farm with his father-in-law Donald, son Tom, and daughter Murphy. Living in a post-truth society, Cooper is reprimanded for telling Murphy that the Apollo missions were not fake; he encourages her to carefully observe and record what she sees. They discover that dust patterns, which Murphy first attributes to a ghost, result from gravity variations, and translate into geographic coordinates. These lead them to a secret NASA facility headed by Cooper's former supervisor, Professor John Brand, who explains that 48 years earlier a wormhole appeared near Saturn, opening a path to a distant galaxy with twelve potentially habitable planets located near a black hole named Gargantua. Volunteers had previously traveled through the wormhole to evaluate the planets, with Miller, Edmunds, and Mann reporting back desirable results. Brand explains he has conceived two plans to ensure humanity’s survival - Plan A involves developing a gravitational propulsion theory, allowing a mass exodus from Earth, while Plan B is a conventional launch of the Endurance spacecraft with 5,000 frozen embryos to colonize a habitable planet. Cooper is recruited to pilot the Endurance. When Murphy refuses to see him off, he leaves her his wristwatch to compare their relative time when he returns.\n",
    "# The crew consists of Cooper, the robots TARS and CASE, and the scientists Dr. Amelia Brand, (Professor Brand's daughter), Romilly, and Doyle. After traversing the wormhole, Cooper, Doyle, and Brand use a lander to investigate Miller's planet, where time is severely dilated. After landing in knee-high water and finding only wreckage from Miller's expedition, a gigantic tidal wave kills Doyle and waterlogs the lander's engines. By the time the engines restart, 23 years have elapsed in terms of Earth time.\n",
    "# Having enough fuel for only one of the other two planets, Cooper rules they go to Mann's, as he is still broadcasting. En route, they receive messages from Earth. Murphy Cooper is now a scientist working on Plan A. On his deathbed, Professor Brand reveals to her that Plan B was his only real plan, knowing that Plan A required observations of gravitational singularities from within a black hole.\n",
    "# On Mann's planet, the Endurance crew revive Mann from cryostasis. He assures them colonization is possible, despite an extreme environment. On an excursion, Mann attempts to kill Cooper and reveals that he falsified the data in the hope of being rescued. He steals Cooper's lander and heads for the Endurance. While a booby trap set by Mann kills Romilly, Brand rescues Cooper with the other lander and they race to the Endurance. Mann is killed in a failed manual docking operation, severely damaging the Endurance. Through a difficult docking maneuver, Cooper regains control.\n",
    "# With insufficient fuel, they resort to a slingshot around Gargantua which costs them another 51 years. In the process, Cooper and TARS must jettison their landers to allow Brand and CASE to reach Edmunds' planet. Slipping past the event horizon of Gargantua, they eject from their craft and find themselves in a tesseract, possibly constructed by humans of the far future. Across time, Cooper can see through the bookcases of Murphy's old room on Earth and weakly interact with its gravity. Realizing that he is now Murphy's \"\"ghost\"\", he manipulates the second hand of the wristwatch he gave her before he left, transmitting via Morse code the quantum data that TARS collected from inside the event horizon.\n",
    "# The tesseract, its purpose completed, collapses and ejects Cooper and TARS. Cooper wakes on a huge station, orbiting Saturn. He reunites with Murphy, now an old woman nearing death. Using the quantum data, she was able to develop the gravitational propulsion theory, enabling humanity’s exodus and transformation into an advanced spacefaring civilization. She reminds Cooper that Amelia Brand is out there alone. Cooper and TARS take a spacecraft to rejoin Brand and CASE, who are setting up a human colony on Edmunds' habitable planet.\"\"\"\n",
    "# \n",
    "# Titanic_plot = \"In 1996, treasure hunter Brock Lovett and his team aboard the research vessel Akademik Mstislav Keldysh search the wreck of RMS Titanic for a necklace with a rare diamond, the Heart of the Ocean. They recover a safe containing a drawing of a young woman wearing only the necklace dated April 14, 1912, the day the ship struck the iceberg.[Note 1] Rose Dawson Calvert, the woman in the drawing, is brought aboard Keldysh and tells Lovett of her experiences aboard Titanic.\\nIn 1912 Southampton, 17-year-old first-class passenger Rose DeWitt Bukater, her fiancé Cal Hockley, and her mother Ruth board the luxurious Titanic. Ruth emphasizes that Rose's marriage will resolve their family's financial problems and retain their high-class persona. Distraught over the engagement, Rose considers suicide by jumping from the stern; Jack Dawson, a penniless artist, intervenes and discourages her. Discovered with Jack, Rose tells a concerned Cal that she was peering over the edge and Jack saved her from falling. When Cal becomes indifferent, she suggests to him that Jack deserves a reward. He invites Jack to dine with them in first class the following night. Jack and Rose develop a tentative friendship, despite Cal and Ruth being wary of him. Following dinner, Rose secretly joins Jack at a party in third class.\\nAware of Cal and Ruth's disapproval, Rose rebuffs Jack's advances, but realizes she prefers him over Cal. After rendezvousing on the bow at sunset, Rose takes Jack to her state room; at her request, Jack sketches Rose posing nude wearing Cal's engagement present, the Heart of the Ocean necklace. They evade Cal's bodyguard, Mr. Lovejoy, and have sex in an automobile inside the cargo hold. On the forward deck, they witness a collision with an iceberg and overhear the officers and designer discussing its seriousness.\\nCal discovers Jack's sketch of Rose and an insulting note from her in his safe along with the necklace. When Jack and Rose attempt to inform Cal of the collision, Lovejoy slips the necklace into Jack's pocket and he and Cal accuse him of theft. Jack is arrested, taken to the master-at-arms' office, and handcuffed to a pipe. Cal puts the necklace in his own coat pocket.\\nWith the ship sinking, Rose flees Cal and her mother, who has boarded a lifeboat, and frees Jack. On the boat deck, Cal and Jack encourage her to board a lifeboat; Cal claims he can get himself and Jack off safely. After Rose boards one, Cal tells Jack the arrangement is only for himself. As her boat lowers, Rose decides that she cannot leave Jack and jumps back on board. Cal takes his bodyguard's pistol and chases Rose and Jack into the flooding first-class dining saloon. After using up his ammunition, Cal realizes he gave his coat and consequently the necklace to Rose. He later boards a collapsible lifeboat by carrying a lost child.\\nAfter braving several obstacles, Jack and Rose return to the boat deck. The lifeboats have departed and passengers are falling to their deaths as the stern rises out of the water. The ship breaks in half, lifting the stern into the air. Jack and Rose ride it into the ocean and he helps her onto a wooden panel buoyant enough for only one person. He assures her that she will die an old woman, warm in her bed. Jack dies of hypothermia[8] but Rose is saved.\\nWith Rose hiding from Cal en route, the RMS Carpathia takes the survivors to New York City where Rose gives her name as Rose Dawson. Rose says she later read that Cal committed suicide after losing all his money in the Wall Street Crash of 1929.\\nBack in the present, Lovett decides to abandon his search after hearing Rose's story. Alone on the stern of Keldysh, Rose takes out the Heart of the Ocean — in her possession all along — and drops it into the sea over the wreck site. While she is seemingly asleep or has died in her bed,[9] photos on her dresser depict a life of freedom and adventure inspired by the life she wanted to live with Jack. A young Rose reunites with Jack at the Titanic's Grand Staircase, applauded by those who died.                |In 1996, treasure hunter Brock Lovett and his team aboard the research vessel Akademik Mstislav Keldysh search the wreck of RMS Titanic for a necklace with a rare diamond, the Heart of the Ocean. They recover a safe containing a drawing of a young woman wearing only the necklace dated April 14, 1912, the day the ship struck the iceberg.[Note 1] Rose Dawson Calvert, the woman in the drawing, is brought aboard Keldysh and tells Lovett of her experiences aboard Titanic.\\nIn 1912 Southampton, 17-year-old first-class passenger Rose DeWitt Bukater, her fiancé Cal Hockley, and her mother Ruth board the luxurious Titanic. Ruth emphasizes that Rose's marriage will resolve their family's financial problems and retain their high-class persona. Distraught over the engagement, Rose considers suicide by jumping from the stern; Jack Dawson, a penniless artist, intervenes and discourages her. Discovered with Jack, Rose tells a concerned Cal that she was peering over the edge and Jack saved her from falling. When Cal becomes indifferent, she suggests to him that Jack deserves a reward. He invites Jack to dine with them in first class the following night. Jack and Rose develop a tentative friendship, despite Cal and Ruth being wary of him. Following dinner, Rose secretly joins Jack at a party in third class.\\nAware of Cal and Ruth's disapproval, Rose rebuffs Jack's advances, but realizes she prefers him over Cal. After rendezvousing on the bow at sunset, Rose takes Jack to her state room; at her request, Jack sketches Rose posing nude wearing Cal's engagement present, the Heart of the Ocean necklace. They evade Cal's bodyguard, Mr. Lovejoy, and have sex in an automobile inside the cargo hold. On the forward deck, they witness a collision with an iceberg and overhear the officers and designer discussing its seriousness.\\nCal discovers Jack's sketch of Rose and an insulting note from her in his safe along with the necklace. When Jack and Rose attempt to inform Cal of the collision, Lovejoy slips the necklace into Jack's pocket and he and Cal accuse him of theft. Jack is arrested, taken to the master-at-arms' office, and handcuffed to a pipe. Cal puts the necklace in his own coat pocket.\\nWith the ship sinking, Rose flees Cal and her mother, who has boarded a lifeboat, and frees Jack. On the boat deck, Cal and Jack encourage her to board a lifeboat; Cal claims he can get himself and Jack off safely. After Rose boards one, Cal tells Jack the arrangement is only for himself. As her boat lowers, Rose decides that she cannot leave Jack and jumps back on board. Cal takes his bodyguard's pistol and chases Rose and Jack into the flooding first-class dining saloon. After using up his ammunition, Cal realizes he gave his coat and consequently the necklace to Rose. He later boards a collapsible lifeboat by carrying a lost child.\\nAfter braving several obstacles, Jack and Rose return to the boat deck. The lifeboats have departed and passengers are falling to their deaths as the stern rises out of the water. The ship breaks in half, lifting the stern into the air. Jack and Rose ride it into the ocean and he helps her onto a wooden panel buoyant enough for only one person. He assures her that she will die an old woman, warm in her bed. Jack dies of hypothermia[8] but Rose is saved.\\nWith Rose hiding from Cal en route, the RMS Carpathia takes the survivors to New York City where Rose gives her name as Rose Dawson. Rose says she later read that Cal committed suicide after losing all his money in the Wall Street Crash of 1929.\\nBack in the present, Lovett decides to abandon his search after hearing Rose's story. Alone on the stern of Keldysh, Rose takes out the Heart of the Ocean — in her possession all along — and drops it into the sea over the wreck site. While she is seemingly asleep or has died in her bed,[9] photos on her dresser depict a life of freedom and adventure inspired by the life she wanted to live with Jack. A young Rose reunites with Jack at the Titanic's Grand Staircase, applauded by those who died.\"\n",
    "# \n",
    "# Furious7_plot = \"\"\"In the opening scene set in London, England, Deckard Shaw (Jason Statham) stands by his brother Owen's (Luke Evans) bedside as he lays in a coma, badly scarred and crippled after being ejected from the plane (in the last Fast and Furious film). Shaw promises to his brother that he will settle his score. He leaves the room and out into the rest of the hospital, with bodies everywhere. The building continues to burn and crumble around him.Meanwhile, Dom (Vin DIesel) drives Letty (Michelle Rodriguez) to a racetrack in the California desert where hundreds of people from their neighborhood gather for Race Wars, something that Dom and Letty invented when they were younger. Letty goes up for the race and flies past her opponent as his car breaks down on the track. All the patrons cheer her on after she crosses the finish line, followed by Iggy Azalea showing up out of nowhere to congratulate Letty. The excitement from the others is too overwhelming for Letty, and she takes the car and drives away. Dom later finds her that night at the cemetery, staring at her own tombstone. Dom takes a sledgehammer to smash it, but Letty stops him because she thinks the person she used to be is no longer who she is to Dom, and she doesn't want to hurt him for that. She bids Dom goodbye.Brian (Paul Walker) is adjusting to life as a minivan-driving dad, as his son Jack is now old enough for school. Even his wife Mia (Jordana Brewster), Dom's sister, acknowledges that he has had trouble settling down this way.That evening, Hobbs (Dwayne Johnson) continues to do some overnight work while Elena (Elsa Pataky) is getting ready to go out. Hobbs hands her a letter of recommendation that she asked him for. He wishes her luck in her pursuits. Hobbs then sees Shaw in his office hacking into his computer. Hobbs attempts to arrest him as he is gathering the information on the crew that took down his brother. Shaw battles Hobbs through the whole floor, smashing each other through glass walls and coffee tables, while Hobbs manages to get a good chokeslam down on Shaw. Elena returns for back-up as Shaw gets a grenade out. He tosses it towards the detectives, forcing Hobbs to run to Elena as the grenade explodes, sending them both out the window where they land Hobbs-first onto a van. Elena is unharmed. In the office, it is shown that Shaw was looking for Han (Sung Kang).Dom visits Mia at her home as Brian is getting Jack ready for school. Outside their house is a large package. Mia tells Dom that she is having another child, but she hasn't told Brian for fear of how he'd react to more changes. Dom gets a call from Shaw, listening to his message after killing Han (from the end of the previous film). Dom realizes there's trouble, and he grabs Mia as the package explodes massively, destroying the whole house. Jack is safe in the minivan, though his parents rush to him in a panic.Dom follows Elena to Hobbs' hospital room. He tells Dom who Shaw is, including his history in the Special Forces, where he was turned into a human killing machine. Hobbs asks Dom to promise him he will take Shaw down for good. Dom agrees. Meanwhile, Brian sends Mia and their son to hide out in the Dominican Republic until this thing with Shaw is taken care of. He promises to Mia that he will return as long as they are safe.Dom flies to Tokyo to bring Han back for a proper burial. He meets with Sean Boswell (Lucas Black), Han's friend (from the third film Fast and Furious 3: Toyko Drift). After the two have their race, Sean gives him the only things they could find from Han's car: a picture of Gisele and a cross necklace.Back in California, the gang gathers for Han's funeral, joined by Tej (Ludacris) and Roman (Tyrese Gibson). Dom spots a car suspiciously driving near the funeral. He follows after it, learning it is Shaw. They crash into each other in a tunnel, and they briefly fight until a team of agents come in, giving Shaw a chance to escape. Their leader, a shadowy agent known only as \"Mr. Nobody\" (Kurt Russell), brings Dom with him and gathers Brian, Tej, Roman, and finally Letty to work together on a mission. A hacker known only as Ramsey has been captured by a terrorist leader named Mose Jakande (Djimon Hounsou), because he is pursuing something Ramsey helped develop called God's Eye, which is a surveillance system that can spot anybody from anywhere in the world. Using this, Dom can locate Shaw. The guys come up with a plan to infiltrate the bus that is carrying Ramsey, while Dom asks Tej to help him put armor on one car.The plan involves the five dropping from a jet in their cars and carefully land close to their target. Roman gets cold feet, prompting Tej to pull the chute out on him and sucking him out of the plane. The other four land close to the bus and break in. Jakande's men shoot at the team. Brian hops on the bus and fights off the guards. He finds Ramsey... a young woman (Nathalie Emmanuel) in her cell and has her jump off the bus and onto the hood of Dom's car for safety. He then dukes it out with a minion named Kiet (Tony Jaa), who is a tough fighter. In the madness, the driver of the bus is accidentally shot. Kiet locks Brian on the bus as he gets out. The bus slides toward the edge of a cliff. Brian climbs out and manages to run off the bus and onto Letty's car as she arrives in time to grab him. Meanwhile, Dom and Ramsey encounter Shaw, leading them both through the woods. Roman appears and knocks Shaw off the road. However, Jakande and his team find Dom. Before they can get him, he drives his car off a cliff, yet he and Ramsey miraculously survive.The team revives Ramsey, who tells them that she gave God's Eye to a friend of hers in Abu Dhabi. They all travel there and meet this person, Safar (Ali Fazal), who says he sold God's Eye to a prince. The team goes undercover to a party that the prince is throwing. Dom and Brian find that God's Eye is in a car. Letty ends up fighting three guards and the prince's chief bodyguard Kara (Ronda Rousey). Kara alerts the guards that there are intruders, keeping Tej and Ramsey out of their systems. Dom and Brian drive the car out of there before the gates shut the place down. Shaw comes out and tries to shoot at Dom, until he drives out of the building and through the next one. Dom discovers that the breaks are out, forcing him and Brian to jump to the next building. The two jump out of the car and pull God's Eye out before the car slides out and crashes to the ground below.With God's Eye, the team learns that Shaw is hiding out in an abandoned factory outside the city. After tracking him there, they see that he has a lot of back-up from Jakande. The team evades gunfire, when Mr. Nobody gets shot in the chaos. Dom carries him out of there, and Jakande gets his hands on God's Eye. Mr. Nobody calls for medical assistance, and tells Dom that he will be leaving him from there.The team knows that it's time to end it with Shaw once and for all. They decide to take the fight back to the streets of their hometown in Los Angeles. Brian calls Mia to tell her he loves her in case he doesn't make it back. Mia tells him that they're having a little girl. Brian then promises to come back to her.Tej and Roman take Ramsey with them while they try and hack God's Eye to prevent Jakande from finding Ramsey. Dom finds Shaw and lures him to a parking lot where they have their final showdown. They have a street fight, dueling with wrenches and pipes. Meanwhile, Jakande, in an armored Stealth Black Hawk helicopter, sends a flying armored drone aircraft to find Ramsey. They end up shooting down an electrical tower, which catches Hobbs' attention after watching it on the news. He announces \"Daddy's gotta go to work\" and breaks off the cast on his arm, and then gears up.Ramsey gets switched under the bridge and goes with Lettty while Brian tries to find a new spot to hack God's Eye. He encounters Kiet again and kills him when he hooks him up to a weight and pushes him down an elevator shaft. The drone chases after Letty and Ramsey, nearly getting them until Hobbs rides in on an ambulance and destroys it by crashing into it with the ambulance off the freeway ramp. Hobbs exits the totaled ambulance, shaken but still alive.They succeed in the hack, and Jakande is furious. He and his men locate Dom and Shaw still fighting on the roof of the parking garage. They shoot a missile at the lot, causing the ground to break beneath Shaw's feet. Dom stomps on the concrete and drops Shaw through the lot. Jakande continues shooting at Dom as he drives away, but Hobbs shoots back. Dom grabs a bag of grenades and drives close enough to stick them onto Jakande's chopper. Hobbs shoots at the bag, destroying the chopper and Jakande. Dom crashes his car and is pulled out by Brian and Letty. Letty begs him to stay alive and says she remembers that they got married in the Dominican Republic. That's where he gave her the cross necklace that Han had. Dom awakens and kisses Letty.Shaw is locked up for good in a maximum security black site prison. He threatens to break out, though Hobbs doubts that it will ever happen.The team watches Brian and Mia play with Jack on the beach. They realize this is where he belongs, and they look at them lovingly. Dom gets up to leave. Ramsey asks if he's gonna say goodbye. Dom says, \"It's never goodbye.\" He drives away, only to get caught up with Brian on the road. They look at each other with a smile.We hear Dom's voice say that they both lived life at a quarter mile, and that's why they're brothers. This is cut between scenes of Brian through the whole series and everything he and Dom have been through. Dom says Brian will always be his brother. The two continue driving until they finally part ways at a fork in the road, with Brian driving into the sunset.The film closes with the text, \"For Paul\".\"\"\""
   ]
  },
  {
   "cell_type": "markdown",
   "metadata": {},
   "source": [
    "### Advanced movie recommender with Word Vector Arithmetic\n",
    "Here we can try to add or subtract elements from the movies that we like. For example, I love the movie Interstella and I love Zombies. So it'd be great if I can find a movie similar to the combination of Interstella and Resident Evil. To find such a movie, we will add the vector of zombie to the vector of the plot of Interstella. "
   ]
  },
  {
   "cell_type": "code",
   "execution_count": 64,
   "metadata": {},
   "outputs": [
    {
     "name": "stderr",
     "output_type": "stream",
     "text": [
      "[Stage 191:============================>                            (1 + 1) / 2]\r"
     ]
    },
    {
     "name": "stdout",
     "output_type": "stream",
     "text": [
      "In the mid-21st century, crop blights and dust storms threaten humanity's survival. Joseph Cooper, a widowed engineer and former NASA pilot, runs a farm with his father-in-law Donald, son Tom, and daughter Murphy. Living in a post-truth society, Cooper is reprimanded for telling Murphy that the Apollo missions were not fake; he encourages her to carefully observe and record what she sees. They discover that dust patterns, which Murphy first attributes to a ghost, result from gravity variations, and translate into geographic coordinates. These lead them to a secret NASA facility headed by Cooper's former supervisor, Professor John Brand, who explains that 48 years earlier a wormhole appeared near Saturn, opening a path to a distant galaxy with twelve potentially habitable planets located near a black hole named Gargantua. Volunteers had previously traveled through the wormhole to evaluate the planets, with Miller, Edmunds, and Mann reporting back desirable results. Brand explains he has conceived two plans to ensure humanity’s survival - Plan A involves developing a gravitational propulsion theory, allowing a mass exodus from Earth, while Plan B is a conventional launch of the Endurance spacecraft with 5,000 frozen embryos to colonize a habitable planet. Cooper is recruited to pilot the Endurance. When Murphy refuses to see him off, he leaves her his wristwatch to compare their relative time when he returns.\n",
      "The crew consists of Cooper, the robots TARS and CASE, and the scientists Dr. Amelia Brand, (Professor Brand's daughter), Romilly, and Doyle. After traversing the wormhole, Cooper, Doyle, and Brand use a lander to investigate Miller's planet, where time is severely dilated. After landing in knee-high water and finding only wreckage from Miller's expedition, a gigantic tidal wave kills Doyle and waterlogs the lander's engines. By the time the engines restart, 23 years have elapsed in terms of Earth time.\n",
      "Having enough fuel for only one of the other two planets, Cooper rules they go to Mann's, as he is still broadcasting. En route, they receive messages from Earth. Murphy Cooper is now a scientist working on Plan A. On his deathbed, Professor Brand reveals to her that Plan B was his only real plan, knowing that Plan A required observations of gravitational singularities from within a black hole.\n",
      "On Mann's planet, the Endurance crew revive Mann from cryostasis. He assures them colonization is possible, despite an extreme environment. On an excursion, Mann attempts to kill Cooper and reveals that he falsified the data in the hope of being rescued. He steals Cooper's lander and heads for the Endurance. While a booby trap set by Mann kills Romilly, Brand rescues Cooper with the other lander and they race to the Endurance. Mann is killed in a failed manual docking operation, severely damaging the Endurance. Through a difficult docking maneuver, Cooper regains control.\n",
      "With insufficient fuel, they resort to a slingshot around Gargantua which costs them another 51 years. In the process, Cooper and TARS must jettison their landers to allow Brand and CASE to reach Edmunds' planet. Slipping past the event horizon of Gargantua, they eject from their craft and find themselves in a tesseract, possibly constructed by humans of the far future. Across time, Cooper can see through the bookcases of Murphy's old room on Earth and weakly interact with its gravity. Realizing that he is now Murphy's \"ghost\", he manipulates the second hand of the wristwatch he gave her before he left, transmitting via Morse code the quantum data that TARS collected from inside the event horizon.\n",
      "The tesseract, its purpose completed, collapses and ejects Cooper and TARS. Cooper wakes on a huge station, orbiting Saturn. He reunites with Murphy, now an old woman nearing death. Using the quantum data, she was able to develop the gravitational propulsion theory, enabling humanity’s exodus and transformation into an advanced spacefaring civilization. She reminds Cooper that Amelia Brand is out there alone. Cooper and TARS take a spacecraft to rejoin Brand and CASE, who are setting up a human colony on Edmunds' habitable planet.\n"
     ]
    },
    {
     "name": "stderr",
     "output_type": "stream",
     "text": [
      "                                                                                \r"
     ]
    }
   ],
   "source": [
    "# here I am trying to use the actual plot of the movies as an input, but I haven't completed the code\n",
    "def acquire_plot(base_movie: str): \n",
    "  if base_movie.startswith(\"tt\"):   # search by movie name\n",
    "    base_movie_row = df.filter(df.id == base_movie).collect()\n",
    "  else:                             # search by movie id\n",
    "    base_movie_row = df.filter(df.Title == base_movie).collect()\n",
    "\n",
    "  if base_movie_row: \n",
    "    movie_plot = base_movie_row[0]['Plot']\n",
    "    return movie_plot\n",
    "  else: \n",
    "    print(\"Sorry, \", base_movie, \" is not found in the database\")\n",
    "    \n",
    "base_movie = acquire_plot(\"Interstellar\")  # enter the movie that you love\n",
    "print(base_movie)"
   ]
  },
  {
   "cell_type": "code",
   "execution_count": 65,
   "metadata": {},
   "outputs": [
    {
     "name": "stderr",
     "output_type": "stream",
     "text": [
      "                                                                                \r"
     ]
    },
    {
     "data": {
      "text/plain": [
       "DenseVector([-0.0125, -0.0248, 0.0072, -0.0221, -0.0018, 0.0967, -0.0404, -0.0131, -0.0187, 0.099, -0.0923, -0.0037, -0.0613, 0.001, 0.0088, 0.0426, -0.041, 0.0001, 0.0982, 0.0589, -0.0453, -0.0067, -0.1337, -0.037, 0.0664, 0.0126, 0.0177, -0.0226, 0.0136, 0.0644, 0.0489, 0.033, -0.0452, 0.0013, 0.0462, -0.0588, -0.0765, 0.0191, -0.0316, -0.1311, -0.0479, -0.0721, -0.0276, 0.1405, -0.0281, 0.0368, 0.0094, 0.0447, 0.0052, -0.0775, -0.0824, -0.0035, 0.0831, -0.1041, -0.0293, 0.0908, 0.0432, 0.0709, 0.0716, -0.0561, -0.0338, -0.0216, -0.0584, -0.0482, -0.0322, 0.0135, -0.0259, -0.0031, 0.0775, -0.0397, -0.11, -0.0452, -0.0637, 0.1082, 0.0217, -0.0621, -0.014, 0.0363, -0.0811, -0.0045, 0.0175, -0.0077, -0.0657, 0.0496, -0.0774, -0.0288, 0.1014, 0.0797, 0.0886, -0.1616, -0.0412, -0.0028, -0.0451, 0.0919, 0.0192, 0.0206, -0.0686, -0.0443, 0.008, 0.0089])"
      ]
     },
     "execution_count": 65,
     "metadata": {},
     "output_type": "execute_result"
    }
   ],
   "source": [
    "# experiment with word vector arithmetic\n",
    "# create extra element and transform it to word vectors\n",
    "extra_element = acquire_plot(\"Resident Evil: The Final Chapter\")      # enter the element you wish to add or subtract from the movie\n",
    "element_df = spark.createDataFrame([(1, extra_element)]).toDF('index','inputText')\n",
    "element_tok = regextok.transform(element_df)\n",
    "element_swr = stopwrmv.transform(element_tok)\n",
    "element_vec = model.transform(element_swr)\n",
    "element_vec = element_vec.select('wordvectors').collect()[0][0]\n",
    "element_vec"
   ]
  },
  {
   "cell_type": "code",
   "execution_count": 66,
   "metadata": {},
   "outputs": [
    {
     "data": {
      "text/plain": [
       "DenseVector([-0.0177, 0.0224, 0.0069, 0.0062, -0.0417, -0.0544, 0.0451, 0.0324, 0.0063, 0.0258, 0.0305, 0.0022, 0.0104, -0.0374, -0.0075, -0.0197, 0.0356, -0.0242, 0.05, -0.0501, 0.0289, 0.0025, 0.0472, 0.0154, 0.0324, -0.0109, 0.0435, -0.0312, -0.0316, -0.0171, 0.001, -0.0066, 0.0013, 0.0045, -0.0327, 0.0408, -0.0015, 0.0441, -0.0012, 0.0704, 0.0068, 0.0518, -0.0382, 0.026, 0.0826, 0.0313, 0.0132, 0.0043, 0.0037, 0.0112, -0.0234, -0.0006, -0.002, 0.0371, 0.0408, -0.0193, 0.0034, -0.0084, 0.0021, 0.0563, -0.0063, 0.0375, -0.0099, 0.0137, -0.0014, 0.0029, 0.0175, -0.0116, -0.0332, 0.0316, 0.0937, -0.0414, 0.113, -0.0371, 0.0421, -0.0274, -0.0052, -0.0264, 0.0471, 0.0043, 0.0001, -0.0093, 0.0382, 0.0004, -0.0078, -0.0047, -0.0368, -0.0793, -0.0172, 0.0215, -0.0201, 0.0144, 0.0514, -0.073, 0.0234, 0.0128, 0.0119, -0.0023, -0.0162, -0.0311])"
      ]
     },
     "execution_count": 66,
     "metadata": {},
     "output_type": "execute_result"
    }
   ],
   "source": [
    "# create search query and transform it to word vectors\n",
    "SEARCH_QUERY = base_movie\n",
    "query_df = spark.createDataFrame([(1, SEARCH_QUERY)]).toDF('index','inputText')\n",
    "query_tok = regextok.transform(query_df)\n",
    "query_swr = stopwrmv.transform(query_tok)\n",
    "query_vec = model.transform(query_swr)\n",
    "query_vec = query_vec.select('wordvectors').collect()[0][0]\n",
    "query_vec = query_vec - element_vec\n",
    "query_vec"
   ]
  },
  {
   "cell_type": "code",
   "execution_count": 67,
   "metadata": {},
   "outputs": [],
   "source": [
    "# define function to calculate cosine similarity\n",
    "import numpy as np\n",
    "def cossim(v1, v2): \n",
    "    '''\n",
    "        cossim(v1, v2) calculates the cosine similarity between v1 and v1.\n",
    "        If v1 or v2 is a zero vector, it will return 0\n",
    "    '''\n",
    "    if np.dot(v1, v1) == 0 or np.dot(v2, v2) == 0:\n",
    "        return 0.0\n",
    "    return float(np.dot(v1, v2) / np.sqrt(np.dot(v1, v1)) / (np.sqrt(np.dot(v2, v2))))\n",
    "\n",
    "data = [(i[0], float(cossim(query_vec, i[2])), i[1], i[3]) for i in chunks]"
   ]
  },
  {
   "cell_type": "code",
   "execution_count": 68,
   "metadata": {},
   "outputs": [
    {
     "name": "stderr",
     "output_type": "stream",
     "text": [
      "23/08/03 20:35:54 WARN TaskSetManager: Stage 200 contains a task of very large size (6703 KiB). The maximum recommended task size is 1000 KiB.\n",
      "[Stage 200:>                                                        (0 + 8) / 8]\r"
     ]
    },
    {
     "name": "stdout",
     "output_type": "stream",
     "text": [
      "+---------+-------------------+----------------------------+------------------------------------------------------------------------------------------------------------------------------------------------------------------------------------------------------------------------------------------------------------------------------------------------------------------------------------------------------------------------------------------------------------------------------------------------------------------------------------------------------------------------------------------------------------------------------------------------------------------------------------------------------------------------------------------------------------------------------+\n",
      "|movie_id |similarity         |Title                       |Plot                                                                                                                                                                                                                                                                                                                                                                                                                                                                                                                                                                                                                                                                                                                          |\n",
      "+---------+-------------------+----------------------------+------------------------------------------------------------------------------------------------------------------------------------------------------------------------------------------------------------------------------------------------------------------------------------------------------------------------------------------------------------------------------------------------------------------------------------------------------------------------------------------------------------------------------------------------------------------------------------------------------------------------------------------------------------------------------------------------------------------------------+\n",
      "|tt0019400|0.3580409055612527 |The Smart Set               |A self-centered polo player (Haines) has to redeem himself after he is kicked off the U.S. team.                                                                                                                                                                                                                                                                                                                                                                                                                                                                                                                                                                                                                              |\n",
      "|tt6608148|0.34693420645152867|Come, Together              |An outlook on an ordinary Korean family contending with societal pressures in everyday life.                                                                                                                                                                                                                                                                                                                                                                                                                                                                                                                                                                                                                                  |\n",
      "|tt0165668|0.31761480092439714|Cha-Cha-Cha Boom!           |An American record executive (Stephen Dunne) travels to Cuba to find some talent for his record label.                                                                                                                                                                                                                                                                                                                                                                                                                                                                                                                                                                                                                        |\n",
      "|tt0036875|0.31699121129100943|Goodnight, Sweetheart       |Goodnight, Sweetheart is a comedy that includes a couple's offbeat romance. Mainly, a reporter takes on the mayoral race of a candidate that has been endorsed by a rival newspaper.[4]                                                                                                                                                                                                                                                                                                                                                                                                                                                                                                                                       |\n",
      "|tt0492931|0.31696488529765354|The 11th Hour               |With contributions from over 50 politicians, scientists, and environmental activists, including former Soviet leader Mikhail Gorbachev, physicist Stephen Hawking, Nobel Prize winner Wangari Maathai, journalist Armand Betscher, and Paul Hawken, the film documents the grave problems facing the planet's life systems. Global warming, deforestation, mass species extinction, and depletion of the oceans' habitats are all addressed. The film's premise is that the future of humanity is in jeopardy.\\nThe film proposes potential solutions to these problems by calling for restorative action by the reshaping and rethinking of global human activity through technology, social responsibility and conservation.|\n",
      "|tt1043415|0.31696488529765354|The 11th Hour               |With contributions from over 50 politicians, scientists, and environmental activists, including former Soviet leader Mikhail Gorbachev, physicist Stephen Hawking, Nobel Prize winner Wangari Maathai, journalist Armand Betscher, and Paul Hawken, the film documents the grave problems facing the planet's life systems. Global warming, deforestation, mass species extinction, and depletion of the oceans' habitats are all addressed. The film's premise is that the future of humanity is in jeopardy.\\nThe film proposes potential solutions to these problems by calling for restorative action by the reshaping and rethinking of global human activity through technology, social responsibility and conservation.|\n",
      "|tt0011164|0.2956336602463064 |Experience                  |The plot of Experience was summarized in the August 1921 issue of Photoplay magazine.                                                                                                                                                                                                                                                                                                                                                                                                                                                                                                                                                                                                                                         |\n",
      "|tt4818662|0.29252910870431204|Satoshi: A Move for Tomorrow|The film portrays the life of Satoshi Murayama (1969-1998), who was a professional shogi player.                                                                                                                                                                                                                                                                                                                                                                                                                                                                                                                                                                                                                              |\n",
      "|tt0245977|0.2825925745866385 |Jadu Tona                   |Bekar hai sab kich | url=http://www.imdb.com/title/tt0245977/%7Cdate=September 2015}}                                                                                                                                                                                                                                                                                                                                                                                                                                                                                                                                                                                                                                         |\n",
      "|tt0034512|0.27324955424902797|The Big Blockade            |This is a propaganda film in which the British strategy of the economic blockade of Nazi Germany is illustrated through a series of scenes and sketches, combined with documentary footage.                                                                                                                                                                                                                                                                                                                                                                                                                                                                                                                                   |\n",
      "+---------+-------------------+----------------------------+------------------------------------------------------------------------------------------------------------------------------------------------------------------------------------------------------------------------------------------------------------------------------------------------------------------------------------------------------------------------------------------------------------------------------------------------------------------------------------------------------------------------------------------------------------------------------------------------------------------------------------------------------------------------------------------------------------------------------+\n",
      "only showing top 10 rows\n",
      "\n"
     ]
    },
    {
     "name": "stderr",
     "output_type": "stream",
     "text": [
      "                                                                                \r"
     ]
    }
   ],
   "source": [
    "sim_df = spark.createDataFrame(data).toDF('movie_id', 'similarity', 'Title', 'Plot').orderBy('similarity', ascending=False)\n",
    "sim_df.show(10, truncate = False)"
   ]
  },
  {
   "cell_type": "code",
   "execution_count": null,
   "metadata": {},
   "outputs": [],
   "source": []
  }
 ],
 "metadata": {
  "kernelspec": {
   "display_name": "Python 3 (ipykernel)",
   "language": "python",
   "name": "python3"
  },
  "language_info": {
   "codemirror_mode": {
    "name": "ipython",
    "version": 3
   },
   "file_extension": ".py",
   "mimetype": "text/x-python",
   "name": "python",
   "nbconvert_exporter": "python",
   "pygments_lexer": "ipython3",
   "version": "3.11.2"
  }
 },
 "nbformat": 4,
 "nbformat_minor": 2
}
